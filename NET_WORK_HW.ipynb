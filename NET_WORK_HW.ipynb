{
 "cells": [
  {
   "cell_type": "markdown",
   "metadata": {},
   "source": [
    "# 1. Twitter Data Collection"
   ]
  },
  {
   "cell_type": "code",
   "execution_count": 1,
   "metadata": {},
   "outputs": [
    {
     "name": "stdout",
     "output_type": "stream",
     "text": [
      "{\n",
      "    \"quote_count\": 0, \n",
      "    \"contributors\": null, \n",
      "    \"truncated\": false, \n",
      "    \"text\": \"Balade Runner est un film long, difficile \\u00e0 suivre parfois mais tellement fascinant. H\\u00e2te de voir #BladeRunner2049 !\", \n",
      "    \"is_quote_status\": false, \n",
      "    \"in_reply_to_status_id\": null, \n",
      "    \"reply_count\": 0, \n",
      "    \"id\": 918953409394470912, \n",
      "    \"favorite_count\": 0, \n",
      "    \"source\": \"<a href=\\\"http://twitter.com/download/android\\\" rel=\\\"nofollow\\\">Twitter for Android</a>\", \n",
      "    \"retweeted\": false, \n",
      "    \"coordinates\": null, \n",
      "    \"timestamp_ms\": \"1507930540785\", \n",
      "    \"entities\": {\n",
      "        \"user_mentions\": [], \n",
      "        \"symbols\": [], \n",
      "        \"hashtags\": [\n",
      "            {\n",
      "                \"indices\": [\n",
      "                    98, \n",
      "                    114\n",
      "                ], \n",
      "                \"text\": \"BladeRunner2049\"\n",
      "            }\n",
      "        ], \n",
      "        \"urls\": []\n",
      "    }, \n",
      "    \"in_reply_to_screen_name\": null, \n",
      "    \"id_str\": \"918953409394470912\", \n",
      "    \"retweet_count\": 0, \n",
      "    \"in_reply_to_user_id\": null, \n",
      "    \"favorited\": false, \n",
      "    \"user\": {\n",
      "        \"follow_request_sent\": null, \n",
      "        \"profile_use_background_image\": false, \n",
      "        \"default_profile_image\": false, \n",
      "        \"id\": 778225909232992256, \n",
      "        \"default_profile\": false, \n",
      "        \"verified\": false, \n",
      "        \"profile_image_url_https\": \"https://pbs.twimg.com/profile_images/915651010999341056/u1r7Th5g_normal.jpg\", \n",
      "        \"profile_sidebar_fill_color\": \"000000\", \n",
      "        \"profile_text_color\": \"000000\", \n",
      "        \"followers_count\": 55, \n",
      "        \"profile_sidebar_border_color\": \"000000\", \n",
      "        \"id_str\": \"778225909232992256\", \n",
      "        \"profile_background_color\": \"000000\", \n",
      "        \"listed_count\": 1, \n",
      "        \"profile_background_image_url_https\": \"https://abs.twimg.com/images/themes/theme1/bg.png\", \n",
      "        \"utc_offset\": -25200, \n",
      "        \"statuses_count\": 1079, \n",
      "        \"description\": \"\\u30fd(\\u30fb\\u2200\\u30fb)\\uff89\", \n",
      "        \"friends_count\": 158, \n",
      "        \"location\": null, \n",
      "        \"profile_link_color\": \"FF691F\", \n",
      "        \"profile_image_url\": \"http://pbs.twimg.com/profile_images/915651010999341056/u1r7Th5g_normal.jpg\", \n",
      "        \"following\": null, \n",
      "        \"geo_enabled\": true, \n",
      "        \"profile_banner_url\": \"https://pbs.twimg.com/profile_banners/778225909232992256/1503820764\", \n",
      "        \"profile_background_image_url\": \"http://abs.twimg.com/images/themes/theme1/bg.png\", \n",
      "        \"name\": \"Paul Gaultier\", \n",
      "        \"lang\": \"fr\", \n",
      "        \"profile_background_tile\": false, \n",
      "        \"favourites_count\": 422, \n",
      "        \"screen_name\": \"htxblog\", \n",
      "        \"notifications\": null, \n",
      "        \"url\": \"http://htxnews.wordpress.com\", \n",
      "        \"created_at\": \"Tue Sep 20 13:34:50 +0000 2016\", \n",
      "        \"contributors_enabled\": false, \n",
      "        \"time_zone\": \"Pacific Time (US & Canada)\", \n",
      "        \"protected\": false, \n",
      "        \"translator_type\": \"none\", \n",
      "        \"is_translator\": false\n",
      "    }, \n",
      "    \"geo\": null, \n",
      "    \"in_reply_to_user_id_str\": null, \n",
      "    \"lang\": \"fr\", \n",
      "    \"created_at\": \"Fri Oct 13 21:35:40 +0000 2017\", \n",
      "    \"filter_level\": \"low\", \n",
      "    \"in_reply_to_status_id_str\": null, \n",
      "    \"place\": null\n",
      "}\n"
     ]
    }
   ],
   "source": [
    "import json\n",
    " \n",
    "with open('data/movie.json', 'r') as f:\n",
    "    line = f.readline() # read only the first tweet/line\n",
    "    tweet = json.loads(line) # load it as Python dictionary\n",
    "    print(json.dumps(tweet, indent=4)) \n",
    "    \n",
    "# the original data from Twitter looks like below."
   ]
  },
  {
   "cell_type": "code",
   "execution_count": 2,
   "metadata": {},
   "outputs": [
    {
     "name": "stdout",
     "output_type": "stream",
     "text": [
      "81305\n"
     ]
    }
   ],
   "source": [
    "import json\n",
    "\n",
    "# create an empty list to store our tweets in\n",
    "data = []\n",
    "\n",
    "# append each line of the data to our tweets list using the json module\n",
    "for line in open('data/movie.json'):\n",
    "    try:\n",
    "        data.append(json.loads(line))\n",
    "    except:\n",
    "        pass\n",
    "\n",
    "# lets see how many we got\n",
    "print len(data)"
   ]
  },
  {
   "cell_type": "code",
   "execution_count": 3,
   "metadata": {},
   "outputs": [
    {
     "data": {
      "text/plain": [
       "81297"
      ]
     },
     "execution_count": 3,
     "metadata": {},
     "output_type": "execute_result"
    }
   ],
   "source": [
    "# removing those 22 error messages\n",
    "tweets = []\n",
    "for T in data:\n",
    "    if 'text' in T:\n",
    "        tweets.append(T)\n",
    "len(tweets)       \n",
    "#now we have 8902 ... good!!!"
   ]
  },
  {
   "cell_type": "code",
   "execution_count": 4,
   "metadata": {},
   "outputs": [
    {
     "data": {
      "text/plain": [
       "51678"
      ]
     },
     "execution_count": 4,
     "metadata": {},
     "output_type": "execute_result"
    }
   ],
   "source": [
    "english = []\n",
    "for i in tweets:\n",
    "    lang = i['user']['lang']\n",
    "    if lang == \"en\":\n",
    "        english.append([i['user']['screen_name'], i['text']]) \n",
    "len(english)\n",
    "        \n",
    "    "
   ]
  },
  {
   "cell_type": "code",
   "execution_count": 5,
   "metadata": {},
   "outputs": [
    {
     "data": {
      "text/plain": [
       "7396"
      ]
     },
     "execution_count": 5,
     "metadata": {},
     "output_type": "execute_result"
    }
   ],
   "source": [
    "original = []\n",
    "for i in bladerunner:\n",
    "    if 'rt @' not in i[1].lower():\n",
    "        original.append(i)\n",
    "len(original)"
   ]
  },
  {
   "cell_type": "code",
   "execution_count": 4,
   "metadata": {},
   "outputs": [
    {
     "data": {
      "text/plain": [
       "22640"
      ]
     },
     "execution_count": 4,
     "metadata": {},
     "output_type": "execute_result"
    }
   ],
   "source": [
    "bladerunner = []\n",
    "\n",
    "for i in tweets:\n",
    "    lang = i['user']['lang']\n",
    "    if lang == \"en\":\n",
    "        if 'bladerunner2049' in i['text'].lower():\n",
    "            bladerunner.append([i['user']['screen_name'], i['text']])\n",
    "        \n",
    "len(bladerunner)"
   ]
  },
  {
   "cell_type": "code",
   "execution_count": 14,
   "metadata": {},
   "outputs": [
    {
     "data": {
      "text/plain": [
       "[[u'charliehall300',\n",
       "  u'#BladeRunner2049 just reminded me what cinema is capable of. Phenomenal.\\nFilm of the year (pre-Star Wars, of course).'],\n",
       " [u'istodius',\n",
       "  u\"The longest 2.5 hours of my life...and, the most gratuitous needless use of naked young females I've seen for a long time #Bladerunner2049\"],\n",
       " [u'coachforward',\n",
       "  u\"\\u201cI always told you. You're special. Your history isn't over yet. There's still a page left.\\u201d #BladeRunner2049 https://t.co/QcllcTaZi7\"],\n",
       " [u'DoomBoxPro',\n",
       "  u\"So... #BladeRunner2049. Really good movie, definitely in my Top 10 of the year... But it is one of Denis' weakest &amp; the original is better.\"],\n",
       " [u'_clocolan',\n",
       "  u'The music for #BladeRunner2049 was mostly everything it needed to be. A non-traditional soundtrack that fit this non-traditional film.']]"
      ]
     },
     "execution_count": 14,
     "metadata": {},
     "output_type": "execute_result"
    }
   ],
   "source": [
    "original[:5]"
   ]
  },
  {
   "cell_type": "code",
   "execution_count": 6,
   "metadata": {
    "collapsed": true
   },
   "outputs": [],
   "source": [
    "# display screen_name, tweets\n",
    "mydata = []\n",
    "for i in original[:300]:\n",
    "    mydata.append(i)"
   ]
  },
  {
   "cell_type": "code",
   "execution_count": 7,
   "metadata": {},
   "outputs": [
    {
     "name": "stdout",
     "output_type": "stream",
     "text": [
      "[[u'charliehall300', u'#BladeRunner2049 just reminded me what cinema is capable of. Phenomenal.\\nFilm of the year (pre-Star Wars, of course).'], [u'istodius', u\"The longest 2.5 hours of my life...and, the most gratuitous needless use of naked young females I've seen for a long time #Bladerunner2049\"], [u'coachforward', u\"\\u201cI always told you. You're special. Your history isn't over yet. There's still a page left.\\u201d #BladeRunner2049 https://t.co/QcllcTaZi7\"], [u'DoomBoxPro', u\"So... #BladeRunner2049. Really good movie, definitely in my Top 10 of the year... But it is one of Denis' weakest &amp; the original is better.\"], [u'_clocolan', u'The music for #BladeRunner2049 was mostly everything it needed to be. A non-traditional soundtrack that fit this non-traditional film.']]\n"
     ]
    }
   ],
   "source": [
    "print mydata[:5]"
   ]
  },
  {
   "cell_type": "code",
   "execution_count": 8,
   "metadata": {},
   "outputs": [
    {
     "data": {
      "text/html": [
       "<div>\n",
       "<style>\n",
       "    .dataframe thead tr:only-child th {\n",
       "        text-align: right;\n",
       "    }\n",
       "\n",
       "    .dataframe thead th {\n",
       "        text-align: left;\n",
       "    }\n",
       "\n",
       "    .dataframe tbody tr th {\n",
       "        vertical-align: top;\n",
       "    }\n",
       "</style>\n",
       "<table border=\"1\" class=\"dataframe\">\n",
       "  <thead>\n",
       "    <tr style=\"text-align: right;\">\n",
       "      <th></th>\n",
       "      <th>0</th>\n",
       "      <th>1</th>\n",
       "    </tr>\n",
       "  </thead>\n",
       "  <tbody>\n",
       "    <tr>\n",
       "      <th>0</th>\n",
       "      <td>charliehall300</td>\n",
       "      <td>#BladeRunner2049 just reminded me what cinema ...</td>\n",
       "    </tr>\n",
       "    <tr>\n",
       "      <th>1</th>\n",
       "      <td>istodius</td>\n",
       "      <td>The longest 2.5 hours of my life...and, the mo...</td>\n",
       "    </tr>\n",
       "    <tr>\n",
       "      <th>2</th>\n",
       "      <td>coachforward</td>\n",
       "      <td>“I always told you. You're special. Your histo...</td>\n",
       "    </tr>\n",
       "    <tr>\n",
       "      <th>3</th>\n",
       "      <td>DoomBoxPro</td>\n",
       "      <td>So... #BladeRunner2049. Really good movie, def...</td>\n",
       "    </tr>\n",
       "    <tr>\n",
       "      <th>4</th>\n",
       "      <td>_clocolan</td>\n",
       "      <td>The music for #BladeRunner2049 was mostly ever...</td>\n",
       "    </tr>\n",
       "    <tr>\n",
       "      <th>5</th>\n",
       "      <td>drannawatts</td>\n",
       "      <td>Bloody hell #BladeRunner2049 is good. Music st...</td>\n",
       "    </tr>\n",
       "    <tr>\n",
       "      <th>6</th>\n",
       "      <td>MusicBoxHR</td>\n",
       "      <td>@bladerunner stigao na recenziju. Više na http...</td>\n",
       "    </tr>\n",
       "    <tr>\n",
       "      <th>7</th>\n",
       "      <td>BSGDrew</td>\n",
       "      <td>#BladeRunner2049 is easily one of the best mov...</td>\n",
       "    </tr>\n",
       "    <tr>\n",
       "      <th>8</th>\n",
       "      <td>armgra</td>\n",
       "      <td>@ortyzapple Ecco le prove #BladeRunner2049 htt...</td>\n",
       "    </tr>\n",
       "    <tr>\n",
       "      <th>9</th>\n",
       "      <td>TheMelFarley</td>\n",
       "      <td>ICYMI: @goodyk and I talk a lot, and answer qu...</td>\n",
       "    </tr>\n",
       "    <tr>\n",
       "      <th>10</th>\n",
       "      <td>FunSizedFarley</td>\n",
       "      <td>ICYMI: @goodyk and I talk a lot, and answer qu...</td>\n",
       "    </tr>\n",
       "    <tr>\n",
       "      <th>11</th>\n",
       "      <td>LilacLady247</td>\n",
       "      <td>Saw it yesterday - LOVED it! &amp;lt;3 👍\\n#BladeR...</td>\n",
       "    </tr>\n",
       "    <tr>\n",
       "      <th>12</th>\n",
       "      <td>PopCultureCosmo</td>\n",
       "      <td>We talk #TheLastJedi #NFL #ShadowofWar #Marvel...</td>\n",
       "    </tr>\n",
       "    <tr>\n",
       "      <th>13</th>\n",
       "      <td>retconning</td>\n",
       "      <td>I just saw #BladeRunner2049! Gonna hang onto m...</td>\n",
       "    </tr>\n",
       "    <tr>\n",
       "      <th>14</th>\n",
       "      <td>emeraldvalor</td>\n",
       "      <td>#BladeRunner2049 reaction on #StardustApp http...</td>\n",
       "    </tr>\n",
       "    <tr>\n",
       "      <th>15</th>\n",
       "      <td>MoviesDundrum</td>\n",
       "      <td>See why #BladeRunner2049 is an absolute triump...</td>\n",
       "    </tr>\n",
       "    <tr>\n",
       "      <th>16</th>\n",
       "      <td>MoviesSwords</td>\n",
       "      <td>See why #BladeRunner2049 is an absolute triump...</td>\n",
       "    </tr>\n",
       "    <tr>\n",
       "      <th>17</th>\n",
       "      <td>CrookesMagazine</td>\n",
       "      <td>Who gave the best performance in 'Blade Runner...</td>\n",
       "    </tr>\n",
       "    <tr>\n",
       "      <th>18</th>\n",
       "      <td>premieresmovies</td>\n",
       "      <td>#Movies #BladeRunner2049 Blade Runner 2049: TV...</td>\n",
       "    </tr>\n",
       "    <tr>\n",
       "      <th>19</th>\n",
       "      <td>Me_and_bowie</td>\n",
       "      <td>Finally, #BladeRunner2049! How long have I wai...</td>\n",
       "    </tr>\n",
       "    <tr>\n",
       "      <th>20</th>\n",
       "      <td>Kernow_Life</td>\n",
       "      <td>@NewlynFilmhouse we seen #bladerunner2049 3 da...</td>\n",
       "    </tr>\n",
       "    <tr>\n",
       "      <th>21</th>\n",
       "      <td>WhiteRoninFilms</td>\n",
       "      <td>#Hollywood star #RyanGosling on the pressure o...</td>\n",
       "    </tr>\n",
       "    <tr>\n",
       "      <th>22</th>\n",
       "      <td>Moviesatezine</td>\n",
       "      <td>See why #BladeRunner2049 is an absolute triump...</td>\n",
       "    </tr>\n",
       "    <tr>\n",
       "      <th>23</th>\n",
       "      <td>DamianNixey</td>\n",
       "      <td>#Hollywood star #RyanGosling on the pressure o...</td>\n",
       "    </tr>\n",
       "    <tr>\n",
       "      <th>24</th>\n",
       "      <td>MrandMrs_Clark</td>\n",
       "      <td>#BladeRunner2049 and then @Lepub for a swift d...</td>\n",
       "    </tr>\n",
       "    <tr>\n",
       "      <th>25</th>\n",
       "      <td>MattTheCatania</td>\n",
       "      <td>#BladeRunner2049 K’s life is a sad trombone. h...</td>\n",
       "    </tr>\n",
       "    <tr>\n",
       "      <th>26</th>\n",
       "      <td>KokeReport</td>\n",
       "      <td>BLADE RUNNER 2049\\n$2.2M Thursday\\n$45.4M firs...</td>\n",
       "    </tr>\n",
       "    <tr>\n",
       "      <th>27</th>\n",
       "      <td>ryan_poker_</td>\n",
       "      <td>@23andMe will your service notify the governme...</td>\n",
       "    </tr>\n",
       "    <tr>\n",
       "      <th>28</th>\n",
       "      <td>JimFrench2</td>\n",
       "      <td>@archiebunkerUK equally...who is going to feed...</td>\n",
       "    </tr>\n",
       "    <tr>\n",
       "      <th>29</th>\n",
       "      <td>greg_jenner</td>\n",
       "      <td>#BladeRunner2049 is magnificent. Holy moly.</td>\n",
       "    </tr>\n",
       "    <tr>\n",
       "      <th>...</th>\n",
       "      <td>...</td>\n",
       "      <td>...</td>\n",
       "    </tr>\n",
       "    <tr>\n",
       "      <th>270</th>\n",
       "      <td>filmfrackers</td>\n",
       "      <td>Maybe it's the lack of sleep but after seeing ...</td>\n",
       "    </tr>\n",
       "    <tr>\n",
       "      <th>271</th>\n",
       "      <td>MannKind2919</td>\n",
       "      <td>#BladeRunner2049 Visually Stunning but very bo...</td>\n",
       "    </tr>\n",
       "    <tr>\n",
       "      <th>272</th>\n",
       "      <td>gaitoulabackder</td>\n",
       "      <td>Cells. Interlinked. Mixed feelings on #BladeRu...</td>\n",
       "    </tr>\n",
       "    <tr>\n",
       "      <th>273</th>\n",
       "      <td>vikingdrewby</td>\n",
       "      <td>#BladeRunner2049 has barely earned back half o...</td>\n",
       "    </tr>\n",
       "    <tr>\n",
       "      <th>274</th>\n",
       "      <td>amarohk</td>\n",
       "      <td>Hahaha #BladeRunner2049 https://t.co/dk4YvyHI0M</td>\n",
       "    </tr>\n",
       "    <tr>\n",
       "      <th>275</th>\n",
       "      <td>alrod77</td>\n",
       "      <td>@JaredLeto I just received my #Wallace #FunkoP...</td>\n",
       "    </tr>\n",
       "    <tr>\n",
       "      <th>276</th>\n",
       "      <td>nushyb</td>\n",
       "      <td>I enjoyed #BladeRunner2049 a lot, but I just r...</td>\n",
       "    </tr>\n",
       "    <tr>\n",
       "      <th>277</th>\n",
       "      <td>Reen_Vogel</td>\n",
       "      <td>#BladeRunner2049 No. Just. No.</td>\n",
       "    </tr>\n",
       "    <tr>\n",
       "      <th>278</th>\n",
       "      <td>nushyb</td>\n",
       "      <td>Also shout out to Ryan Gosling and his coat #B...</td>\n",
       "    </tr>\n",
       "    <tr>\n",
       "      <th>279</th>\n",
       "      <td>kbeats11</td>\n",
       "      <td>#BladeRunner2049 why did they get rid of the l...</td>\n",
       "    </tr>\n",
       "    <tr>\n",
       "      <th>280</th>\n",
       "      <td>LadyAvianna</td>\n",
       "      <td>Going to see #BladeRunner2049 tonight... then ...</td>\n",
       "    </tr>\n",
       "    <tr>\n",
       "      <th>281</th>\n",
       "      <td>Destro7000</td>\n",
       "      <td>I uploaded a video Review of #BladeRunner2049 ...</td>\n",
       "    </tr>\n",
       "    <tr>\n",
       "      <th>282</th>\n",
       "      <td>accidentalflyer</td>\n",
       "      <td>#BladeRunner2049 How's that the most powerful,...</td>\n",
       "    </tr>\n",
       "    <tr>\n",
       "      <th>283</th>\n",
       "      <td>KarinfromMars</td>\n",
       "      <td>Total movie perfection \\nYou were flawless @Ja...</td>\n",
       "    </tr>\n",
       "    <tr>\n",
       "      <th>284</th>\n",
       "      <td>0008th</td>\n",
       "      <td>A few thoughts on #BladeRunner2049. It is the ...</td>\n",
       "    </tr>\n",
       "    <tr>\n",
       "      <th>285</th>\n",
       "      <td>Lifeson90</td>\n",
       "      <td>First time you watch #BladeRunner2049 you'll t...</td>\n",
       "    </tr>\n",
       "    <tr>\n",
       "      <th>286</th>\n",
       "      <td>ThomasHo83</td>\n",
       "      <td>#BladeRunner2049 is a modern masterpiece! Visu...</td>\n",
       "    </tr>\n",
       "    <tr>\n",
       "      <th>287</th>\n",
       "      <td>Ayyappakumar10</td>\n",
       "      <td>#BladeRunner2049  is further dropping at the b...</td>\n",
       "    </tr>\n",
       "    <tr>\n",
       "      <th>288</th>\n",
       "      <td>urbanduniya</td>\n",
       "      <td>Why I liked #BladeRunner2049...\\n\\nhttps://t.c...</td>\n",
       "    </tr>\n",
       "    <tr>\n",
       "      <th>289</th>\n",
       "      <td>AlexVartzbed</td>\n",
       "      <td>So I watched #bladerunner2049 what an epic pie...</td>\n",
       "    </tr>\n",
       "    <tr>\n",
       "      <th>290</th>\n",
       "      <td>StefanGural</td>\n",
       "      <td>#BladeRunner2049 is a far superior sequel to t...</td>\n",
       "    </tr>\n",
       "    <tr>\n",
       "      <th>291</th>\n",
       "      <td>StefanGural</td>\n",
       "      <td>30+ years &amp;amp; 2 movies and they STILL have y...</td>\n",
       "    </tr>\n",
       "    <tr>\n",
       "      <th>292</th>\n",
       "      <td>Lifeson90</td>\n",
       "      <td>#SylviaHoeks undoubtedly the star of #BladeRun...</td>\n",
       "    </tr>\n",
       "    <tr>\n",
       "      <th>293</th>\n",
       "      <td>leenmaz</td>\n",
       "      <td>Am I the only one who thought #BladeRunner2049...</td>\n",
       "    </tr>\n",
       "    <tr>\n",
       "      <th>294</th>\n",
       "      <td>MadeByLev</td>\n",
       "      <td>After watching #BladeRunner2049 I think Deckar...</td>\n",
       "    </tr>\n",
       "    <tr>\n",
       "      <th>295</th>\n",
       "      <td>cinemanova</td>\n",
       "      <td>“I have heard ‘Don’t f--- it up’ a lot.” Ryan ...</td>\n",
       "    </tr>\n",
       "    <tr>\n",
       "      <th>296</th>\n",
       "      <td>QuarkKay</td>\n",
       "      <td>Go see #bladerunner2049 right now. I’m not kid...</td>\n",
       "    </tr>\n",
       "    <tr>\n",
       "      <th>297</th>\n",
       "      <td>sttepodcast</td>\n",
       "      <td>It's #podcast time! We review #BladeRunner2049...</td>\n",
       "    </tr>\n",
       "    <tr>\n",
       "      <th>298</th>\n",
       "      <td>zabisara</td>\n",
       "      <td>And I was wondering why the heck $MANA went up...</td>\n",
       "    </tr>\n",
       "    <tr>\n",
       "      <th>299</th>\n",
       "      <td>Brinskifromkc</td>\n",
       "      <td>Going to see #BladeRunner2049 tomorrow.  Watch...</td>\n",
       "    </tr>\n",
       "  </tbody>\n",
       "</table>\n",
       "<p>300 rows × 2 columns</p>\n",
       "</div>"
      ],
      "text/plain": [
       "                   0                                                  1\n",
       "0     charliehall300  #BladeRunner2049 just reminded me what cinema ...\n",
       "1           istodius  The longest 2.5 hours of my life...and, the mo...\n",
       "2       coachforward  “I always told you. You're special. Your histo...\n",
       "3         DoomBoxPro  So... #BladeRunner2049. Really good movie, def...\n",
       "4          _clocolan  The music for #BladeRunner2049 was mostly ever...\n",
       "5        drannawatts  Bloody hell #BladeRunner2049 is good. Music st...\n",
       "6         MusicBoxHR  @bladerunner stigao na recenziju. Više na http...\n",
       "7            BSGDrew  #BladeRunner2049 is easily one of the best mov...\n",
       "8             armgra  @ortyzapple Ecco le prove #BladeRunner2049 htt...\n",
       "9       TheMelFarley  ICYMI: @goodyk and I talk a lot, and answer qu...\n",
       "10    FunSizedFarley  ICYMI: @goodyk and I talk a lot, and answer qu...\n",
       "11      LilacLady247  Saw it yesterday - LOVED it! &lt;3 👍\\n#BladeR...\n",
       "12   PopCultureCosmo  We talk #TheLastJedi #NFL #ShadowofWar #Marvel...\n",
       "13        retconning  I just saw #BladeRunner2049! Gonna hang onto m...\n",
       "14      emeraldvalor  #BladeRunner2049 reaction on #StardustApp http...\n",
       "15     MoviesDundrum  See why #BladeRunner2049 is an absolute triump...\n",
       "16      MoviesSwords  See why #BladeRunner2049 is an absolute triump...\n",
       "17   CrookesMagazine  Who gave the best performance in 'Blade Runner...\n",
       "18   premieresmovies  #Movies #BladeRunner2049 Blade Runner 2049: TV...\n",
       "19      Me_and_bowie  Finally, #BladeRunner2049! How long have I wai...\n",
       "20       Kernow_Life  @NewlynFilmhouse we seen #bladerunner2049 3 da...\n",
       "21   WhiteRoninFilms  #Hollywood star #RyanGosling on the pressure o...\n",
       "22     Moviesatezine  See why #BladeRunner2049 is an absolute triump...\n",
       "23       DamianNixey  #Hollywood star #RyanGosling on the pressure o...\n",
       "24    MrandMrs_Clark  #BladeRunner2049 and then @Lepub for a swift d...\n",
       "25    MattTheCatania  #BladeRunner2049 K’s life is a sad trombone. h...\n",
       "26        KokeReport  BLADE RUNNER 2049\\n$2.2M Thursday\\n$45.4M firs...\n",
       "27       ryan_poker_  @23andMe will your service notify the governme...\n",
       "28        JimFrench2  @archiebunkerUK equally...who is going to feed...\n",
       "29       greg_jenner        #BladeRunner2049 is magnificent. Holy moly.\n",
       "..               ...                                                ...\n",
       "270     filmfrackers  Maybe it's the lack of sleep but after seeing ...\n",
       "271     MannKind2919  #BladeRunner2049 Visually Stunning but very bo...\n",
       "272  gaitoulabackder  Cells. Interlinked. Mixed feelings on #BladeRu...\n",
       "273     vikingdrewby  #BladeRunner2049 has barely earned back half o...\n",
       "274          amarohk    Hahaha #BladeRunner2049 https://t.co/dk4YvyHI0M\n",
       "275          alrod77  @JaredLeto I just received my #Wallace #FunkoP...\n",
       "276           nushyb  I enjoyed #BladeRunner2049 a lot, but I just r...\n",
       "277       Reen_Vogel                     #BladeRunner2049 No. Just. No.\n",
       "278           nushyb  Also shout out to Ryan Gosling and his coat #B...\n",
       "279         kbeats11  #BladeRunner2049 why did they get rid of the l...\n",
       "280      LadyAvianna  Going to see #BladeRunner2049 tonight... then ...\n",
       "281       Destro7000  I uploaded a video Review of #BladeRunner2049 ...\n",
       "282  accidentalflyer  #BladeRunner2049 How's that the most powerful,...\n",
       "283    KarinfromMars  Total movie perfection \\nYou were flawless @Ja...\n",
       "284           0008th  A few thoughts on #BladeRunner2049. It is the ...\n",
       "285        Lifeson90  First time you watch #BladeRunner2049 you'll t...\n",
       "286       ThomasHo83  #BladeRunner2049 is a modern masterpiece! Visu...\n",
       "287   Ayyappakumar10  #BladeRunner2049  is further dropping at the b...\n",
       "288      urbanduniya  Why I liked #BladeRunner2049...\\n\\nhttps://t.c...\n",
       "289     AlexVartzbed  So I watched #bladerunner2049 what an epic pie...\n",
       "290      StefanGural  #BladeRunner2049 is a far superior sequel to t...\n",
       "291      StefanGural  30+ years &amp; 2 movies and they STILL have y...\n",
       "292        Lifeson90  #SylviaHoeks undoubtedly the star of #BladeRun...\n",
       "293          leenmaz  Am I the only one who thought #BladeRunner2049...\n",
       "294        MadeByLev  After watching #BladeRunner2049 I think Deckar...\n",
       "295       cinemanova  “I have heard ‘Don’t f--- it up’ a lot.” Ryan ...\n",
       "296         QuarkKay  Go see #bladerunner2049 right now. I’m not kid...\n",
       "297      sttepodcast  It's #podcast time! We review #BladeRunner2049...\n",
       "298         zabisara  And I was wondering why the heck $MANA went up...\n",
       "299    Brinskifromkc  Going to see #BladeRunner2049 tomorrow.  Watch...\n",
       "\n",
       "[300 rows x 2 columns]"
      ]
     },
     "execution_count": 8,
     "metadata": {},
     "output_type": "execute_result"
    }
   ],
   "source": [
    "import pandas as pd\n",
    "mydata1 = pd.DataFrame(mydata)\n",
    "mydata1"
   ]
  },
  {
   "cell_type": "code",
   "execution_count": 18,
   "metadata": {},
   "outputs": [
    {
     "data": {
      "text/html": [
       "<div>\n",
       "<style>\n",
       "    .dataframe thead tr:only-child th {\n",
       "        text-align: right;\n",
       "    }\n",
       "\n",
       "    .dataframe thead th {\n",
       "        text-align: left;\n",
       "    }\n",
       "\n",
       "    .dataframe tbody tr th {\n",
       "        vertical-align: top;\n",
       "    }\n",
       "</style>\n",
       "<table border=\"1\" class=\"dataframe\">\n",
       "  <thead>\n",
       "    <tr style=\"text-align: right;\">\n",
       "      <th></th>\n",
       "      <th>user_name</th>\n",
       "      <th>text</th>\n",
       "    </tr>\n",
       "  </thead>\n",
       "  <tbody>\n",
       "    <tr>\n",
       "      <th>0</th>\n",
       "      <td>charliehall300</td>\n",
       "      <td>#BladeRunner2049 just reminded me what cinema ...</td>\n",
       "    </tr>\n",
       "    <tr>\n",
       "      <th>1</th>\n",
       "      <td>istodius</td>\n",
       "      <td>The longest 2.5 hours of my life...and, the mo...</td>\n",
       "    </tr>\n",
       "    <tr>\n",
       "      <th>2</th>\n",
       "      <td>coachforward</td>\n",
       "      <td>“I always told you. You're special. Your histo...</td>\n",
       "    </tr>\n",
       "    <tr>\n",
       "      <th>3</th>\n",
       "      <td>DoomBoxPro</td>\n",
       "      <td>So... #BladeRunner2049. Really good movie, def...</td>\n",
       "    </tr>\n",
       "    <tr>\n",
       "      <th>4</th>\n",
       "      <td>_clocolan</td>\n",
       "      <td>The music for #BladeRunner2049 was mostly ever...</td>\n",
       "    </tr>\n",
       "    <tr>\n",
       "      <th>5</th>\n",
       "      <td>drannawatts</td>\n",
       "      <td>Bloody hell #BladeRunner2049 is good. Music st...</td>\n",
       "    </tr>\n",
       "    <tr>\n",
       "      <th>6</th>\n",
       "      <td>MusicBoxHR</td>\n",
       "      <td>@bladerunner stigao na recenziju. Više na http...</td>\n",
       "    </tr>\n",
       "    <tr>\n",
       "      <th>7</th>\n",
       "      <td>BSGDrew</td>\n",
       "      <td>#BladeRunner2049 is easily one of the best mov...</td>\n",
       "    </tr>\n",
       "    <tr>\n",
       "      <th>8</th>\n",
       "      <td>armgra</td>\n",
       "      <td>@ortyzapple Ecco le prove #BladeRunner2049 htt...</td>\n",
       "    </tr>\n",
       "    <tr>\n",
       "      <th>9</th>\n",
       "      <td>TheMelFarley</td>\n",
       "      <td>ICYMI: @goodyk and I talk a lot, and answer qu...</td>\n",
       "    </tr>\n",
       "    <tr>\n",
       "      <th>10</th>\n",
       "      <td>FunSizedFarley</td>\n",
       "      <td>ICYMI: @goodyk and I talk a lot, and answer qu...</td>\n",
       "    </tr>\n",
       "    <tr>\n",
       "      <th>11</th>\n",
       "      <td>LilacLady247</td>\n",
       "      <td>Saw it yesterday - LOVED it! &amp;lt;3 👍\\n#BladeR...</td>\n",
       "    </tr>\n",
       "    <tr>\n",
       "      <th>12</th>\n",
       "      <td>PopCultureCosmo</td>\n",
       "      <td>We talk #TheLastJedi #NFL #ShadowofWar #Marvel...</td>\n",
       "    </tr>\n",
       "    <tr>\n",
       "      <th>13</th>\n",
       "      <td>retconning</td>\n",
       "      <td>I just saw #BladeRunner2049! Gonna hang onto m...</td>\n",
       "    </tr>\n",
       "    <tr>\n",
       "      <th>14</th>\n",
       "      <td>emeraldvalor</td>\n",
       "      <td>#BladeRunner2049 reaction on #StardustApp http...</td>\n",
       "    </tr>\n",
       "    <tr>\n",
       "      <th>15</th>\n",
       "      <td>MoviesDundrum</td>\n",
       "      <td>See why #BladeRunner2049 is an absolute triump...</td>\n",
       "    </tr>\n",
       "    <tr>\n",
       "      <th>16</th>\n",
       "      <td>MoviesSwords</td>\n",
       "      <td>See why #BladeRunner2049 is an absolute triump...</td>\n",
       "    </tr>\n",
       "    <tr>\n",
       "      <th>17</th>\n",
       "      <td>CrookesMagazine</td>\n",
       "      <td>Who gave the best performance in 'Blade Runner...</td>\n",
       "    </tr>\n",
       "    <tr>\n",
       "      <th>18</th>\n",
       "      <td>premieresmovies</td>\n",
       "      <td>#Movies #BladeRunner2049 Blade Runner 2049: TV...</td>\n",
       "    </tr>\n",
       "    <tr>\n",
       "      <th>19</th>\n",
       "      <td>Me_and_bowie</td>\n",
       "      <td>Finally, #BladeRunner2049! How long have I wai...</td>\n",
       "    </tr>\n",
       "    <tr>\n",
       "      <th>20</th>\n",
       "      <td>Kernow_Life</td>\n",
       "      <td>@NewlynFilmhouse we seen #bladerunner2049 3 da...</td>\n",
       "    </tr>\n",
       "    <tr>\n",
       "      <th>21</th>\n",
       "      <td>WhiteRoninFilms</td>\n",
       "      <td>#Hollywood star #RyanGosling on the pressure o...</td>\n",
       "    </tr>\n",
       "    <tr>\n",
       "      <th>22</th>\n",
       "      <td>Moviesatezine</td>\n",
       "      <td>See why #BladeRunner2049 is an absolute triump...</td>\n",
       "    </tr>\n",
       "    <tr>\n",
       "      <th>23</th>\n",
       "      <td>DamianNixey</td>\n",
       "      <td>#Hollywood star #RyanGosling on the pressure o...</td>\n",
       "    </tr>\n",
       "    <tr>\n",
       "      <th>24</th>\n",
       "      <td>MrandMrs_Clark</td>\n",
       "      <td>#BladeRunner2049 and then @Lepub for a swift d...</td>\n",
       "    </tr>\n",
       "    <tr>\n",
       "      <th>25</th>\n",
       "      <td>MattTheCatania</td>\n",
       "      <td>#BladeRunner2049 K’s life is a sad trombone. h...</td>\n",
       "    </tr>\n",
       "    <tr>\n",
       "      <th>26</th>\n",
       "      <td>KokeReport</td>\n",
       "      <td>BLADE RUNNER 2049\\n$2.2M Thursday\\n$45.4M firs...</td>\n",
       "    </tr>\n",
       "    <tr>\n",
       "      <th>27</th>\n",
       "      <td>ryan_poker_</td>\n",
       "      <td>@23andMe will your service notify the governme...</td>\n",
       "    </tr>\n",
       "    <tr>\n",
       "      <th>28</th>\n",
       "      <td>JimFrench2</td>\n",
       "      <td>@archiebunkerUK equally...who is going to feed...</td>\n",
       "    </tr>\n",
       "    <tr>\n",
       "      <th>29</th>\n",
       "      <td>greg_jenner</td>\n",
       "      <td>#BladeRunner2049 is magnificent. Holy moly.</td>\n",
       "    </tr>\n",
       "    <tr>\n",
       "      <th>...</th>\n",
       "      <td>...</td>\n",
       "      <td>...</td>\n",
       "    </tr>\n",
       "    <tr>\n",
       "      <th>270</th>\n",
       "      <td>filmfrackers</td>\n",
       "      <td>Maybe it's the lack of sleep but after seeing ...</td>\n",
       "    </tr>\n",
       "    <tr>\n",
       "      <th>271</th>\n",
       "      <td>MannKind2919</td>\n",
       "      <td>#BladeRunner2049 Visually Stunning but very bo...</td>\n",
       "    </tr>\n",
       "    <tr>\n",
       "      <th>272</th>\n",
       "      <td>gaitoulabackder</td>\n",
       "      <td>Cells. Interlinked. Mixed feelings on #BladeRu...</td>\n",
       "    </tr>\n",
       "    <tr>\n",
       "      <th>273</th>\n",
       "      <td>vikingdrewby</td>\n",
       "      <td>#BladeRunner2049 has barely earned back half o...</td>\n",
       "    </tr>\n",
       "    <tr>\n",
       "      <th>274</th>\n",
       "      <td>amarohk</td>\n",
       "      <td>Hahaha #BladeRunner2049 https://t.co/dk4YvyHI0M</td>\n",
       "    </tr>\n",
       "    <tr>\n",
       "      <th>275</th>\n",
       "      <td>alrod77</td>\n",
       "      <td>@JaredLeto I just received my #Wallace #FunkoP...</td>\n",
       "    </tr>\n",
       "    <tr>\n",
       "      <th>276</th>\n",
       "      <td>nushyb</td>\n",
       "      <td>I enjoyed #BladeRunner2049 a lot, but I just r...</td>\n",
       "    </tr>\n",
       "    <tr>\n",
       "      <th>277</th>\n",
       "      <td>Reen_Vogel</td>\n",
       "      <td>#BladeRunner2049 No. Just. No.</td>\n",
       "    </tr>\n",
       "    <tr>\n",
       "      <th>278</th>\n",
       "      <td>nushyb</td>\n",
       "      <td>Also shout out to Ryan Gosling and his coat #B...</td>\n",
       "    </tr>\n",
       "    <tr>\n",
       "      <th>279</th>\n",
       "      <td>kbeats11</td>\n",
       "      <td>#BladeRunner2049 why did they get rid of the l...</td>\n",
       "    </tr>\n",
       "    <tr>\n",
       "      <th>280</th>\n",
       "      <td>LadyAvianna</td>\n",
       "      <td>Going to see #BladeRunner2049 tonight... then ...</td>\n",
       "    </tr>\n",
       "    <tr>\n",
       "      <th>281</th>\n",
       "      <td>Destro7000</td>\n",
       "      <td>I uploaded a video Review of #BladeRunner2049 ...</td>\n",
       "    </tr>\n",
       "    <tr>\n",
       "      <th>282</th>\n",
       "      <td>accidentalflyer</td>\n",
       "      <td>#BladeRunner2049 How's that the most powerful,...</td>\n",
       "    </tr>\n",
       "    <tr>\n",
       "      <th>283</th>\n",
       "      <td>KarinfromMars</td>\n",
       "      <td>Total movie perfection \\nYou were flawless @Ja...</td>\n",
       "    </tr>\n",
       "    <tr>\n",
       "      <th>284</th>\n",
       "      <td>0008th</td>\n",
       "      <td>A few thoughts on #BladeRunner2049. It is the ...</td>\n",
       "    </tr>\n",
       "    <tr>\n",
       "      <th>285</th>\n",
       "      <td>Lifeson90</td>\n",
       "      <td>First time you watch #BladeRunner2049 you'll t...</td>\n",
       "    </tr>\n",
       "    <tr>\n",
       "      <th>286</th>\n",
       "      <td>ThomasHo83</td>\n",
       "      <td>#BladeRunner2049 is a modern masterpiece! Visu...</td>\n",
       "    </tr>\n",
       "    <tr>\n",
       "      <th>287</th>\n",
       "      <td>Ayyappakumar10</td>\n",
       "      <td>#BladeRunner2049  is further dropping at the b...</td>\n",
       "    </tr>\n",
       "    <tr>\n",
       "      <th>288</th>\n",
       "      <td>urbanduniya</td>\n",
       "      <td>Why I liked #BladeRunner2049...\\n\\nhttps://t.c...</td>\n",
       "    </tr>\n",
       "    <tr>\n",
       "      <th>289</th>\n",
       "      <td>AlexVartzbed</td>\n",
       "      <td>So I watched #bladerunner2049 what an epic pie...</td>\n",
       "    </tr>\n",
       "    <tr>\n",
       "      <th>290</th>\n",
       "      <td>StefanGural</td>\n",
       "      <td>#BladeRunner2049 is a far superior sequel to t...</td>\n",
       "    </tr>\n",
       "    <tr>\n",
       "      <th>291</th>\n",
       "      <td>StefanGural</td>\n",
       "      <td>30+ years &amp;amp; 2 movies and they STILL have y...</td>\n",
       "    </tr>\n",
       "    <tr>\n",
       "      <th>292</th>\n",
       "      <td>Lifeson90</td>\n",
       "      <td>#SylviaHoeks undoubtedly the star of #BladeRun...</td>\n",
       "    </tr>\n",
       "    <tr>\n",
       "      <th>293</th>\n",
       "      <td>leenmaz</td>\n",
       "      <td>Am I the only one who thought #BladeRunner2049...</td>\n",
       "    </tr>\n",
       "    <tr>\n",
       "      <th>294</th>\n",
       "      <td>MadeByLev</td>\n",
       "      <td>After watching #BladeRunner2049 I think Deckar...</td>\n",
       "    </tr>\n",
       "    <tr>\n",
       "      <th>295</th>\n",
       "      <td>cinemanova</td>\n",
       "      <td>“I have heard ‘Don’t f--- it up’ a lot.” Ryan ...</td>\n",
       "    </tr>\n",
       "    <tr>\n",
       "      <th>296</th>\n",
       "      <td>QuarkKay</td>\n",
       "      <td>Go see #bladerunner2049 right now. I’m not kid...</td>\n",
       "    </tr>\n",
       "    <tr>\n",
       "      <th>297</th>\n",
       "      <td>sttepodcast</td>\n",
       "      <td>It's #podcast time! We review #BladeRunner2049...</td>\n",
       "    </tr>\n",
       "    <tr>\n",
       "      <th>298</th>\n",
       "      <td>zabisara</td>\n",
       "      <td>And I was wondering why the heck $MANA went up...</td>\n",
       "    </tr>\n",
       "    <tr>\n",
       "      <th>299</th>\n",
       "      <td>Brinskifromkc</td>\n",
       "      <td>Going to see #BladeRunner2049 tomorrow.  Watch...</td>\n",
       "    </tr>\n",
       "  </tbody>\n",
       "</table>\n",
       "<p>300 rows × 2 columns</p>\n",
       "</div>"
      ],
      "text/plain": [
       "           user_name                                               text\n",
       "0     charliehall300  #BladeRunner2049 just reminded me what cinema ...\n",
       "1           istodius  The longest 2.5 hours of my life...and, the mo...\n",
       "2       coachforward  “I always told you. You're special. Your histo...\n",
       "3         DoomBoxPro  So... #BladeRunner2049. Really good movie, def...\n",
       "4          _clocolan  The music for #BladeRunner2049 was mostly ever...\n",
       "5        drannawatts  Bloody hell #BladeRunner2049 is good. Music st...\n",
       "6         MusicBoxHR  @bladerunner stigao na recenziju. Više na http...\n",
       "7            BSGDrew  #BladeRunner2049 is easily one of the best mov...\n",
       "8             armgra  @ortyzapple Ecco le prove #BladeRunner2049 htt...\n",
       "9       TheMelFarley  ICYMI: @goodyk and I talk a lot, and answer qu...\n",
       "10    FunSizedFarley  ICYMI: @goodyk and I talk a lot, and answer qu...\n",
       "11      LilacLady247  Saw it yesterday - LOVED it! &lt;3 👍\\n#BladeR...\n",
       "12   PopCultureCosmo  We talk #TheLastJedi #NFL #ShadowofWar #Marvel...\n",
       "13        retconning  I just saw #BladeRunner2049! Gonna hang onto m...\n",
       "14      emeraldvalor  #BladeRunner2049 reaction on #StardustApp http...\n",
       "15     MoviesDundrum  See why #BladeRunner2049 is an absolute triump...\n",
       "16      MoviesSwords  See why #BladeRunner2049 is an absolute triump...\n",
       "17   CrookesMagazine  Who gave the best performance in 'Blade Runner...\n",
       "18   premieresmovies  #Movies #BladeRunner2049 Blade Runner 2049: TV...\n",
       "19      Me_and_bowie  Finally, #BladeRunner2049! How long have I wai...\n",
       "20       Kernow_Life  @NewlynFilmhouse we seen #bladerunner2049 3 da...\n",
       "21   WhiteRoninFilms  #Hollywood star #RyanGosling on the pressure o...\n",
       "22     Moviesatezine  See why #BladeRunner2049 is an absolute triump...\n",
       "23       DamianNixey  #Hollywood star #RyanGosling on the pressure o...\n",
       "24    MrandMrs_Clark  #BladeRunner2049 and then @Lepub for a swift d...\n",
       "25    MattTheCatania  #BladeRunner2049 K’s life is a sad trombone. h...\n",
       "26        KokeReport  BLADE RUNNER 2049\\n$2.2M Thursday\\n$45.4M firs...\n",
       "27       ryan_poker_  @23andMe will your service notify the governme...\n",
       "28        JimFrench2  @archiebunkerUK equally...who is going to feed...\n",
       "29       greg_jenner        #BladeRunner2049 is magnificent. Holy moly.\n",
       "..               ...                                                ...\n",
       "270     filmfrackers  Maybe it's the lack of sleep but after seeing ...\n",
       "271     MannKind2919  #BladeRunner2049 Visually Stunning but very bo...\n",
       "272  gaitoulabackder  Cells. Interlinked. Mixed feelings on #BladeRu...\n",
       "273     vikingdrewby  #BladeRunner2049 has barely earned back half o...\n",
       "274          amarohk    Hahaha #BladeRunner2049 https://t.co/dk4YvyHI0M\n",
       "275          alrod77  @JaredLeto I just received my #Wallace #FunkoP...\n",
       "276           nushyb  I enjoyed #BladeRunner2049 a lot, but I just r...\n",
       "277       Reen_Vogel                     #BladeRunner2049 No. Just. No.\n",
       "278           nushyb  Also shout out to Ryan Gosling and his coat #B...\n",
       "279         kbeats11  #BladeRunner2049 why did they get rid of the l...\n",
       "280      LadyAvianna  Going to see #BladeRunner2049 tonight... then ...\n",
       "281       Destro7000  I uploaded a video Review of #BladeRunner2049 ...\n",
       "282  accidentalflyer  #BladeRunner2049 How's that the most powerful,...\n",
       "283    KarinfromMars  Total movie perfection \\nYou were flawless @Ja...\n",
       "284           0008th  A few thoughts on #BladeRunner2049. It is the ...\n",
       "285        Lifeson90  First time you watch #BladeRunner2049 you'll t...\n",
       "286       ThomasHo83  #BladeRunner2049 is a modern masterpiece! Visu...\n",
       "287   Ayyappakumar10  #BladeRunner2049  is further dropping at the b...\n",
       "288      urbanduniya  Why I liked #BladeRunner2049...\\n\\nhttps://t.c...\n",
       "289     AlexVartzbed  So I watched #bladerunner2049 what an epic pie...\n",
       "290      StefanGural  #BladeRunner2049 is a far superior sequel to t...\n",
       "291      StefanGural  30+ years &amp; 2 movies and they STILL have y...\n",
       "292        Lifeson90  #SylviaHoeks undoubtedly the star of #BladeRun...\n",
       "293          leenmaz  Am I the only one who thought #BladeRunner2049...\n",
       "294        MadeByLev  After watching #BladeRunner2049 I think Deckar...\n",
       "295       cinemanova  “I have heard ‘Don’t f--- it up’ a lot.” Ryan ...\n",
       "296         QuarkKay  Go see #bladerunner2049 right now. I’m not kid...\n",
       "297      sttepodcast  It's #podcast time! We review #BladeRunner2049...\n",
       "298         zabisara  And I was wondering why the heck $MANA went up...\n",
       "299    Brinskifromkc  Going to see #BladeRunner2049 tomorrow.  Watch...\n",
       "\n",
       "[300 rows x 2 columns]"
      ]
     },
     "execution_count": 18,
     "metadata": {},
     "output_type": "execute_result"
    }
   ],
   "source": [
    "# Rename the header\n",
    "mydata1 = mydata1.rename(columns={0: 'user_name', 1: 'text'})\n",
    "mydata1"
   ]
  },
  {
   "cell_type": "code",
   "execution_count": 21,
   "metadata": {},
   "outputs": [
    {
     "data": {
      "text/plain": [
       "[]"
      ]
     },
     "execution_count": 21,
     "metadata": {},
     "output_type": "execute_result"
    }
   ],
   "source": [
    "import re\n",
    "mydata2 = []\n",
    "for row in mydata1[:2]:\n",
    "    for tweet in mydata1['text']:\n",
    "        a = re.findall(r\"(?<=@)\\w+\", tweet)\n",
    "        for i in a:\n",
    "            if i.lower() == \"bladerunner2049\":\n",
    "                mydata2.append(row)\n",
    "                \n",
    "mydata2\n",
    "                \n"
   ]
  },
  {
   "cell_type": "code",
   "execution_count": 14,
   "metadata": {},
   "outputs": [
    {
     "name": "stdout",
     "output_type": "stream",
     "text": [
      "#BladeRunner2049 just reminded me what cinema is capable of. Phenomenal.\n",
      "Film of the year (pre-Star Wars, of course).\n",
      "And this is why I absolutely adore @kelly_clarkson and @GalGadot! ❤️ https://t.co/HySMmntd4r\n",
      "#BladeRunner2049 just reminded me what cinema is capable of. Phenomenal.\n",
      "Film of the year (pre-Star Wars, of course).\n",
      "And this is why I absolutely adore @kelly_clarkson and @GalGadot! ❤️ https://t.co/HySMmntd4r\n"
     ]
    },
    {
     "data": {
      "text/plain": [
       "['user_name', 'text']"
      ]
     },
     "execution_count": 14,
     "metadata": {},
     "output_type": "execute_result"
    }
   ],
   "source": [
    "\n",
    "            if i.lower() == \"bladerunner2049\":\n",
    "                mydata2.append(row)\n",
    "mydata2\n",
    "        "
   ]
  },
  {
   "cell_type": "code",
   "execution_count": 9,
   "metadata": {},
   "outputs": [
    {
     "data": {
      "text/plain": [
       "300"
      ]
     },
     "execution_count": 9,
     "metadata": {},
     "output_type": "execute_result"
    }
   ],
   "source": [
    "texts =[]\n",
    "for i in mydata:\n",
    "    texts.append(i[1])\n",
    "len(texts)"
   ]
  },
  {
   "cell_type": "code",
   "execution_count": null,
   "metadata": {
    "collapsed": true
   },
   "outputs": [],
   "source": []
  },
  {
   "cell_type": "code",
   "execution_count": 10,
   "metadata": {},
   "outputs": [
    {
     "data": {
      "text/plain": [
       "[u'#BladeRunner2049 just reminded me what cinema is capable of. Phenomenal.\\nFilm of the year (pre-Star Wars, of course).',\n",
       " u\"The longest 2.5 hours of my life...and, the most gratuitous needless use of naked young females I've seen for a long time #Bladerunner2049\",\n",
       " u\"\\u201cI always told you. You're special. Your history isn't over yet. There's still a page left.\\u201d #BladeRunner2049 https://t.co/QcllcTaZi7\",\n",
       " u\"So... #BladeRunner2049. Really good movie, definitely in my Top 10 of the year... But it is one of Denis' weakest &amp; the original is better.\",\n",
       " u'The music for #BladeRunner2049 was mostly everything it needed to be. A non-traditional soundtrack that fit this non-traditional film.']"
      ]
     },
     "execution_count": 10,
     "metadata": {},
     "output_type": "execute_result"
    }
   ],
   "source": [
    "texts[:5]"
   ]
  },
  {
   "cell_type": "code",
   "execution_count": 11,
   "metadata": {},
   "outputs": [
    {
     "data": {
      "text/html": [
       "<div>\n",
       "<style>\n",
       "    .dataframe thead tr:only-child th {\n",
       "        text-align: right;\n",
       "    }\n",
       "\n",
       "    .dataframe thead th {\n",
       "        text-align: left;\n",
       "    }\n",
       "\n",
       "    .dataframe tbody tr th {\n",
       "        vertical-align: top;\n",
       "    }\n",
       "</style>\n",
       "<table border=\"1\" class=\"dataframe\">\n",
       "  <thead>\n",
       "    <tr style=\"text-align: right;\">\n",
       "      <th></th>\n",
       "      <th>0</th>\n",
       "      <th>1</th>\n",
       "    </tr>\n",
       "  </thead>\n",
       "  <tbody>\n",
       "    <tr>\n",
       "      <th>0</th>\n",
       "      <td>charliehall300</td>\n",
       "      <td>#BladeRunner2049 just reminded me what cinema ...</td>\n",
       "    </tr>\n",
       "    <tr>\n",
       "      <th>1</th>\n",
       "      <td>istodius</td>\n",
       "      <td>The longest 2.5 hours of my life...and, the mo...</td>\n",
       "    </tr>\n",
       "    <tr>\n",
       "      <th>2</th>\n",
       "      <td>coachforward</td>\n",
       "      <td>“I always told you. You're special. Your histo...</td>\n",
       "    </tr>\n",
       "    <tr>\n",
       "      <th>3</th>\n",
       "      <td>DoomBoxPro</td>\n",
       "      <td>So... #BladeRunner2049. Really good movie, def...</td>\n",
       "    </tr>\n",
       "    <tr>\n",
       "      <th>4</th>\n",
       "      <td>_clocolan</td>\n",
       "      <td>The music for #BladeRunner2049 was mostly ever...</td>\n",
       "    </tr>\n",
       "  </tbody>\n",
       "</table>\n",
       "</div>"
      ],
      "text/plain": [
       "                0                                                  1\n",
       "0  charliehall300  #BladeRunner2049 just reminded me what cinema ...\n",
       "1        istodius  The longest 2.5 hours of my life...and, the mo...\n",
       "2    coachforward  “I always told you. You're special. Your histo...\n",
       "3      DoomBoxPro  So... #BladeRunner2049. Really good movie, def...\n",
       "4       _clocolan  The music for #BladeRunner2049 was mostly ever..."
      ]
     },
     "execution_count": 11,
     "metadata": {},
     "output_type": "execute_result"
    }
   ],
   "source": [
    "import pandas as pd\n",
    "mydata1 = pd.DataFrame(mydata)\n",
    "mydata1 .head()"
   ]
  },
  {
   "cell_type": "code",
   "execution_count": 12,
   "metadata": {},
   "outputs": [
    {
     "data": {
      "text/html": [
       "<div>\n",
       "<style>\n",
       "    .dataframe thead tr:only-child th {\n",
       "        text-align: right;\n",
       "    }\n",
       "\n",
       "    .dataframe thead th {\n",
       "        text-align: left;\n",
       "    }\n",
       "\n",
       "    .dataframe tbody tr th {\n",
       "        vertical-align: top;\n",
       "    }\n",
       "</style>\n",
       "<table border=\"1\" class=\"dataframe\">\n",
       "  <thead>\n",
       "    <tr style=\"text-align: right;\">\n",
       "      <th></th>\n",
       "      <th>0</th>\n",
       "      <th>1</th>\n",
       "    </tr>\n",
       "  </thead>\n",
       "  <tbody>\n",
       "    <tr>\n",
       "      <th>0</th>\n",
       "      <td>charliehall300</td>\n",
       "      <td>#BladeRunner2049 just reminded me what cinema ...</td>\n",
       "    </tr>\n",
       "    <tr>\n",
       "      <th>1</th>\n",
       "      <td>istodius</td>\n",
       "      <td>The longest 2.5 hours of my life...and, the mo...</td>\n",
       "    </tr>\n",
       "    <tr>\n",
       "      <th>2</th>\n",
       "      <td>coachforward</td>\n",
       "      <td>“I always told you. You're special. Your histo...</td>\n",
       "    </tr>\n",
       "    <tr>\n",
       "      <th>3</th>\n",
       "      <td>DoomBoxPro</td>\n",
       "      <td>So... #BladeRunner2049. Really good movie, def...</td>\n",
       "    </tr>\n",
       "    <tr>\n",
       "      <th>4</th>\n",
       "      <td>_clocolan</td>\n",
       "      <td>The music for #BladeRunner2049 was mostly ever...</td>\n",
       "    </tr>\n",
       "  </tbody>\n",
       "</table>\n",
       "</div>"
      ],
      "text/plain": [
       "                0                                                  1\n",
       "0  charliehall300  #BladeRunner2049 just reminded me what cinema ...\n",
       "1        istodius  The longest 2.5 hours of my life...and, the mo...\n",
       "2    coachforward  “I always told you. You're special. Your histo...\n",
       "3      DoomBoxPro  So... #BladeRunner2049. Really good movie, def...\n",
       "4       _clocolan  The music for #BladeRunner2049 was mostly ever..."
      ]
     },
     "execution_count": 12,
     "metadata": {},
     "output_type": "execute_result"
    }
   ],
   "source": [
    "mydata1 .head()"
   ]
  },
  {
   "cell_type": "code",
   "execution_count": 13,
   "metadata": {
    "collapsed": true
   },
   "outputs": [],
   "source": [
    "mydata1 = mydata1.rename(columns = {0: 'user_name'})\n",
    "mydata1 = mydata1.rename(columns = {1: 'text'})"
   ]
  },
  {
   "cell_type": "code",
   "execution_count": 14,
   "metadata": {
    "collapsed": true
   },
   "outputs": [],
   "source": [
    "mytexts = mydata1['text']\n"
   ]
  },
  {
   "cell_type": "code",
   "execution_count": 15,
   "metadata": {},
   "outputs": [
    {
     "data": {
      "text/html": [
       "<div>\n",
       "<style>\n",
       "    .dataframe thead tr:only-child th {\n",
       "        text-align: right;\n",
       "    }\n",
       "\n",
       "    .dataframe thead th {\n",
       "        text-align: left;\n",
       "    }\n",
       "\n",
       "    .dataframe tbody tr th {\n",
       "        vertical-align: top;\n",
       "    }\n",
       "</style>\n",
       "<table border=\"1\" class=\"dataframe\">\n",
       "  <thead>\n",
       "    <tr style=\"text-align: right;\">\n",
       "      <th></th>\n",
       "      <th>user_name</th>\n",
       "      <th>text</th>\n",
       "    </tr>\n",
       "  </thead>\n",
       "  <tbody>\n",
       "    <tr>\n",
       "      <th>0</th>\n",
       "      <td>charliehall300</td>\n",
       "      <td>just reminded me what cinema is capable of  ...</td>\n",
       "    </tr>\n",
       "    <tr>\n",
       "      <th>1</th>\n",
       "      <td>istodius</td>\n",
       "      <td>The longest     hours of my life   and  the mo...</td>\n",
       "    </tr>\n",
       "    <tr>\n",
       "      <th>2</th>\n",
       "      <td>coachforward</td>\n",
       "      <td>I always told you  You re special  Your histo...</td>\n",
       "    </tr>\n",
       "    <tr>\n",
       "      <th>3</th>\n",
       "      <td>DoomBoxPro</td>\n",
       "      <td>So       Really good movie  definitely in my T...</td>\n",
       "    </tr>\n",
       "    <tr>\n",
       "      <th>4</th>\n",
       "      <td>_clocolan</td>\n",
       "      <td>The music for   was mostly everything it neede...</td>\n",
       "    </tr>\n",
       "  </tbody>\n",
       "</table>\n",
       "</div>"
      ],
      "text/plain": [
       "        user_name                                               text\n",
       "0  charliehall300    just reminded me what cinema is capable of  ...\n",
       "1        istodius  The longest     hours of my life   and  the mo...\n",
       "2    coachforward   I always told you  You re special  Your histo...\n",
       "3      DoomBoxPro  So       Really good movie  definitely in my T...\n",
       "4       _clocolan  The music for   was mostly everything it neede..."
      ]
     },
     "execution_count": 15,
     "metadata": {},
     "output_type": "execute_result"
    }
   ],
   "source": [
    "mydata1['text'] = mydata1['text'].str.replace('(@[A-Za-z0-9]+)', ' ')\n",
    "mydata1['text'] = mydata1['text'].str.replace('(#[A-Za-z0-9]+)', ' ')\n",
    "mydata1['text'] = mydata1['text'].str.replace('(_[A-Za-z0-9]+)', ' ')\n",
    "mydata1['text'] = mydata1['text'].str.replace('(\\w+:\\/\\/\\S+)', ' ')\n",
    "mydata1['text'] = mydata1['text'].str.replace('([^0-9A-Za-z \\t])', ' ')\n",
    "mydata1['text'] = mydata1['text'].str.replace('(\\d+)', ' ')\n",
    "mydata1.head()"
   ]
  },
  {
   "cell_type": "code",
   "execution_count": 16,
   "metadata": {},
   "outputs": [
    {
     "data": {
      "text/plain": [
       "0      just reminded me what cinema is capable of  ...\n",
       "1    The longest     hours of my life   and  the mo...\n",
       "2     I always told you  You re special  Your histo...\n",
       "3    So       Really good movie  definitely in my T...\n",
       "4    The music for   was mostly everything it neede...\n",
       "Name: text, dtype: object"
      ]
     },
     "execution_count": 16,
     "metadata": {},
     "output_type": "execute_result"
    }
   ],
   "source": [
    "text1 = mydata1['text']\n",
    "text1.head()"
   ]
  },
  {
   "cell_type": "markdown",
   "metadata": {},
   "source": [
    "### Most visible users "
   ]
  },
  {
   "cell_type": "code",
   "execution_count": 22,
   "metadata": {},
   "outputs": [
    {
     "name": "stdout",
     "output_type": "stream",
     "text": [
      "#BladeRunner2049 just reminded me what cinema is capable of. Phenomenal.\n",
      "Film of the year (pre-Star Wars, of course).\n",
      "The longest 2.5 hours of my life...and, the most gratuitous needless use of naked young females I've seen for a long time #Bladerunner2049\n",
      "“I always told you. You're special. Your history isn't over yet. There's still a page left.” #BladeRunner2049 https://t.co/QcllcTaZi7\n",
      "So... #BladeRunner2049. Really good movie, definitely in my Top 10 of the year... But it is one of Denis' weakest &amp; the original is better.\n",
      "The music for #BladeRunner2049 was mostly everything it needed to be. A non-traditional soundtrack that fit this non-traditional film.\n"
     ]
    }
   ],
   "source": [
    "for tweet in texts[:5]:\n",
    "    print tweet"
   ]
  },
  {
   "cell_type": "code",
   "execution_count": 23,
   "metadata": {},
   "outputs": [
    {
     "name": "stdout",
     "output_type": "stream",
     "text": [
      "[]\n",
      "[]\n",
      "[]\n",
      "[]\n",
      "[]\n"
     ]
    }
   ],
   "source": [
    "# first extract all users from tweets\n",
    "\n",
    "#let's use regular expression ... how to use re ... https://docs.python.org/2/howto/regex.html\n",
    "    \n",
    "import re\n",
    "\n",
    "for tweet in texts[:5]:\n",
    "    print re.findall(r\"(?<=@)\\w+\", tweet)"
   ]
  },
  {
   "cell_type": "code",
   "execution_count": 24,
   "metadata": {
    "collapsed": true
   },
   "outputs": [],
   "source": [
    "for tweet in texts[:5]:\n",
    "    a = re.findall(r\"(?<=@)\\w+\", tweet)\n",
    "    for i in a:\n",
    "        print '@'+i"
   ]
  },
  {
   "cell_type": "code",
   "execution_count": 25,
   "metadata": {
    "collapsed": true
   },
   "outputs": [],
   "source": [
    "visible_users = []\n",
    "\n",
    "for tweet in texts:\n",
    "    a = re.findall(r\"(?<=@)\\w+\", tweet)\n",
    "    for i in a:\n",
    "        visible_users.append(['@'+i])"
   ]
  },
  {
   "cell_type": "code",
   "execution_count": 26,
   "metadata": {},
   "outputs": [
    {
     "data": {
      "text/plain": [
       "[(\"[u'@bladerunner'],\", 11),\n",
       " (\"[u'@ryangosling'],\", 5),\n",
       " (\"[u'@wbpictures'],\", 3),\n",
       " (\"[u'@theweeklyreview'],\", 3),\n",
       " (\"[u'@newlynfilmhouse'],\", 2),\n",
       " (\"[u'@vanschuppen'],\", 2),\n",
       " (\"[u'@hanszimmer'],\", 2),\n",
       " (\"[u'@benwallfisch'],\", 2),\n",
       " (\"[u'@usatoday'],\", 2),\n",
       " (\"[u'@goodyk'],\", 2)]"
      ]
     },
     "execution_count": 26,
     "metadata": {},
     "output_type": "execute_result"
    }
   ],
   "source": [
    "#compute frequency distribution for visible users in the tweets\n",
    "import nltk\n",
    "from nltk import word_tokenize\n",
    "from nltk.corpus import stopwords\n",
    "\n",
    "#convert lists to strings\n",
    "visible_users = str(visible_users)\n",
    "\n",
    "#lowercase\n",
    "visible_users = visible_users.lower()\n",
    "\n",
    "#tokenize\n",
    "visible_users = visible_users.split()\n",
    "\n",
    "fdist = nltk.FreqDist(visible_users)\n",
    "\n",
    "fdist.most_common(10)"
   ]
  },
  {
   "cell_type": "code",
   "execution_count": 27,
   "metadata": {},
   "outputs": [
    {
     "data": {
      "text/plain": [
       "148"
      ]
     },
     "execution_count": 27,
     "metadata": {},
     "output_type": "execute_result"
    }
   ],
   "source": [
    "urls = []\n",
    "for i in texts:\n",
    "    url = re.findall(r'(https?://\\S+)', i)\n",
    "    if len(url) > 0:\n",
    "        for a in url:\n",
    "            urls.append(a)\n",
    "len(urls)\n",
    "        \n",
    "\n",
    "    "
   ]
  },
  {
   "cell_type": "code",
   "execution_count": 28,
   "metadata": {},
   "outputs": [
    {
     "data": {
      "text/plain": [
       "[(u'https://t.co/VORg4xAjS8', 2),\n",
       " (u'https://t.co/PwckW3wtCT', 1),\n",
       " (u'https://t.co/4xhDbBk1CO', 1),\n",
       " (u'https://t.co/jgKvWKDJ5Q', 1),\n",
       " (u'https://t.co/2M6BLmU5SZ', 1),\n",
       " (u'https://t.co/zV3Y9j9vXX', 1),\n",
       " (u'https://t.co/bADo3clwyD', 1),\n",
       " (u'https://t.co/BzQQLYN8Q1', 1),\n",
       " (u'https://t.co/ygpgrUbl5G', 1),\n",
       " (u'https://t.co/EZFuPJ6FGt', 1)]"
      ]
     },
     "execution_count": 28,
     "metadata": {},
     "output_type": "execute_result"
    }
   ],
   "source": [
    "#top 10 urls ... visit some of them and find out what the articles are about\n",
    "from collections import Counter\n",
    "import collections\n",
    "c = Counter(urls)\n",
    "c.most_common(10)"
   ]
  },
  {
   "cell_type": "code",
   "execution_count": 29,
   "metadata": {},
   "outputs": [
    {
     "data": {
      "text/plain": [
       "[u'BladeRunner2049 just reminded me what cinema is capable of PhenomenalFilm of the year preStar Wars of course',\n",
       " u'The longest 25 hours of my lifeand the most gratuitous needless use of naked young females Ive seen for a long time Bladerunner2049',\n",
       " u'I always told you Youre special Your history isnt over yet Theres still a page left BladeRunner2049 ',\n",
       " u'So BladeRunner2049 Really good movie definitely in my Top 10 of the year But it is one of Denis weakest amp the original is better',\n",
       " u'The music for BladeRunner2049 was mostly everything it needed to be A nontraditional soundtrack that fit this nontraditional film']"
      ]
     },
     "execution_count": 29,
     "metadata": {},
     "output_type": "execute_result"
    }
   ],
   "source": [
    "texts_clean_completely = []\n",
    "\n",
    "for i in texts:\n",
    "    result = re.sub(r\"(@[A-Za-z0-9]+)|([^0-9A-Za-z \\t])|(\\w+:\\/\\/\\S+)\", \"\", i)\n",
    "    texts_clean_completely.append(result)\n",
    "\n",
    "texts_clean_completely[:5]"
   ]
  },
  {
   "cell_type": "code",
   "execution_count": 30,
   "metadata": {},
   "outputs": [
    {
     "data": {
      "text/plain": [
       "[u'just reminded me what cinema is capable of PhenomenalFilm of the year preStar Wars of course',\n",
       " u'The longest 25 hours of my lifeand the most gratuitous needless use of naked young females Ive seen for a long time',\n",
       " u'I always told you Youre special Your history isnt over yet Theres still a page left',\n",
       " u'So Really good movie definitely in my Top 10 of the year But it is one of Denis weakest amp the original is better',\n",
       " u'The music for was mostly everything it needed to be A nontraditional soundtrack that fit this nontraditional film']"
      ]
     },
     "execution_count": 30,
     "metadata": {},
     "output_type": "execute_result"
    }
   ],
   "source": [
    "# this would be better ...\n",
    "texts_clean_completely2 = []\n",
    "\n",
    "for i in texts:\n",
    "    result = ' '.join(re.sub(r\"(@[A-Za-z0-9]+)|(#[A-Za-z0-9]+)|([^0-9A-Za-z \\t])|(\\w+:\\/\\/\\S+)|\", \"\", i).split())\n",
    "    texts_clean_completely2.append(result)\n",
    "\n",
    "texts_clean_completely2[:5]"
   ]
  },
  {
   "cell_type": "code",
   "execution_count": 36,
   "metadata": {},
   "outputs": [
    {
     "data": {
      "text/plain": [
       "[u'#BladeRunner2049 just reminded me what cinema is capable of. Phenomenal.\\nFilm of the year (pre-Star Wars, of course).',\n",
       " u\"The longest 2.5 hours of my life...and, the most gratuitous needless use of naked young females I've seen for a long time #Bladerunner2049\",\n",
       " u\"\\u201cI always told you. You're special. Your history isn't over yet. There's still a page left.\\u201d #BladeRunner2049 https://t.co/QcllcTaZi7\",\n",
       " u\"So... #BladeRunner2049. Really good movie, definitely in my Top 10 of the year... But it is one of Denis' weakest &amp; the original is better.\",\n",
       " u'The music for #BladeRunner2049 was mostly everything it needed to be. A non-traditional soundtrack that fit this non-traditional film.']"
      ]
     },
     "execution_count": 36,
     "metadata": {},
     "output_type": "execute_result"
    }
   ],
   "source": [
    "texts[:5]"
   ]
  },
  {
   "cell_type": "code",
   "execution_count": 31,
   "metadata": {},
   "outputs": [
    {
     "data": {
      "text/plain": [
       "[u'https://t.co/QcllcTaZi7',\n",
       " u'https://t.co/7yhhNgW3qk',\n",
       " u'https://t.co/W2wLE6oOGO',\n",
       " u'https://t.co/7CNElSriAQ',\n",
       " u'https://t.co/qREclKV7J1',\n",
       " u'https://t.co/PSsikRoyVH',\n",
       " u'https://t.co/DmQxfJHT7J',\n",
       " u'https://t.co/HfktvH2Ttw',\n",
       " u'https://t.co/V7Vv6x8tH0',\n",
       " u'https://t.co/ygpgrUbl5G']"
      ]
     },
     "execution_count": 31,
     "metadata": {},
     "output_type": "execute_result"
    }
   ],
   "source": [
    "# extract urls from texts (rather than the original JSON data)\n",
    "\n",
    "only_urls = []\n",
    "\n",
    "for i in texts:\n",
    "    result = re.findall(r'(https?://\\S+)', i)\n",
    "    for url in result: \n",
    "        only_urls.append(url)\n",
    "\n",
    "only_urls[:10]"
   ]
  },
  {
   "cell_type": "code",
   "execution_count": 32,
   "metadata": {},
   "outputs": [
    {
     "data": {
      "text/plain": [
       "[(u'https://t.co/VORg4xAjS8', 2),\n",
       " (u'https://t.co/PwckW3wtCT', 1),\n",
       " (u'https://t.co/4xhDbBk1CO', 1),\n",
       " (u'https://t.co/jgKvWKDJ5Q', 1),\n",
       " (u'https://t.co/2M6BLmU5SZ', 1),\n",
       " (u'https://t.co/zV3Y9j9vXX', 1),\n",
       " (u'https://t.co/bADo3clwyD', 1),\n",
       " (u'https://t.co/BzQQLYN8Q1', 1),\n",
       " (u'https://t.co/ygpgrUbl5G', 1),\n",
       " (u'https://t.co/EZFuPJ6FGt', 1)]"
      ]
     },
     "execution_count": 32,
     "metadata": {},
     "output_type": "execute_result"
    }
   ],
   "source": [
    "c = Counter(only_urls)\n",
    "c.most_common(10)"
   ]
  },
  {
   "cell_type": "code",
   "execution_count": 39,
   "metadata": {},
   "outputs": [
    {
     "data": {
      "text/plain": [
       "148"
      ]
     },
     "execution_count": 39,
     "metadata": {},
     "output_type": "execute_result"
    }
   ],
   "source": [
    "# the total number of urls in the tweets\n",
    "len(only_urls)"
   ]
  },
  {
   "cell_type": "code",
   "execution_count": 40,
   "metadata": {},
   "outputs": [
    {
     "data": {
      "text/plain": [
       "147"
      ]
     },
     "execution_count": 40,
     "metadata": {},
     "output_type": "execute_result"
    }
   ],
   "source": [
    "# the number of unique urls in the tweets\n",
    "len(c.most_common())"
   ]
  },
  {
   "cell_type": "markdown",
   "metadata": {},
   "source": [
    "# 4. Content Analytics (Text Mining)"
   ]
  },
  {
   "cell_type": "markdown",
   "metadata": {},
   "source": [
    "## Word Frequencies"
   ]
  },
  {
   "cell_type": "code",
   "execution_count": 41,
   "metadata": {},
   "outputs": [
    {
     "name": "stdout",
     "output_type": "stream",
     "text": [
      "wanting 1\n",
      "mountainbetweenus 1\n",
      "doldum 1\n",
      "implants 1\n",
      "talki 1\n",
      "steve 2\n",
      "bibleprophecy 2\n",
      "theaters 1\n",
      "sleep 1\n",
      "ga 3\n"
     ]
    }
   ],
   "source": [
    "import nltk\n",
    "from nltk import word_tokenize\n",
    "from nltk.corpus import stopwords\n",
    "\n",
    "#convert lists to strings\n",
    "originaltweets = str(texts_clean_completely)\n",
    "\n",
    "#lowercase\n",
    "tokens = originaltweets.lower()\n",
    "\n",
    "#tokenize\n",
    "tokens = tokens.split()\n",
    "\n",
    "#Remove stopwords\n",
    "tokens = (word for word in tokens if word not in stopwords.words('english'))\n",
    "\n",
    "# Filter non-alphanumeric chars from tokens\n",
    "tokens = (ch.lower() for ch in tokens if ch.isalpha())\n",
    "\n",
    "#Create your bigrams\n",
    "#bgs = nltk.bigrams(tokens)\n",
    "\n",
    "#compute frequency distribution for all the bigrams in the text\n",
    "fdist = nltk.FreqDist(tokens)\n",
    "\n",
    "#k refers to keys (or tokens); v refers to values (or counts)\n",
    "for k,v in fdist.items()[:10]:\n",
    "    print k,v"
   ]
  },
  {
   "cell_type": "code",
   "execution_count": 42,
   "metadata": {},
   "outputs": [
    {
     "data": {
      "text/plain": [
       "[('see', 35),\n",
       " ('film', 31),\n",
       " ('runner', 23),\n",
       " ('movie', 18),\n",
       " ('blade', 15),\n",
       " ('review', 14),\n",
       " ('ive', 14),\n",
       " ('time', 14),\n",
       " ('original', 14),\n",
       " ('good', 13)]"
      ]
     },
     "execution_count": 42,
     "metadata": {},
     "output_type": "execute_result"
    }
   ],
   "source": [
    "fdist.most_common(10)"
   ]
  },
  {
   "cell_type": "markdown",
   "metadata": {
    "collapsed": true
   },
   "source": [
    "## Hashtag Frequencies"
   ]
  },
  {
   "cell_type": "code",
   "execution_count": 43,
   "metadata": {},
   "outputs": [
    {
     "name": "stdout",
     "output_type": "stream",
     "text": [
      "#BladeRunner2049 just reminded me what cinema is capable of. Phenomenal.\n",
      "Film of the year (pre-Star Wars, of course).\n",
      "The longest 2.5 hours of my life...and, the most gratuitous needless use of naked young females I've seen for a long time #Bladerunner2049\n",
      "“I always told you. You're special. Your history isn't over yet. There's still a page left.” #BladeRunner2049 https://t.co/QcllcTaZi7\n",
      "So... #BladeRunner2049. Really good movie, definitely in my Top 10 of the year... But it is one of Denis' weakest &amp; the original is better.\n",
      "The music for #BladeRunner2049 was mostly everything it needed to be. A non-traditional soundtrack that fit this non-traditional film.\n"
     ]
    }
   ],
   "source": [
    "for tweet in texts[:5]:\n",
    "    print tweet"
   ]
  },
  {
   "cell_type": "code",
   "execution_count": 44,
   "metadata": {
    "collapsed": true
   },
   "outputs": [],
   "source": [
    "# first extract all hashtags from tweets\n",
    "\n",
    "import re\n",
    "\n",
    "hashtags = []\n",
    "\n",
    "for tweet in texts:\n",
    "    a = re.findall(r\"(?<=#)\\w+\", tweet)\n",
    "    "
   ]
  },
  {
   "cell_type": "code",
   "execution_count": 45,
   "metadata": {
    "collapsed": true
   },
   "outputs": [],
   "source": [
    "# list one hashtag in a row and save them\n",
    "for tweet in texts:\n",
    "    a = re.findall(r\"(?<=#)\\w+\", tweet)\n",
    "    for i in a:\n",
    "        hashtags.append(['#'+i])"
   ]
  },
  {
   "cell_type": "code",
   "execution_count": 46,
   "metadata": {},
   "outputs": [
    {
     "data": {
      "text/plain": [
       "[[u'#BladeRunner2049'],\n",
       " [u'#Bladerunner2049'],\n",
       " [u'#BladeRunner2049'],\n",
       " [u'#BladeRunner2049'],\n",
       " [u'#BladeRunner2049'],\n",
       " [u'#BladeRunner2049'],\n",
       " [u'#BladeRunner2049'],\n",
       " [u'#musicboxhr'],\n",
       " [u'#review'],\n",
       " [u'#movie']]"
      ]
     },
     "execution_count": 46,
     "metadata": {},
     "output_type": "execute_result"
    }
   ],
   "source": [
    "hashtags[:10]"
   ]
  },
  {
   "cell_type": "code",
   "execution_count": 47,
   "metadata": {},
   "outputs": [
    {
     "name": "stdout",
     "output_type": "stream",
     "text": [
      "[u'#BladeRunner2049']\n",
      "[u'#Bladerunner2049']\n",
      "[u'#BladeRunner2049']\n",
      "[u'#BladeRunner2049']\n",
      "[u'#BladeRunner2049']\n",
      "[u'#BladeRunner2049']\n",
      "[u'#BladeRunner2049']\n",
      "[u'#musicboxhr']\n",
      "[u'#review']\n",
      "[u'#movie']\n",
      "[u'#BladeRunner2049']\n",
      "[u'#BladeRunner2049']\n",
      "[u'#BladeRunner2049']\n",
      "[u'#BladeRunner2049']\n",
      "[u'#BladeRunner2049']\n"
     ]
    }
   ],
   "source": [
    "for i in hashtags[:15]:\n",
    "    print i"
   ]
  },
  {
   "cell_type": "code",
   "execution_count": 48,
   "metadata": {},
   "outputs": [
    {
     "data": {
      "text/plain": [
       "[(\"[u'#bladerunner2049'],\", 298),\n",
       " (\"[u'#bladerunner'],\", 11),\n",
       " (\"[u'#ryangosling'],\", 5),\n",
       " (\"[u'#harrisonford'],\", 4),\n",
       " (\"[u'#movies'],\", 4),\n",
       " (\"[u'#hollywood'],\", 3),\n",
       " (\"[u'#human'],\", 3),\n",
       " (\"[u'#epic'],\", 2),\n",
       " (\"[u'#movie'],\", 2),\n",
       " (\"[u'#review'],\", 2)]"
      ]
     },
     "execution_count": 48,
     "metadata": {},
     "output_type": "execute_result"
    }
   ],
   "source": [
    "#compute frequency distribution for all the hashtags in the tweets\n",
    "\n",
    "#convert lists to strings\n",
    "hashtags_string = str(hashtags)\n",
    "\n",
    "#lowercase\n",
    "hashtags_string = hashtags_string.lower()\n",
    "\n",
    "#tokenize\n",
    "hashtags_string = hashtags_string.split()\n",
    "\n",
    "fdist = nltk.FreqDist(hashtags_string)\n",
    "\n",
    "fdist.most_common(10)"
   ]
  },
  {
   "cell_type": "markdown",
   "metadata": {
    "collapsed": true
   },
   "source": [
    "## Topic Modeling\n",
    "\n",
    "+ Below is a simple demnostration of topic modeling on a sample data from Twitter. For some serious analysis for a business, you need to have a **comprehensive** dataset and the dataset needs to be properly processed through removing stopwords, stemming (or lemmatizing), etc."
   ]
  },
  {
   "cell_type": "code",
   "execution_count": 43,
   "metadata": {
    "collapsed": true
   },
   "outputs": [],
   "source": [
    "import nltk\n",
    "from nltk import word_tokenize\n",
    "from nltk.corpus import stopwords\n",
    "import csv\n",
    "import pandas as pd\n",
    "\n",
    "# import packages for text processing\n",
    "import nltk\n",
    "from nltk.corpus import stopwords\n",
    "from nltk.stem.wordnet import WordNetLemmatizer\n",
    "from nltk.stem.porter import PorterStemmer\n",
    "import re\n",
    "\n",
    "from gensim.corpora import Dictionary\n",
    "from gensim.models import ldamodel\n",
    "\n",
    "from gensim.models.coherencemodel import CoherenceModel\n",
    "from gensim.models.wrappers import LdaVowpalWabbit, LdaMallet\n",
    "\n",
    "import matplotlib.pyplot as plt\n",
    "%matplotlib inline\n",
    "\n",
    "import numpy\n",
    "\n",
    "import warnings\n",
    "warnings.filterwarnings('ignore')  # To ignore all warnings that arise here to enhance clarity"
   ]
  },
  {
   "cell_type": "code",
   "execution_count": 50,
   "metadata": {
    "collapsed": true
   },
   "outputs": [],
   "source": [
    "# Remove useless numbers and alphanumerical words including http     \n",
    "documents = [text for text in text1]\n",
    "# tokenize\n",
    "texts1 = [[word for word in text.lower().split() ] for text in documents]\n",
    "# stemming words: having --> have; friends --> friend\n",
    "lmtzr = WordNetLemmatizer()\n",
    "texts2 = [[lmtzr.lemmatize(word) for word in text ] for text in texts1]\n",
    "# remove common words \n",
    "stoplist = stopwords.words('english')\n",
    "texts3 = [[word for word in text if word not in stoplist] for text in texts2]\n",
    "#remove short words\n",
    "english_originaltweets_clean = [[ word for word in tokens if len(word) >= 3 ] for tokens in texts3]"
   ]
  },
  {
   "cell_type": "code",
   "execution_count": 51,
   "metadata": {
    "collapsed": true
   },
   "outputs": [],
   "source": [
    "# A list of extra stopwords specific to the debates transcripts (if you want to remove more stopwords)\n",
    "# A list of extra stopwords specific to the debates transcripts (if you want to remove more stopwords)\n",
    "extra_stopwords = ['will', 'people', 'need', 'think', 'well','going', 'can', 'country', 'know', 'lot', 'get','make','way','president', 'want',\n",
    "                'like','say','got','said','just','something','tell','put','now', 'bad','back','want','right','every','one','use','come','never', \n",
    "                'many','along','things','day','also','first','guy', 'great', 'take', 'good', 'much','anderson', 'let', 'would', 'year', 'thing', 'america',\n",
    "                'talk', 'talking', 'thank', 'does', 'give', 'look', 'believe', 'tonight','today','see','that', 'this', 'em', 'wa', 'http', 'com', 'que','one',\n",
    "                  'want', 'would', 'also', 'unless','get','got','hey','hmm','hoo','hop','iep','let','ooo','par',\n",
    "            'book','ply','flying','what','yep','yer','aest','didn','nzdt','via','typed', 'impact','alongside','list', 'range',\n",
    "            'one','com','new','like','great','make','top','awesome','best', 'question', 'answer', 'tonight', 'tomorrow',\n",
    "            'good','wow','yes','say','yay','would','thanks','thank','going', 'learned', 'another','apart','iyi', 'yle',\n",
    "            'new','use','should','could','really','see','want','nice', 'able', 'airline', 'made', 'called','two',\n",
    "            'while','know','free','today','day','always','last','put','live', 'trip', 'due', 'ask','asked', 'help',\n",
    "            'week','went','wasn','was','used','ugh','try','kind', 'http','much',\n",
    "            'need', 'next','app','ibm','appleevent','using','talk','film', 'totally','seen', 'told','yet','stll', 'non', 'hour',\n",
    "            'time', 'take', 'movie', 'even', 'give','reminded', 'year', 'pre', 'saw', 'created', 'create', 'come', 'real', 'etc',\n",
    "            'cinema', 'everything', 'fit', 'buy', 'tell', 'including', 'finally','guess', 'also', 'lot', 'plenty', 'someone','onto', 'every',\n",
    "            'everywhere', 'thought', 'watched', 'look', 'caught', 'love', 'loved', 'gave', 'per', 'actor', 'anyone', 'else', 'think',\n",
    "            'theater','review','focus','act', 'dose','ever','thing','never', 'show','maintains','watch','added','justiced', 'action']\n",
    "\n",
    "extra_stoplist = extra_stopwords\n",
    "english_originaltweets_clean = [[word for word in text if word not in extra_stoplist] for text in english_originaltweets_clean]\n",
    "#https://github.com/alexperrier/datatalks/blob/master/debates/R/stm.R"
   ]
  },
  {
   "cell_type": "code",
   "execution_count": 52,
   "metadata": {},
   "outputs": [
    {
     "data": {
      "text/plain": [
       "[[u'capable', u'phenomenal', u'star', u'war', u'course'],\n",
       " [u'longest',\n",
       "  u'life',\n",
       "  u'gratuitous',\n",
       "  u'needle',\n",
       "  u'naked',\n",
       "  u'young',\n",
       "  u'female',\n",
       "  u'long'],\n",
       " [u'special', u'history', u'still', u'page', u'left'],\n",
       " [u'definitely', u'denis', u'weakest', u'amp', u'original', u'better'],\n",
       " [u'music',\n",
       "  u'mostly',\n",
       "  u'needed',\n",
       "  u'traditional',\n",
       "  u'soundtrack',\n",
       "  u'traditional']]"
      ]
     },
     "execution_count": 52,
     "metadata": {},
     "output_type": "execute_result"
    }
   ],
   "source": [
    "english_originaltweets_clean[:5]"
   ]
  },
  {
   "cell_type": "code",
   "execution_count": 53,
   "metadata": {},
   "outputs": [
    {
     "data": {
      "text/plain": [
       "[[u'capable', u'phenomenal', u'star', u'war', u'course'],\n",
       " [u'longest',\n",
       "  u'life',\n",
       "  u'gratuitous',\n",
       "  u'needle',\n",
       "  u'naked',\n",
       "  u'young',\n",
       "  u'female',\n",
       "  u'long'],\n",
       " [u'special', u'history', u'still', u'page', u'left'],\n",
       " [u'definitely', u'denis', u'weakest', u'amp', u'original', u'better'],\n",
       " [u'music',\n",
       "  u'mostly',\n",
       "  u'needed',\n",
       "  u'traditional',\n",
       "  u'soundtrack',\n",
       "  u'traditional']]"
      ]
     },
     "execution_count": 53,
     "metadata": {},
     "output_type": "execute_result"
    }
   ],
   "source": [
    "# after processing each tweet, some tweets could be empty. These empty rows should be removed from further analysis.\n",
    "\n",
    "english_originaltweets_clean = [x for x in english_originaltweets_clean if x]\n",
    "english_originaltweets_clean[:5]"
   ]
  },
  {
   "cell_type": "code",
   "execution_count": 54,
   "metadata": {},
   "outputs": [
    {
     "data": {
      "text/plain": [
       "279"
      ]
     },
     "execution_count": 54,
     "metadata": {},
     "output_type": "execute_result"
    }
   ],
   "source": [
    "len(english_originaltweets_clean)"
   ]
  },
  {
   "cell_type": "code",
   "execution_count": 55,
   "metadata": {
    "collapsed": true
   },
   "outputs": [],
   "source": [
    "# this is text processing required for topic modeling with Gensim\n",
    "dictionary = Dictionary(english_originaltweets_clean)\n",
    "corpus = [dictionary.doc2bow(text) for text in english_originaltweets_clean]"
   ]
  },
  {
   "cell_type": "code",
   "execution_count": null,
   "metadata": {
    "collapsed": true
   },
   "outputs": [],
   "source": [
    "numpy.random.seed(1) # setting random seed to get the same results each time.\n",
    "k_range = range(2,20)\n",
    "scores = []\n",
    "for k in k_range:\n",
    "    goodLdaModel = ldamodel.LdaModel(corpus=corpus, id2word=dictionary, num_topics=k, passes=75)\n",
    "    goodcm = CoherenceModel(model=goodLdaModel, corpus=corpus, dictionary=dictionary, coherence='u_mass')\n",
    "    scores.append(goodcm.get_coherence())\n",
    "    \n",
    "plt.figure(figsize=(14, 8))\n",
    "plt.plot(k_range, scores)"
   ]
  },
  {
   "cell_type": "code",
   "execution_count": null,
   "metadata": {
    "collapsed": true
   },
   "outputs": [],
   "source": [
    "scores"
   ]
  },
  {
   "cell_type": "code",
   "execution_count": 58,
   "metadata": {
    "collapsed": true
   },
   "outputs": [],
   "source": [
    "numpy.random.seed(1) # setting random seed to get the same results each time. For a large dataset, high passes (75) would be desirable.\n",
    "model = ldamodel.LdaModel(corpus, id2word=dictionary, num_topics=4, passes=75)"
   ]
  },
  {
   "cell_type": "code",
   "execution_count": 89,
   "metadata": {},
   "outputs": [
    {
     "data": {
      "text/plain": [
       "[(0,\n",
       "  u'0.061*\"bladerunner2049\" + 0.010*\"time\" + 0.008*\"americanmade\" + 0.008*\"film\" + 0.007*\"movie\" + 0.005*\"ticket\" + 0.005*\"still\" + 0.004*\"damn\" + 0.004*\"stunning\" + 0.004*\"windriver\"'),\n",
       " (1,\n",
       "  u'0.059*\"wonderwoman\" + 0.017*\"bladerunner2049\" + 0.010*\"woman\" + 0.008*\"prize\" + 0.008*\"pack\" + 0.008*\"wonder\" + 0.008*\"mlpmovie\" + 0.008*\"win\" + 0.008*\"contest\" + 0.007*\"amazon\"'),\n",
       " (2,\n",
       "  u'0.042*\"bladerunner2049\" + 0.021*\"movie\" + 0.012*\"wonderwoman\" + 0.012*\"seen\" + 0.008*\"review\" + 0.007*\"film\" + 0.007*\"beautiful\" + 0.006*\"girlstrip\" + 0.006*\"spidermanhomecoming\" + 0.006*\"bluray\"'),\n",
       " (3,\n",
       "  u'0.034*\"bladerunner2049\" + 0.019*\"blade\" + 0.019*\"runner\" + 0.017*\"film\" + 0.014*\"wonderwoman\" + 0.012*\"2049\" + 0.012*\"movie\" + 0.010*\"love\" + 0.009*\"annabellecreation\" + 0.007*\"watched\"')]"
      ]
     },
     "execution_count": 89,
     "metadata": {},
     "output_type": "execute_result"
    }
   ],
   "source": [
    "model.show_topics()"
   ]
  },
  {
   "cell_type": "code",
   "execution_count": 90,
   "metadata": {},
   "outputs": [
    {
     "name": "stdout",
     "output_type": "stream",
     "text": [
      "bladerunner2049, time, americanmade, film, movie, ticket, still, damn, stunning, windriver\n",
      "wonderwoman, bladerunner2049, woman, prize, pack, wonder, mlpmovie, win, contest, amazon\n",
      "bladerunner2049, movie, wonderwoman, seen, review, film, beautiful, girlstrip, spidermanhomecoming, bluray\n",
      "bladerunner2049, blade, runner, film, wonderwoman, 2049, movie, love, annabellecreation, watched\n"
     ]
    }
   ],
   "source": [
    "# print words without probability\n",
    "for i in range(0,4):\n",
    "    topics = model.show_topic(i, 10)\n",
    "    print ', '.join([str(word[0]) for word in topics])"
   ]
  },
  {
   "cell_type": "code",
   "execution_count": null,
   "metadata": {
    "collapsed": true
   },
   "outputs": [],
   "source": [
    "lda_corpus = model[corpus]\n",
    "\n",
    "results = []\n",
    "for i in lda_corpus:\n",
    "    #print i\n",
    "    results.append(i)\n",
    "\n",
    "results"
   ]
  },
  {
   "cell_type": "code",
   "execution_count": 127,
   "metadata": {},
   "outputs": [
    {
     "data": {
      "text/plain": [
       "['[bladerunner2049 reminded cinema capable phenomenalfilm year prestar war course]',\n",
       " '[absolutely adore clarkson]',\n",
       " '[ive watched kingsman film totally recommend]',\n",
       " '[longest hour lifeand gratuitous needle naked young female ive seen long time bladerunner2049]',\n",
       " '[wont rest kelly sitcom reba]']"
      ]
     },
     "execution_count": 127,
     "metadata": {},
     "output_type": "execute_result"
    }
   ],
   "source": [
    "documents = []\n",
    "\n",
    "for i in english_originaltweets_clean:\n",
    "    documents.append(str(i).replace(\",\", \"\").replace(\"u'\",\"\").replace(\"'\", \"\"))\n",
    "\n",
    "documents[:5]"
   ]
  },
  {
   "cell_type": "code",
   "execution_count": null,
   "metadata": {
    "collapsed": true
   },
   "outputs": [],
   "source": []
  },
  {
   "cell_type": "code",
   "execution_count": 128,
   "metadata": {},
   "outputs": [
    {
     "data": {
      "text/html": [
       "<div>\n",
       "<style>\n",
       "    .dataframe thead tr:only-child th {\n",
       "        text-align: right;\n",
       "    }\n",
       "\n",
       "    .dataframe thead th {\n",
       "        text-align: left;\n",
       "    }\n",
       "\n",
       "    .dataframe tbody tr th {\n",
       "        vertical-align: top;\n",
       "    }\n",
       "</style>\n",
       "<table border=\"1\" class=\"dataframe\">\n",
       "  <thead>\n",
       "    <tr style=\"text-align: right;\">\n",
       "      <th></th>\n",
       "      <th>documents</th>\n",
       "      <th>0</th>\n",
       "    </tr>\n",
       "  </thead>\n",
       "  <tbody>\n",
       "    <tr>\n",
       "      <th>0</th>\n",
       "      <td>[bladerunner2049 reminded cinema capable pheno...</td>\n",
       "      <td>3</td>\n",
       "    </tr>\n",
       "    <tr>\n",
       "      <th>1</th>\n",
       "      <td>[absolutely adore clarkson]</td>\n",
       "      <td>1</td>\n",
       "    </tr>\n",
       "    <tr>\n",
       "      <th>2</th>\n",
       "      <td>[ive watched kingsman film totally recommend]</td>\n",
       "      <td>3</td>\n",
       "    </tr>\n",
       "    <tr>\n",
       "      <th>3</th>\n",
       "      <td>[longest hour lifeand gratuitous needle naked ...</td>\n",
       "      <td>2</td>\n",
       "    </tr>\n",
       "    <tr>\n",
       "      <th>4</th>\n",
       "      <td>[wont rest kelly sitcom reba]</td>\n",
       "      <td>1</td>\n",
       "    </tr>\n",
       "  </tbody>\n",
       "</table>\n",
       "</div>"
      ],
      "text/plain": [
       "                                           documents  0\n",
       "0  [bladerunner2049 reminded cinema capable pheno...  3\n",
       "1                        [absolutely adore clarkson]  1\n",
       "2      [ive watched kingsman film totally recommend]  3\n",
       "3  [longest hour lifeand gratuitous needle naked ...  2\n",
       "4                      [wont rest kelly sitcom reba]  1"
      ]
     },
     "execution_count": 128,
     "metadata": {},
     "output_type": "execute_result"
    }
   ],
   "source": [
    "# finding highest value from each row\n",
    "toptopic = [max(collection, key=lambda x: x[1])[0] for collection in results]\n",
    "\n",
    "toptopic = pd.DataFrame(toptopic)\n",
    "documents = pd.DataFrame(documents)\n",
    "documents = documents.rename(columns = {0: 'documents'})\n",
    "summary = documents.join(toptopic)\n",
    "summary.head()"
   ]
  },
  {
   "cell_type": "code",
   "execution_count": null,
   "metadata": {
    "collapsed": true
   },
   "outputs": [],
   "source": []
  },
  {
   "cell_type": "code",
   "execution_count": 94,
   "metadata": {},
   "outputs": [
    {
     "data": {
      "text/html": [
       "<div>\n",
       "<style>\n",
       "    .dataframe thead tr:only-child th {\n",
       "        text-align: right;\n",
       "    }\n",
       "\n",
       "    .dataframe thead th {\n",
       "        text-align: left;\n",
       "    }\n",
       "\n",
       "    .dataframe tbody tr th {\n",
       "        vertical-align: top;\n",
       "    }\n",
       "</style>\n",
       "<table border=\"1\" class=\"dataframe\">\n",
       "  <thead>\n",
       "    <tr style=\"text-align: right;\">\n",
       "      <th></th>\n",
       "      <th>documents</th>\n",
       "    </tr>\n",
       "    <tr>\n",
       "      <th>0</th>\n",
       "      <th></th>\n",
       "    </tr>\n",
       "  </thead>\n",
       "  <tbody>\n",
       "    <tr>\n",
       "      <th>0</th>\n",
       "      <td>197</td>\n",
       "    </tr>\n",
       "    <tr>\n",
       "      <th>1</th>\n",
       "      <td>221</td>\n",
       "    </tr>\n",
       "    <tr>\n",
       "      <th>2</th>\n",
       "      <td>216</td>\n",
       "    </tr>\n",
       "    <tr>\n",
       "      <th>3</th>\n",
       "      <td>166</td>\n",
       "    </tr>\n",
       "  </tbody>\n",
       "</table>\n",
       "</div>"
      ],
      "text/plain": [
       "   documents\n",
       "0           \n",
       "0        197\n",
       "1        221\n",
       "2        216\n",
       "3        166"
      ]
     },
     "execution_count": 94,
     "metadata": {},
     "output_type": "execute_result"
    }
   ],
   "source": [
    "summary.groupby(0).count()"
   ]
  },
  {
   "cell_type": "code",
   "execution_count": null,
   "metadata": {
    "collapsed": true
   },
   "outputs": [],
   "source": []
  },
  {
   "cell_type": "code",
   "execution_count": 95,
   "metadata": {},
   "outputs": [
    {
     "name": "stderr",
     "output_type": "stream",
     "text": [
      "/anaconda/lib/python2.7/site-packages/pyLDAvis/_prepare.py:387: DeprecationWarning: \n",
      ".ix is deprecated. Please use\n",
      ".loc for label based indexing or\n",
      ".iloc for positional indexing\n",
      "\n",
      "See the documentation here:\n",
      "http://pandas.pydata.org/pandas-docs/stable/indexing.html#ix-indexer-is-deprecated\n",
      "  topic_term_dists = topic_term_dists.ix[topic_order]\n"
     ]
    },
    {
     "data": {
      "text/html": [
       "\n",
       "<link rel=\"stylesheet\" type=\"text/css\" href=\"https://cdn.rawgit.com/bmabey/pyLDAvis/files/ldavis.v1.0.0.css\">\n",
       "\n",
       "\n",
       "<div id=\"ldavis_el7427051217850401918092759\"></div>\n",
       "<script type=\"text/javascript\">\n",
       "\n",
       "var ldavis_el7427051217850401918092759_data = {\"plot.opts\": {\"xlab\": \"PC1\", \"ylab\": \"PC2\"}, \"topic.order\": [3, 2, 4, 1], \"token.table\": {\"Topic\": [1, 1, 1, 2, 3, 4, 3, 4, 4, 2, 2, 4, 3, 1, 1, 2, 3, 1, 3, 4, 2, 4, 4, 3, 3, 4, 2, 4, 1, 1, 1, 4, 1, 2, 3, 4, 1, 1, 4, 1, 3, 4, 3, 1, 3, 4, 1, 2, 3, 4, 3, 1, 1, 1, 3, 2, 1, 2, 4, 4, 1, 2, 3, 4, 2, 1, 2, 1, 4, 1, 3, 4, 3, 1, 1, 3, 1, 2, 2, 4, 4, 1, 2, 4, 1, 3, 2, 1, 2, 1, 2, 2, 1, 3, 4, 1, 3, 2, 1, 2, 4, 3, 1, 3, 1, 1, 2, 3, 4, 1, 2, 3, 3, 1, 2, 4, 3, 2, 2, 2, 2, 3, 4, 1, 3, 4, 2, 3, 1, 2, 4, 1, 3, 4, 1, 1, 1, 3, 2, 3, 4, 3, 1, 3, 4, 3, 1, 2, 3, 4, 4, 3, 4, 3, 3, 2, 1, 2, 3, 4, 2, 1, 2, 3, 1, 3, 4, 1, 2, 3, 1, 2, 3, 4, 1, 2, 3, 4, 1, 3, 4, 3, 1, 1, 2, 3, 4, 1, 2, 3, 4, 1, 3, 3, 4, 4, 1, 2, 3, 4, 2, 4, 4, 1, 2, 4, 2, 4, 4, 2, 2, 4, 2, 4, 1, 2, 4, 3, 2, 1, 3, 4, 3, 4, 1, 3, 3, 4, 3, 2, 1, 2, 3, 4, 3, 1, 1, 2, 4, 4, 1, 3, 2, 3, 4, 2, 3, 4, 1, 2, 3, 4, 2, 1, 2, 1, 2, 4, 4, 3, 1, 2, 4, 1, 1, 3, 3, 4, 1, 2, 4, 1, 2, 3, 4, 3, 4, 1, 3, 4, 2, 1, 4, 4, 4, 2, 3, 4, 1, 2, 3, 4, 3, 1, 4, 3, 2, 3, 4, 1, 2, 3, 1, 2, 2, 1, 2, 3, 1, 3, 4], \"Freq\": [0.929077168488057, 0.9290771684855815, 0.09486683731880277, 0.3794673492752111, 0.47433418659401383, 0.09486683731880277, 0.7714099042582325, 0.20570930780219535, 0.7259437164955728, 0.7045383839356822, 0.20686948469202276, 0.8274779387680911, 0.9539308000345371, 0.6990248980578035, 0.26377519492159485, 0.5275503898431897, 0.17585012994772992, 0.655894440482623, 0.18739841156646372, 0.09369920578323186, 0.9372295257060013, 0.8724578441175372, 0.9729727339893071, 0.9553409079337009, 0.7573887599893272, 0.15147775199786545, 0.24095293808994117, 0.7228588142698235, 0.699025051392228, 0.8712862231861241, 0.7969296994925539, 0.7260088082346422, 0.1775396164284355, 0.355079232856871, 0.355079232856871, 0.1775396164284355, 0.9305765706398583, 0.8023124766737217, 0.20057811916843044, 0.7029662551624115, 0.14059325103248232, 0.14059325103248232, 0.9838431819925044, 0.3306950366672563, 0.22046335777817086, 0.4409267155563417, 0.3087526334413939, 0.12147644594415498, 0.20752226182126476, 0.36442933783246495, 0.7159773069331808, 0.8380555404277014, 0.9640608849688833, 0.699025231785275, 0.7159772731254407, 0.8449867052043866, 0.2361608721020736, 0.590402180255184, 0.2361608721020736, 0.9658202373317843, 0.11775414337719806, 0.5887707168859903, 0.2355082867543961, 0.9658202373317815, 0.8792914408578907, 0.9302573668874788, 0.9664677044169657, 0.24053496332954946, 0.7216048899886485, 0.7969296223019855, 0.1616322465027952, 0.808161232513976, 0.7159773069335625, 0.9752836553141853, 0.6990251918793214, 0.9539306736095892, 0.6978037698453813, 0.2326012566151271, 0.7847888727602179, 0.15695777455204357, 0.7260313092576498, 0.6999808771525566, 0.1999945363293019, 0.09999726816465095, 0.23756768429604722, 0.7127030528881416, 0.9845056234571502, 0.9284882504514687, 0.8041039261458387, 0.6990249789725369, 0.9384017597813585, 0.8948958200717305, 0.2881479814687067, 0.14407399073435334, 0.5762959629374134, 0.7018653229612113, 0.2339551076537371, 0.8449153299943373, 0.2371921499939615, 0.35578822499094226, 0.35578822499094226, 0.9539306682271471, 0.23756334287561648, 0.7126900286268495, 0.699025289523507, 0.21618109824485549, 0.12970865894691327, 0.4539803063141965, 0.19456298842036993, 0.25033164009989156, 0.1668877600665944, 0.5841071602330804, 0.9539306474513907, 0.8365764851359507, 0.1394294141893251, 0.9658202373299598, 0.9553429603970329, 0.8041250852576778, 0.9734037160627464, 0.8449151437535837, 0.15953023606804875, 0.638120944272195, 0.15953023606804875, 0.6713863220439986, 0.20141589661319959, 0.13427726440879972, 0.7045383839360227, 0.819045093250858, 0.15933549637910308, 0.31867099275820615, 0.47800648913730925, 0.7811678221995512, 0.1562335644399102, 0.1562335644399102, 0.6990253190183469, 0.6990250589354858, 0.8378710332219068, 0.9539307412750256, 0.938543176010535, 0.3225177692156771, 0.6450355384313542, 0.9553089244189025, 0.1603950841986205, 0.320790168397241, 0.641580336794482, 0.7159773069324931, 0.5504569942443902, 0.18348566474813008, 0.24464755299750676, 0.06116188824937669, 0.9702524750223898, 0.5751563255511325, 0.28757816277556625, 0.819038676103529, 0.9539307950668358, 0.9374276554465637, 0.22446609874845078, 0.29928813166460105, 0.14964406583230053, 0.29928813166460105, 0.8461621485743595, 0.5774083994081941, 0.16497382840234118, 0.16497382840234118, 0.27217660482467804, 0.5443532096493561, 0.20413245361850854, 0.12152474691949233, 0.364574240758477, 0.48609898767796933, 0.3920717687256127, 0.23524306123536762, 0.31365741498049016, 0.07841435374512254, 0.5486272786910532, 0.15675065105458663, 0.15675065105458663, 0.15675065105458663, 0.23756792916956407, 0.7127037875086922, 0.8322299608845102, 0.9539306417835768, 0.8378700939944927, 0.11774710148126279, 0.6476090581469454, 0.11774710148126279, 0.11774710148126279, 0.498499839453416, 0.11631662920579708, 0.249249919726708, 0.13293329052091094, 0.4419722336699871, 0.5303666804039846, 0.9539306878989577, 0.7260397265784163, 0.9658201862790251, 0.08907259702417512, 0.44536298512087563, 0.26721779107252536, 0.26721779107252536, 0.992261186528137, 0.8321951963082312, 0.8322255401015365, 0.8378780169243866, 0.9384018123659466, 0.8722774115688455, 0.9847496027556003, 0.7259482514938114, 0.7260394569735875, 0.8041038213361718, 0.9922611864701795, 0.8724574661053914, 0.845210864526954, 0.7260393191918811, 0.6038145206583606, 0.20127150688612022, 0.20127150688612022, 0.9705731885920229, 0.984502036681488, 0.4262236096499804, 0.4262236096499804, 0.14207453654999347, 0.7159772480582125, 0.8717232860803297, 0.7924458414591485, 0.18645784504921142, 0.953930673615393, 0.726039692109657, 0.9539306803726161, 0.8449157177459304, 0.21895268177755378, 0.10947634088877689, 0.5473817044438845, 0.10947634088877689, 0.7159773069315737, 0.7969297097829476, 0.9945900677220024, 0.4781361511774469, 0.4781361511774469, 0.7260394569868525, 0.8378704046328757, 0.9539305999722192, 0.16042010692617079, 0.401050267315427, 0.4812603207785124, 0.3072687198106612, 0.3072687198106612, 0.3072687198106612, 0.28619495082715957, 0.19079663388477303, 0.09539831694238651, 0.4769915847119326, 0.8803542270098684, 0.175622537898942, 0.702490151595768, 0.259478765789073, 0.38921814868360943, 0.38921814868360943, 0.7260396922043073, 0.9539306736694024, 0.10084963702032128, 0.705947459142249, 0.10084963702032128, 0.6990252895259724, 0.7018944783579903, 0.23396482611933012, 0.6726374616718426, 0.2882731978593611, 0.2871753544235334, 0.0957251181411778, 0.5743507088470668, 0.15928428620946, 0.23892642931419, 0.119463214657095, 0.47785285862838, 0.241828838032311, 0.725486514096933, 0.7969338360672718, 0.715977306932916, 0.8724572948439513, 0.93840171088244, 0.20656413530636628, 0.8262565412254651, 0.9702293395389125, 0.7260315884176839, 0.21477166329316352, 0.5727244354484361, 0.14318110886210902, 0.11363677905562755, 0.4545471162225102, 0.28409194763906886, 0.17045516858344134, 0.9539306490410252, 0.8601466068791852, 0.10751832585989815, 0.9539306212880441, 0.9106664819996255, 0.08278786199996595, 0.9106811093090817, 0.05039944977914966, 0.7559917466872449, 0.20159779911659864, 0.8378704750290414, 0.9923165772865965, 0.8447437690590889, 0.14984686087996343, 0.7076101763776051, 0.141522035275521, 0.5832949241851174, 0.16665569262431928, 0.2499835389364789], \"Term\": [\"1121\", \"125\", \"2017\", \"2017\", \"2017\", \"2017\", \"2049\", \"2049\", \"2nd\", \"8x10\", \"absolute\", \"absolute\", \"aja\", \"almost\", \"also\", \"also\", \"also\", \"amazing\", \"amazing\", \"amazing\", \"amazon\", \"american\", \"americanmade\", \"annabelle\", \"annabellecreation\", \"annabellecreation\", \"another\", \"another\", \"answer\", \"aquaman\", \"aquestionoffaith\", \"around\", \"art\", \"art\", \"art\", \"art\", \"away\", \"batman\", \"batman\", \"beautiful\", \"beautiful\", \"beautiful\", \"blade\", \"bladerunner\", \"bladerunner\", \"bladerunner\", \"bladerunner2049\", \"bladerunner2049\", \"bladerunner2049\", \"bladerunner2049\", \"blend\", \"blown\", \"bluray\", \"boxoffice\", \"boy\", \"bring\", \"cant\", \"cant\", \"cant\", \"certified\", \"character\", \"character\", \"character\", \"cia\", \"clarkson\", \"coming\", \"contest\", \"cruise\", \"cruise\", \"cyborg\", \"damn\", \"damn\", \"depth\", \"despicableme3\", \"die\", \"dig\", \"digital\", \"digital\", \"director\", \"director\", \"disappointed\", \"dont\", \"dont\", \"dont\", \"dunkirk\", \"dunkirk\", \"duo\", \"dvd\", \"dynamic\", \"else\", \"enter\", \"entered\", \"everyone\", \"everyone\", \"everyone\", \"excited\", \"excited\", \"excitement\", \"fan\", \"fan\", \"fan\", \"fell\", \"female\", \"female\", \"fight\", \"film\", \"film\", \"film\", \"film\", \"first\", \"first\", \"first\", \"fit\", \"flatliners\", \"flatliners\", \"fresh\", \"friday\", \"gadot\", \"gal\", \"galgadot\", \"girl\", \"girl\", \"girl\", \"girlstrip\", \"girlstrip\", \"girlstrip\", \"gloss\", \"god\", \"gosling\", \"gosling\", \"gosling\", \"havent\", \"havent\", \"havent\", \"holiday\", \"homecoming\", \"hope\", \"horror\", \"huge\", \"human\", \"human\", \"impact\", \"incredible\", \"incredible\", \"incredible\", \"inquisitive\", \"ive\", \"ive\", \"ive\", \"ive\", \"jenkins\", \"job\", \"job\", \"joe\", \"karakter\", \"kelly\", \"kingsman\", \"kingsman\", \"kingsman\", \"kingsman\", \"lifetimetv\", \"long\", \"long\", \"long\", \"look\", \"look\", \"look\", \"love\", \"love\", \"love\", \"loved\", \"loved\", \"loved\", \"loved\", \"lovingvincent\", \"lovingvincent\", \"lovingvincent\", \"lovingvincent\", \"many\", \"many\", \"masterpiece\", \"men\", \"minion\", \"mlpmovie\", \"mlpmovie\", \"mlpmovie\", \"mlpmovie\", \"movie\", \"movie\", \"movie\", \"movie\", \"night\", \"night\", \"nontraditional\", \"office\", \"often\", \"original\", \"original\", \"original\", \"original\", \"pack\", \"patty\", \"piece\", \"plan\", \"polyamory\", \"powerful\", \"powerofwomen\", \"presented\", \"pressure\", \"print\", \"prize\", \"proud\", \"psychology\", \"replicants\", \"review\", \"review\", \"review\", \"runner\", \"sale\", \"saw\", \"saw\", \"saw\", \"scene\", \"secret\", \"seen\", \"seen\", \"sexism\", \"sheridan\", \"shot\", \"song\", \"sound\", \"sound\", \"sound\", \"sound\", \"spectacle\", \"spiderman\", \"spidermanhomecoming\", \"star\", \"star\", \"starring\", \"start\", \"started\", \"still\", \"still\", \"still\", \"story\", \"story\", \"story\", \"stunning\", \"stunning\", \"stunning\", \"stunning\", \"superhero\", \"take\", \"take\", \"talk\", \"talk\", \"talk\", \"taylor\", \"thankful\", \"theater\", \"theater\", \"theater\", \"thelastamericandream\", \"themountainbetweenus\", \"themountainbetweenus\", \"thought\", \"thought\", \"ticket\", \"ticket\", \"ticket\", \"time\", \"time\", \"time\", \"time\", \"told\", \"told\", \"tonight\", \"transcendent\", \"triumph\", \"variety\", \"visually\", \"visually\", \"visuals\", \"wasnt\", \"watched\", \"watched\", \"watched\", \"watching\", \"watching\", \"watching\", \"watching\", \"wedding\", \"weekend\", \"weekend\", \"weird\", \"win\", \"win\", \"windriver\", \"woman\", \"woman\", \"woman\", \"womenboycotttwitter\", \"wonder\", \"wonderful\", \"wonderwoman\", \"wonderwoman\", \"wonderwoman\", \"year\", \"year\", \"year\"]}, \"mdsDat\": {\"y\": [0.11606846336279991, -0.0031365829195616046, -0.011888908671784696, -0.10104297177145367], \"cluster\": [1, 1, 1, 1], \"Freq\": [27.793092206354604, 26.992558716226267, 23.113581743920285, 22.100767333498847], \"topics\": [1, 2, 3, 4], \"x\": [0.05679106119240613, -0.15685442291701485, 0.03395315053210542, 0.06611021119250321]}, \"R\": 30, \"lambda.step\": 0.01, \"tinfo\": {\"Category\": [\"Default\", \"Default\", \"Default\", \"Default\", \"Default\", \"Default\", \"Default\", \"Default\", \"Default\", \"Default\", \"Default\", \"Default\", \"Default\", \"Default\", \"Default\", \"Default\", \"Default\", \"Default\", \"Default\", \"Default\", \"Default\", \"Default\", \"Default\", \"Default\", \"Default\", \"Default\", \"Default\", \"Default\", \"Default\", \"Default\", \"Topic1\", \"Topic1\", \"Topic1\", \"Topic1\", \"Topic1\", \"Topic1\", \"Topic1\", \"Topic1\", \"Topic1\", \"Topic1\", \"Topic1\", \"Topic1\", \"Topic1\", \"Topic1\", \"Topic1\", \"Topic1\", \"Topic1\", \"Topic1\", \"Topic1\", \"Topic1\", \"Topic1\", \"Topic1\", \"Topic1\", \"Topic1\", \"Topic1\", \"Topic1\", \"Topic1\", \"Topic1\", \"Topic1\", \"Topic1\", \"Topic1\", \"Topic1\", \"Topic1\", \"Topic1\", \"Topic1\", \"Topic1\", \"Topic1\", \"Topic1\", \"Topic1\", \"Topic1\", \"Topic1\", \"Topic1\", \"Topic1\", \"Topic1\", \"Topic1\", \"Topic1\", \"Topic1\", \"Topic1\", \"Topic1\", \"Topic1\", \"Topic1\", \"Topic1\", \"Topic2\", \"Topic2\", \"Topic2\", \"Topic2\", \"Topic2\", \"Topic2\", \"Topic2\", \"Topic2\", \"Topic2\", \"Topic2\", \"Topic2\", \"Topic2\", \"Topic2\", \"Topic2\", \"Topic2\", \"Topic2\", \"Topic2\", \"Topic2\", \"Topic2\", \"Topic2\", \"Topic2\", \"Topic2\", \"Topic2\", \"Topic2\", \"Topic2\", \"Topic2\", \"Topic2\", \"Topic2\", \"Topic2\", \"Topic2\", \"Topic2\", \"Topic2\", \"Topic2\", \"Topic2\", \"Topic2\", \"Topic2\", \"Topic2\", \"Topic2\", \"Topic2\", \"Topic2\", \"Topic2\", \"Topic2\", \"Topic2\", \"Topic2\", \"Topic2\", \"Topic2\", \"Topic2\", \"Topic3\", \"Topic3\", \"Topic3\", \"Topic3\", \"Topic3\", \"Topic3\", \"Topic3\", \"Topic3\", \"Topic3\", \"Topic3\", \"Topic3\", \"Topic3\", \"Topic3\", \"Topic3\", \"Topic3\", \"Topic3\", \"Topic3\", \"Topic3\", \"Topic3\", \"Topic3\", \"Topic3\", \"Topic3\", \"Topic3\", \"Topic3\", \"Topic3\", \"Topic3\", \"Topic3\", \"Topic3\", \"Topic3\", \"Topic3\", \"Topic3\", \"Topic3\", \"Topic3\", \"Topic3\", \"Topic3\", \"Topic3\", \"Topic3\", \"Topic3\", \"Topic3\", \"Topic3\", \"Topic3\", \"Topic3\", \"Topic3\", \"Topic3\", \"Topic3\", \"Topic3\", \"Topic3\", \"Topic3\", \"Topic3\", \"Topic3\", \"Topic3\", \"Topic3\", \"Topic3\", \"Topic3\", \"Topic3\", \"Topic3\", \"Topic4\", \"Topic4\", \"Topic4\", \"Topic4\", \"Topic4\", \"Topic4\", \"Topic4\", \"Topic4\", \"Topic4\", \"Topic4\", \"Topic4\", \"Topic4\", \"Topic4\", \"Topic4\", \"Topic4\", \"Topic4\", \"Topic4\", \"Topic4\", \"Topic4\", \"Topic4\", \"Topic4\", \"Topic4\", \"Topic4\", \"Topic4\", \"Topic4\", \"Topic4\", \"Topic4\", \"Topic4\", \"Topic4\", \"Topic4\", \"Topic4\", \"Topic4\", \"Topic4\", \"Topic4\", \"Topic4\", \"Topic4\", \"Topic4\", \"Topic4\", \"Topic4\", \"Topic4\", \"Topic4\", \"Topic4\", \"Topic4\", \"Topic4\", \"Topic4\", \"Topic4\", \"Topic4\", \"Topic4\", \"Topic4\", \"Topic4\", \"Topic4\", \"Topic4\", \"Topic4\", \"Topic4\"], \"Term\": [\"wonderwoman\", \"blade\", \"runner\", \"bladerunner2049\", \"2049\", \"seen\", \"americanmade\", \"prize\", \"pack\", \"wonder\", \"contest\", \"annabellecreation\", \"amazon\", \"woman\", \"win\", \"spidermanhomecoming\", \"love\", \"gal\", \"bluray\", \"kelly\", \"dvd\", \"film\", \"thought\", \"entered\", \"movie\", \"weekend\", \"sale\", \"duo\", \"powerofwomen\", \"despicableme3\", \"spidermanhomecoming\", \"bluray\", \"dvd\", \"despicableme3\", \"125\", \"1121\", \"aquaman\", \"cyborg\", \"aquestionoffaith\", \"spiderman\", \"tonight\", \"coming\", \"weekend\", \"away\", \"flatliners\", \"minion\", \"start\", \"womenboycotttwitter\", \"hope\", \"plan\", \"blown\", \"almost\", \"else\", \"answer\", \"homecoming\", \"boxoffice\", \"die\", \"holiday\", \"fight\", \"thelastamericandream\", \"seen\", \"beautiful\", \"digital\", \"dont\", \"amazing\", \"batman\", \"girlstrip\", \"excited\", \"themountainbetweenus\", \"movie\", \"review\", \"bladerunner2049\", \"long\", \"ive\", \"havent\", \"year\", \"lovingvincent\", \"wonderwoman\", \"film\", \"saw\", \"loved\", \"night\", \"prize\", \"pack\", \"contest\", \"wonder\", \"amazon\", \"gal\", \"kelly\", \"entered\", \"sale\", \"duo\", \"powerofwomen\", \"clarkson\", \"win\", \"print\", \"dynamic\", \"gadot\", \"superhero\", \"variety\", \"enter\", \"polyamory\", \"huge\", \"galgadot\", \"excitement\", \"song\", \"bring\", \"psychology\", \"wonderful\", \"lifetimetv\", \"8x10\", \"gloss\", \"director\", \"wonderwoman\", \"woman\", \"theater\", \"mlpmovie\", \"take\", \"watching\", \"also\", \"love\", \"bladerunner2049\", \"character\", \"time\", \"cant\", \"movie\", \"film\", \"original\", \"art\", \"blade\", \"runner\", \"joe\", \"god\", \"friday\", \"annabelle\", \"impact\", \"blend\", \"transcendent\", \"depth\", \"inquisitive\", \"spectacle\", \"boy\", \"scene\", \"annabellecreation\", \"2049\", \"aja\", \"karakter\", \"horror\", \"shot\", \"nontraditional\", \"sexism\", \"thankful\", \"dig\", \"men\", \"wedding\", \"fell\", \"fit\", \"started\", \"weird\", \"thought\", \"many\", \"dunkirk\", \"female\", \"watched\", \"film\", \"first\", \"love\", \"look\", \"sound\", \"girl\", \"night\", \"job\", \"bladerunner2049\", \"2017\", \"movie\", \"saw\", \"wonderwoman\", \"still\", \"watching\", \"art\", \"loved\", \"woman\", \"ive\", \"story\", \"seen\", \"americanmade\", \"windriver\", \"masterpiece\", \"piece\", \"patty\", \"jenkins\", \"visuals\", \"american\", \"proud\", \"triumph\", \"powerful\", \"secret\", \"office\", \"taylor\", \"sheridan\", \"starring\", \"pressure\", \"replicants\", \"wasnt\", \"disappointed\", \"around\", \"2nd\", \"damn\", \"presented\", \"absolute\", \"visually\", \"cia\", \"certified\", \"fresh\", \"often\", \"told\", \"human\", \"another\", \"cruise\", \"ticket\", \"bladerunner2049\", \"time\", \"everyone\", \"still\", \"stunning\", \"incredible\", \"star\", \"bladerunner\", \"film\", \"gosling\", \"movie\", \"review\", \"talk\", \"2049\", \"kingsman\", \"story\", \"fan\", \"year\", \"look\"], \"loglift\": [30.0, 29.0, 28.0, 27.0, 26.0, 25.0, 24.0, 23.0, 22.0, 21.0, 20.0, 19.0, 18.0, 17.0, 16.0, 15.0, 14.0, 13.0, 12.0, 11.0, 10.0, 9.0, 8.0, 7.0, 6.0, 5.0, 4.0, 3.0, 2.0, 1.0, 1.2252, 1.2224, 1.2177, 1.2047, 1.1959, 1.1959, 1.1848, 1.1703, 1.1703, 1.1703, 1.1698, 1.1506, 1.1421, 1.1403, 1.1255, 1.1224, 1.1224, 1.1224, 1.1224, 1.1214, 1.1174, 1.0784, 1.0784, 1.0784, 1.0784, 1.0784, 1.0784, 1.0784, 1.0784, 1.0784, 1.0745, 0.9388, 0.9823, 0.9317, 0.9146, 1.0091, 0.8364, 0.9161, 0.9147, 0.5954, 0.747, 0.1089, 0.7857, 0.6608, 0.9316, 0.6926, 0.634, -0.624, -0.2383, 0.3915, 0.4117, 0.5055, 1.2651, 1.2651, 1.2622, 1.2596, 1.2584, 1.2509, 1.2459, 1.2401, 1.2328, 1.2325, 1.2261, 1.2119, 1.2053, 1.1981, 1.1981, 1.1971, 1.1788, 1.1781, 1.1781, 1.1781, 1.1735, 1.1496, 1.1496, 1.1495, 1.1466, 1.1394, 1.1262, 1.1061, 1.1051, 1.1051, 1.1032, 0.9642, 1.0012, 0.9677, 0.866, 1.0535, 0.5578, 0.7051, 0.3506, -0.8127, 0.7768, -0.0666, 0.6904, -0.8135, -0.7344, 0.4277, 0.3842, 1.4427, 1.442, 1.3501, 1.3485, 1.3297, 1.3296, 1.3278, 1.2549, 1.2549, 1.2549, 1.2549, 1.2549, 1.2549, 1.2549, 1.2294, 1.2127, 1.1741, 1.1741, 1.1741, 1.1741, 1.1741, 1.1741, 1.1741, 1.1741, 1.1741, 1.1741, 1.1741, 1.1741, 1.1741, 1.1741, 1.0902, 1.1155, 1.1155, 1.1147, 0.9524, 0.6653, 0.8819, 0.73, 0.8139, 0.8794, 0.9288, 0.7882, 1.0368, -0.1067, 0.6854, 0.0462, 0.5714, -0.4893, 0.4506, 0.1926, 0.3441, 0.2556, -0.1496, -0.0318, 0.4045, -0.3108, 1.4555, 1.4064, 1.392, 1.392, 1.391, 1.3701, 1.3696, 1.3414, 1.3414, 1.3414, 1.3336, 1.3175, 1.2949, 1.2949, 1.2949, 1.2949, 1.2949, 1.2949, 1.2946, 1.2946, 1.2936, 1.2916, 1.2912, 1.291, 1.2149, 1.2142, 1.2126, 1.2126, 1.2126, 1.2126, 1.1607, 1.1218, 1.1558, 1.1544, 1.0107, 0.4951, 0.7535, 1.0319, 0.7988, 0.7599, 0.9628, 0.8386, 0.7563, -0.0902, 0.8795, -0.4991, -0.0165, 0.6688, -0.0793, 0.2022, 0.3997, 0.5034, 0.1445, -0.0503], \"Freq\": [120.0, 24.0, 23.0, 197.0, 19.0, 21.0, 10.0, 12.0, 12.0, 12.0, 11.0, 13.0, 10.0, 19.0, 12.0, 10.0, 24.0, 9.0, 9.0, 8.0, 8.0, 46.0, 10.0, 7.0, 60.0, 9.0, 7.0, 7.0, 7.0, 7.0, 9.51427689684535, 8.809943780536535, 8.092947397069212, 6.654178535467082, 5.934817110666213, 5.9348171103411405, 5.215423590466008, 4.49604328063108, 4.496032601489525, 4.49602940403374, 4.493574297896573, 3.776666935782314, 8.099902928549458, 3.7363672908208305, 6.1427046702980315, 3.057304658387389, 3.0572645178121887, 3.0572456937612955, 3.0571773620572738, 3.0542252174080198, 3.041215233686008, 2.3379130617140533, 2.3379027965646477, 2.3378948378818984, 2.3378905624379156, 2.3378696288093503, 2.3378697272120257, 2.337858379807031, 2.3378528588662477, 2.3378528585419946, 17.460677682496183, 10.108850397255114, 6.382261975458461, 7.0566764134021875, 7.403125407536968, 3.8008555945815767, 9.554331608599739, 5.938969421339225, 5.929892605152079, 30.337117399962576, 11.658203031142097, 61.226384606016886, 7.391950456900268, 8.798969238960408, 4.515787758113486, 6.667128491720233, 6.685281665334827, 17.888594186540463, 10.130251222770625, 5.787461000447005, 5.3500942175299535, 5.2127049915942125, 11.567576414970025, 11.567576396596502, 10.855074151211435, 11.502495978961054, 10.137096642141408, 8.718742849532328, 8.00696659486686, 7.297034883400715, 6.5842870500335575, 6.582696991415536, 6.5389060350358905, 5.157055038488072, 10.882802289029142, 4.44942479523565, 4.4493903300880895, 4.44491825672514, 4.983145397692555, 3.7374801296085938, 3.7374649637879056, 3.7374542270035502, 3.7195307808596425, 3.0255746268909887, 3.0255346423873006, 3.0254420306576457, 3.0164240191158083, 2.9939873094763083, 2.956318795990619, 2.8926212940931215, 2.3136792673121356, 2.313679267225027, 5.182928327543055, 85.0366257266027, 14.57548339631541, 7.044518340688163, 10.900304292767505, 4.40760116363615, 8.29869080844111, 6.213721367916891, 9.461840620313124, 23.660183389368424, 4.984728379241209, 6.341719686590233, 4.559529193967818, 7.201117981404608, 5.990855394512083, 4.647885070533064, 4.4650700796598475, 23.861192215217145, 23.16426813948268, 4.354870957646375, 4.347875459226262, 3.658075452665371, 3.6578026027354777, 3.651107467937397, 2.264548819454657, 2.264548819376669, 2.2645488193292374, 2.264548819276085, 2.264548819183604, 2.2645337489000807, 2.2645296238034707, 10.434254757349366, 15.11306462565475, 1.567764773466562, 1.567763293586078, 1.5677547968954149, 1.567743754803394, 1.567739803159, 1.5677360481887506, 1.5677360469335873, 1.5677360421991062, 1.5677360515790442, 1.5677346854046255, 1.567733198878928, 1.5677311469238393, 1.5677304159852634, 1.5677300437269492, 7.155761176180906, 2.968599873013842, 2.9684368284472114, 2.9661074357195085, 8.368237987529604, 20.795357937091353, 6.69071631228625, 11.840684719797846, 7.665469618700328, 5.087161752979586, 3.6675833931352826, 5.7511691453938205, 2.2666209571685894, 41.04519564965599, 4.835021351046873, 14.56777947153979, 5.761677483939691, 17.020791957261633, 4.5221405123680185, 4.931848365476056, 3.673173064995042, 3.806041785658109, 3.948683628734595, 3.6608806421568776, 3.3818451674940766, 3.633918554186667, 9.7372332695257, 4.952302409030403, 4.273206436346113, 4.273145546415781, 4.269208769929524, 3.5858396104250736, 3.584442190239237, 2.9064806100940523, 2.9064386988720874, 2.9064215643064575, 2.8843116270509785, 2.8400554925822883, 2.2225973407104855, 2.2225929005401555, 2.222592897829741, 2.2225682934319306, 2.2225682924489965, 2.222554195667942, 2.221843073726065, 2.22181078496669, 2.2197290562470733, 2.2155635154259414, 4.973063431665129, 2.214121713564747, 3.600156053840907, 3.6030829584892645, 1.5387161427532439, 1.5387161427494604, 1.5387161426686817, 1.5387138564224403, 2.9173761040029715, 4.207952355917866, 2.9135056307458744, 2.9146660680981333, 6.343294896361322, 71.6374014178982, 11.790974853798083, 4.30484260435169, 6.124721950131699, 4.953356741134523, 3.608611684744206, 4.276666624357612, 4.27134623804867, 9.34104861948166, 3.34233905205617, 8.074546153679758, 4.320160185441205, 3.3249715507871658, 3.969982640471606, 3.6158398610978915, 3.21796312588374, 3.082950563631065, 3.064485273627098, 3.08870660221227], \"Total\": [120.0, 24.0, 23.0, 197.0, 19.0, 21.0, 10.0, 12.0, 12.0, 12.0, 11.0, 13.0, 10.0, 19.0, 12.0, 10.0, 24.0, 9.0, 9.0, 8.0, 8.0, 46.0, 10.0, 7.0, 60.0, 9.0, 7.0, 7.0, 7.0, 7.0, 10.05439358840963, 9.335509966562423, 8.616156419976317, 7.177399069345592, 6.458021145627921, 6.458021145610714, 5.738642327794388, 5.0192637945189285, 5.019263308353303, 5.019263243541821, 5.019237255302518, 4.299885324620953, 9.300740055263239, 4.2984103900763655, 7.172087796640554, 3.5805073143232615, 3.580505986859019, 3.58050568603222, 3.58050330068573, 3.580473457236833, 3.579715013242381, 2.8611284169660816, 2.861128085779858, 2.8611277893641405, 2.8611277584893897, 2.8611270510108793, 2.861127214346914, 2.861126693963867, 2.8611268146869295, 2.861126814676838, 21.452570144979894, 14.225433904632627, 8.598405825937963, 10.000273190998033, 10.67244905270005, 4.985588678096414, 14.894554255373496, 8.548648585010078, 8.548293489979264, 60.18056100658674, 19.873652569527426, 197.56916506293948, 12.123135041288874, 16.350051128615885, 6.4006732713610655, 12.000790183078028, 12.759117659444506, 120.12263649899953, 46.25751317385572, 14.077117888723404, 12.752767219766842, 11.312927869883817, 12.093590038211817, 12.093590037505436, 11.38165295097563, 12.092914977610228, 10.669744951181672, 9.24590676148585, 8.533991880353721, 7.82213956417733, 7.110193518334673, 7.11016761429872, 7.108406015511023, 5.686396759556414, 12.079065406960398, 4.974482018196652, 4.974481369805584, 4.974350475235107, 5.679531995867786, 4.262566823581919, 4.262566601464999, 4.262566362606436, 4.261924333628206, 3.55065242016178, 3.5506516375079933, 3.5506500080308743, 3.5503517173969685, 3.5494101246308922, 3.5513727474326635, 3.5454197579677773, 2.8387381661558715, 2.8387381661544997, 6.371140281862387, 120.12263649899953, 19.84148645237198, 9.915752099320885, 16.985556118494024, 5.69403000300239, 17.59993566009961, 11.373321137689716, 24.68632995374546, 197.56916506293948, 8.492270176827088, 25.112332767966645, 8.468803414375769, 60.18056100658674, 46.25751317385572, 11.226797392340439, 11.265091365149933, 24.39413154380415, 23.697337068794685, 4.8837742547512955, 4.883735990803227, 4.186978044342978, 4.186987039685726, 4.187127219012561, 2.7933846235529525, 2.793384623553986, 2.793384623551463, 2.7933846235556357, 2.7933846235592226, 2.7933847554538174, 2.7933848532535914, 13.20325905039958, 19.44491497607048, 2.0965881381831784, 2.096588149101396, 2.0965882673272445, 2.096588401181077, 2.096588384639371, 2.096588416032382, 2.096588415913678, 2.096588416045138, 2.0965884859936708, 2.0965884700429487, 2.0965884278748925, 2.0965884735367135, 2.0965885778884177, 2.096588531039607, 10.406794742893858, 4.209322375690913, 4.2093267144610484, 4.209403639026836, 13.968323167032501, 46.25751317385572, 11.984102364379066, 24.68632995374546, 14.696340277212991, 9.134393713578312, 6.26840418874227, 11.312927869883817, 3.4773154899818555, 197.56916506293948, 10.541091368308937, 60.18056100658674, 14.077117888723404, 120.12263649899953, 12.467265097388623, 17.59993566009961, 11.265091365149933, 12.752767219766842, 19.84148645237198, 16.350051128615885, 9.763440944618765, 21.452570144979894, 10.27778030222777, 5.490396088037244, 4.80636385134311, 4.806389382753113, 4.806564635009581, 4.122638285367626, 4.122736591227948, 3.438561553692491, 3.4385630435279064, 3.438563718510238, 3.439272827900372, 3.4414590592037353, 2.7546702016228983, 2.7546703320418477, 2.7546703324009605, 2.754671224481698, 2.754671224532027, 2.7546717472906317, 2.7547010789968627, 2.7547021381832053, 2.754787514029183, 2.7550345220354244, 6.186884248884745, 2.755017311336619, 4.833965732010941, 4.841111447138908, 2.0707787253715972, 2.070778725371591, 2.070778725375503, 2.0707788348318914, 4.135156121729324, 6.201208711271165, 4.150188032265152, 4.157399764914555, 10.446578906543369, 197.56916506293948, 25.112332767966645, 6.940878050944123, 12.467265097388623, 10.482365224576505, 6.234605037905523, 8.365817958231549, 9.071802317428142, 46.25751317385572, 6.276065426254576, 60.18056100658674, 19.873652569527426, 7.707759800375245, 19.44491497607048, 13.365047179627634, 9.763440944618765, 8.431982255951205, 12.000790183078028, 14.696340277212991], \"logprob\": [30.0, 29.0, 28.0, 27.0, 26.0, 25.0, 24.0, 23.0, 22.0, 21.0, 20.0, 19.0, 18.0, 17.0, 16.0, 15.0, 14.0, 13.0, 12.0, 11.0, 10.0, 9.0, 8.0, 7.0, 6.0, 5.0, 4.0, 3.0, 2.0, 1.0, -5.0423, -5.1192, -5.2041, -5.3998, -5.5142, -5.5142, -5.6435, -5.7919, -5.7919, -5.7919, -5.7924, -5.9662, -5.2032, -5.977, -5.4798, -6.1775, -6.1776, -6.1776, -6.1776, -6.1786, -6.1828, -6.4458, -6.4458, -6.4458, -6.4458, -6.4458, -6.4458, -6.4458, -6.4458, -6.4458, -4.4351, -4.9817, -5.4416, -5.3411, -5.2932, -5.9599, -5.0381, -5.5135, -5.5151, -3.8827, -4.8391, -3.1805, -5.2947, -5.1204, -5.7875, -5.3979, -5.3952, -4.4109, -4.9796, -5.5394, -5.618, -5.644, -4.8176, -4.8176, -4.8812, -4.8233, -4.9497, -5.1004, -5.1855, -5.2784, -5.3812, -5.3814, -5.3881, -5.6255, -4.8787, -5.7731, -5.7731, -5.7741, -5.6598, -5.9474, -5.9474, -5.9474, -5.9523, -6.1588, -6.1588, -6.1588, -6.1618, -6.1692, -6.1819, -6.2037, -6.427, -6.427, -5.6205, -2.8228, -4.5865, -5.3136, -4.8771, -5.7825, -5.1498, -5.4391, -5.0186, -4.1021, -5.6595, -5.4187, -5.7486, -5.2916, -5.4756, -5.7294, -5.7696, -3.9385, -3.9681, -5.6394, -5.641, -5.8138, -5.8138, -5.8157, -6.2933, -6.2933, -6.2933, -6.2933, -6.2933, -6.2933, -6.2933, -4.7656, -4.3952, -6.6611, -6.6611, -6.6611, -6.6611, -6.6611, -6.6611, -6.6611, -6.6611, -6.6611, -6.6611, -6.6611, -6.6611, -6.6611, -6.6611, -5.1428, -6.0226, -6.0227, -6.0235, -4.9863, -4.076, -5.21, -4.6392, -5.074, -5.484, -5.8112, -5.3613, -6.2924, -3.396, -5.5348, -4.4319, -5.3595, -4.2763, -5.6017, -5.515, -5.8097, -5.7741, -5.7373, -5.813, -5.8923, -5.8204, -4.7899, -5.4661, -5.6135, -5.6136, -5.6145, -5.7889, -5.7893, -5.999, -5.999, -5.999, -6.0066, -6.0221, -6.2672, -6.2672, -6.2672, -6.2672, -6.2672, -6.2672, -6.2676, -6.2676, -6.2685, -6.2704, -5.4619, -6.271, -5.7849, -5.7841, -6.635, -6.635, -6.635, -6.635, -5.9952, -5.6289, -5.9965, -5.9961, -5.2185, -2.7943, -4.5986, -5.6062, -5.2536, -5.4658, -5.7826, -5.6127, -5.614, -4.8315, -5.8592, -4.9772, -5.6026, -5.8644, -5.6871, -5.7806, -5.8972, -5.94, -5.946, -5.9382]}};\n",
       "\n",
       "function LDAvis_load_lib(url, callback){\n",
       "  var s = document.createElement('script');\n",
       "  s.src = url;\n",
       "  s.async = true;\n",
       "  s.onreadystatechange = s.onload = callback;\n",
       "  s.onerror = function(){console.warn(\"failed to load library \" + url);};\n",
       "  document.getElementsByTagName(\"head\")[0].appendChild(s);\n",
       "}\n",
       "\n",
       "if(typeof(LDAvis) !== \"undefined\"){\n",
       "   // already loaded: just create the visualization\n",
       "   !function(LDAvis){\n",
       "       new LDAvis(\"#\" + \"ldavis_el7427051217850401918092759\", ldavis_el7427051217850401918092759_data);\n",
       "   }(LDAvis);\n",
       "}else if(typeof define === \"function\" && define.amd){\n",
       "   // require.js is available: use it to load d3/LDAvis\n",
       "   require.config({paths: {d3: \"https://cdnjs.cloudflare.com/ajax/libs/d3/3.5.5/d3.min\"}});\n",
       "   require([\"d3\"], function(d3){\n",
       "      window.d3 = d3;\n",
       "      LDAvis_load_lib(\"https://cdn.rawgit.com/bmabey/pyLDAvis/files/ldavis.v1.0.0.js\", function(){\n",
       "        new LDAvis(\"#\" + \"ldavis_el7427051217850401918092759\", ldavis_el7427051217850401918092759_data);\n",
       "      });\n",
       "    });\n",
       "}else{\n",
       "    // require.js not available: dynamically load d3 & LDAvis\n",
       "    LDAvis_load_lib(\"https://cdnjs.cloudflare.com/ajax/libs/d3/3.5.5/d3.min.js\", function(){\n",
       "         LDAvis_load_lib(\"https://cdn.rawgit.com/bmabey/pyLDAvis/files/ldavis.v1.0.0.js\", function(){\n",
       "                 new LDAvis(\"#\" + \"ldavis_el7427051217850401918092759\", ldavis_el7427051217850401918092759_data);\n",
       "            })\n",
       "         });\n",
       "}\n",
       "</script>"
      ],
      "text/plain": [
       "PreparedData(topic_coordinates=            Freq  cluster  topics         x         y\n",
       "topic                                                \n",
       "2      27.793092        1       1  0.056791  0.116068\n",
       "1      26.992559        1       2 -0.156854 -0.003137\n",
       "3      23.113582        1       3  0.033953 -0.011889\n",
       "0      22.100767        1       4  0.066110 -0.101043, topic_info=     Category        Freq                 Term       Total  loglift  logprob\n",
       "term                                                                        \n",
       "151   Default  120.000000          wonderwoman  120.000000  30.0000  30.0000\n",
       "102   Default   24.000000                blade   24.000000  29.0000  29.0000\n",
       "252   Default   23.000000               runner   23.000000  28.0000  28.0000\n",
       "1383  Default  197.000000      bladerunner2049  197.000000  27.0000  27.0000\n",
       "62    Default   19.000000                 2049   19.000000  26.0000  26.0000\n",
       "259   Default   21.000000                 seen   21.000000  25.0000  25.0000\n",
       "1187  Default   10.000000         americanmade   10.000000  24.0000  24.0000\n",
       "30    Default   12.000000                prize   12.000000  23.0000  23.0000\n",
       "1528  Default   12.000000                 pack   12.000000  22.0000  22.0000\n",
       "934   Default   12.000000               wonder   12.000000  21.0000  21.0000\n",
       "2204  Default   11.000000              contest   11.000000  20.0000  20.0000\n",
       "596   Default   13.000000    annabellecreation   13.000000  19.0000  19.0000\n",
       "311   Default   10.000000               amazon   10.000000  18.0000  18.0000\n",
       "1153  Default   19.000000                woman   19.000000  17.0000  17.0000\n",
       "1745  Default   12.000000                  win   12.000000  16.0000  16.0000\n",
       "2022  Default   10.000000  spidermanhomecoming   10.000000  15.0000  15.0000\n",
       "680   Default   24.000000                 love   24.000000  14.0000  14.0000\n",
       "1512  Default    9.000000                  gal    9.000000  13.0000  13.0000\n",
       "754   Default    9.000000               bluray    9.000000  12.0000  12.0000\n",
       "1564  Default    8.000000                kelly    8.000000  11.0000  11.0000\n",
       "1677  Default    8.000000                  dvd    8.000000  10.0000  10.0000\n",
       "1113  Default   46.000000                 film   46.000000   9.0000   9.0000\n",
       "2090  Default   10.000000              thought   10.000000   8.0000   8.0000\n",
       "369   Default    7.000000              entered    7.000000   7.0000   7.0000\n",
       "1462  Default   60.000000                movie   60.000000   6.0000   6.0000\n",
       "576   Default    9.000000              weekend    9.000000   5.0000   5.0000\n",
       "890   Default    7.000000                 sale    7.000000   4.0000   4.0000\n",
       "1497  Default    7.000000                  duo    7.000000   3.0000   3.0000\n",
       "1917  Default    7.000000         powerofwomen    7.000000   2.0000   2.0000\n",
       "687   Default    7.000000        despicableme3    7.000000   1.0000   1.0000\n",
       "...       ...         ...                  ...         ...      ...      ...\n",
       "112    Topic4    3.600156             absolute    4.833966   1.2149  -5.7849\n",
       "998    Topic4    3.603083             visually    4.841111   1.2142  -5.7841\n",
       "1645   Topic4    1.538716                  cia    2.070779   1.2126  -6.6350\n",
       "205    Topic4    1.538716            certified    2.070779   1.2126  -6.6350\n",
       "1684   Topic4    1.538716                fresh    2.070779   1.2126  -6.6350\n",
       "1595   Topic4    1.538714                often    2.070779   1.2126  -6.6350\n",
       "53     Topic4    2.917376                 told    4.135156   1.1607  -5.9952\n",
       "436    Topic4    4.207952                human    6.201209   1.1218  -5.6289\n",
       "219    Topic4    2.913506              another    4.150188   1.1558  -5.9965\n",
       "1814   Topic4    2.914666               cruise    4.157400   1.1544  -5.9961\n",
       "1167   Topic4    6.343295               ticket   10.446579   1.0107  -5.2185\n",
       "1383   Topic4   71.637401      bladerunner2049  197.569165   0.4951  -2.7943\n",
       "585    Topic4   11.790975                 time   25.112333   0.7535  -4.5986\n",
       "1301   Topic4    4.304843             everyone    6.940878   1.0319  -5.6062\n",
       "758    Topic4    6.124722                still   12.467265   0.7988  -5.2536\n",
       "2052   Topic4    4.953357             stunning   10.482365   0.7599  -5.4658\n",
       "2087   Topic4    3.608612           incredible    6.234605   0.9628  -5.7826\n",
       "2214   Topic4    4.276667                 star    8.365818   0.8386  -5.6127\n",
       "827    Topic4    4.271346          bladerunner    9.071802   0.7563  -5.6140\n",
       "1113   Topic4    9.341049                 film   46.257513  -0.0902  -4.8315\n",
       "816    Topic4    3.342339              gosling    6.276065   0.8795  -5.8592\n",
       "1462   Topic4    8.074546                movie   60.180561  -0.4991  -4.9772\n",
       "938    Topic4    4.320160               review   19.873653  -0.0165  -5.6026\n",
       "749    Topic4    3.324972                 talk    7.707760   0.6688  -5.8644\n",
       "62     Topic4    3.969983                 2049   19.444915  -0.0793  -5.6871\n",
       "2126   Topic4    3.615840             kingsman   13.365047   0.2022  -5.7806\n",
       "1346   Topic4    3.217963                story    9.763441   0.3997  -5.8972\n",
       "146    Topic4    3.082951                  fan    8.431982   0.5034  -5.9400\n",
       "791    Topic4    3.064485                 year   12.000790   0.1445  -5.9460\n",
       "1518   Topic4    3.088707                 look   14.696340  -0.0503  -5.9382\n",
       "\n",
       "[239 rows x 6 columns], token_table=      Topic      Freq                 Term\n",
       "term                                      \n",
       "635       1  0.929077                 1121\n",
       "1963      1  0.929077                  125\n",
       "1819      1  0.094867                 2017\n",
       "1819      2  0.379467                 2017\n",
       "1819      3  0.474334                 2017\n",
       "1819      4  0.094867                 2017\n",
       "62        3  0.771410                 2049\n",
       "62        4  0.205709                 2049\n",
       "358       4  0.725944                  2nd\n",
       "2177      2  0.704538                 8x10\n",
       "112       2  0.206869             absolute\n",
       "112       4  0.827478             absolute\n",
       "193       3  0.953931                  aja\n",
       "2058      1  0.699025               almost\n",
       "1394      1  0.263775                 also\n",
       "1394      2  0.527550                 also\n",
       "1394      3  0.175850                 also\n",
       "119       1  0.655894              amazing\n",
       "119       3  0.187398              amazing\n",
       "119       4  0.093699              amazing\n",
       "311       2  0.937230               amazon\n",
       "1808      4  0.872458             american\n",
       "1187      4  0.972973         americanmade\n",
       "2217      3  0.955341            annabelle\n",
       "596       3  0.757389    annabellecreation\n",
       "596       4  0.151478    annabellecreation\n",
       "219       2  0.240953              another\n",
       "219       4  0.722859              another\n",
       "122       1  0.699025               answer\n",
       "1771      1  0.871286              aquaman\n",
       "...     ...       ...                  ...\n",
       "998       1  0.206564             visually\n",
       "998       4  0.826257             visually\n",
       "1714      4  0.970229              visuals\n",
       "1381      4  0.726032                wasnt\n",
       "1112      2  0.214772              watched\n",
       "1112      3  0.572724              watched\n",
       "1112      4  0.143181              watched\n",
       "1957      1  0.113637             watching\n",
       "1957      2  0.454547             watching\n",
       "1957      3  0.284092             watching\n",
       "1957      4  0.170455             watching\n",
       "1516      3  0.953931              wedding\n",
       "576       1  0.860147              weekend\n",
       "576       4  0.107518              weekend\n",
       "675       3  0.953931                weird\n",
       "1745      2  0.910666                  win\n",
       "1745      3  0.082788                  win\n",
       "1014      4  0.910681            windriver\n",
       "1153      1  0.050399                woman\n",
       "1153      2  0.755992                woman\n",
       "1153      3  0.201598                woman\n",
       "79        1  0.837870  womenboycotttwitter\n",
       "934       2  0.992317               wonder\n",
       "1356      2  0.844744            wonderful\n",
       "151       1  0.149847          wonderwoman\n",
       "151       2  0.707610          wonderwoman\n",
       "151       3  0.141522          wonderwoman\n",
       "791       1  0.583295                 year\n",
       "791       3  0.166656                 year\n",
       "791       4  0.249984                 year\n",
       "\n",
       "[311 rows x 3 columns], R=30, lambda_step=0.01, plot_opts={'xlab': 'PC1', 'ylab': 'PC2'}, topic_order=[3, 2, 4, 1])"
      ]
     },
     "execution_count": 95,
     "metadata": {},
     "output_type": "execute_result"
    }
   ],
   "source": [
    "import pyLDAvis.gensim\n",
    "pyLDAvis.enable_notebook()\n",
    "pyLDAvis.gensim.prepare(model, corpus, dictionary)"
   ]
  },
  {
   "cell_type": "code",
   "execution_count": 137,
   "metadata": {
    "collapsed": true
   },
   "outputs": [],
   "source": [
    "import pandas as pd\n",
    "import matplotlib as plt\n",
    "%matplotlib inline\n",
    "import csv\n",
    "\n",
    "from mlxtend.preprocessing import OnehotTransactions\n",
    "\n",
    "from mlxtend.frequent_patterns import apriori\n",
    "from mlxtend.frequent_patterns import association_rules"
   ]
  },
  {
   "cell_type": "code",
   "execution_count": 134,
   "metadata": {},
   "outputs": [
    {
     "data": {
      "text/plain": [
       "0\n",
       "0    [[told youre special history isnt yet still pa...\n",
       "1    [[absolutely adore clarkson], [wont rest kelly...\n",
       "2    [[longest hour lifeand gratuitous needle naked...\n",
       "3    [[bladerunner2049 reminded cinema capable phen...\n",
       "Name: documents, dtype: object"
      ]
     },
     "execution_count": 134,
     "metadata": {},
     "output_type": "execute_result"
    }
   ],
   "source": [
    "transactions = summary.groupby([0])['documents'].apply(list)\n",
    "transactions"
   ]
  },
  {
   "cell_type": "code",
   "execution_count": 98,
   "metadata": {},
   "outputs": [
    {
     "data": {
      "text/plain": [
       "4"
      ]
     },
     "execution_count": 98,
     "metadata": {},
     "output_type": "execute_result"
    }
   ],
   "source": [
    "len(transactions)"
   ]
  },
  {
   "cell_type": "code",
   "execution_count": 135,
   "metadata": {
    "collapsed": true
   },
   "outputs": [],
   "source": [
    "# convert to list\n",
    "dataset = transactions.values.T.tolist()\n"
   ]
  },
  {
   "cell_type": "code",
   "execution_count": 138,
   "metadata": {},
   "outputs": [
    {
     "data": {
      "text/html": [
       "<div>\n",
       "<style>\n",
       "    .dataframe thead tr:only-child th {\n",
       "        text-align: right;\n",
       "    }\n",
       "\n",
       "    .dataframe thead th {\n",
       "        text-align: left;\n",
       "    }\n",
       "\n",
       "    .dataframe tbody tr th {\n",
       "        vertical-align: top;\n",
       "    }\n",
       "</style>\n",
       "<table border=\"1\" class=\"dataframe\">\n",
       "  <thead>\n",
       "    <tr style=\"text-align: right;\">\n",
       "      <th></th>\n",
       "      <th>[2049 bladerunner2049 datenight]</th>\n",
       "      <th>[2049bladerunner2049 2049 2017 alcon entertainment llc warner bros entertainment inc]</th>\n",
       "      <th>[205 rep buying belt decision ive made long time wonderwoman]</th>\n",
       "      <th>[20th time gonna kingsman kingsman2 kingsmanthegoldencircle]</th>\n",
       "      <th>[4eva people forgive fox logan deadpool sony smhc cut slack]</th>\n",
       "      <th>[4th time weekend lovelovelove wemakeangels]</th>\n",
       "      <th>[]</th>\n",
       "      <th>[absolute masterpiece cannot believe bladerunner2049]</th>\n",
       "      <th>[absolutely adore clarkson]</th>\n",
       "      <th>[absolutely blown away bladerunner2049 perfect follow original story fantastic acting ryan gosling]</th>\n",
       "      <th>...</th>\n",
       "      <th>[writerdirector angelarobinson tell story psychology polyamory created wonderwoman root]</th>\n",
       "      <th>[yall bladerunner2049 better advertised ive fury roaded]</th>\n",
       "      <th>[yall fucking around wanna play role quiet somber orphan cuz shit scared annabellecreation]</th>\n",
       "      <th>[yall gonna miracle 3seconds bladerunner2049 waste time]</th>\n",
       "      <th>[yall wonderwoman digital youre amazon prime member]</th>\n",
       "      <th>[yeah wonder woman skateboard wonderwoman lyndacarter skateboarding series]</th>\n",
       "      <th>[year movie still yet explain replicanthunting cop referred blade runner bladerunner2049]</th>\n",
       "      <th>[yoooo finally watching girlstrip hilarious weak]</th>\n",
       "      <th>[youre big cupmlpmovie theater viewing numero 4oh theater toy]</th>\n",
       "      <th>[youre even youre person youll find way]</th>\n",
       "    </tr>\n",
       "  </thead>\n",
       "  <tbody>\n",
       "    <tr>\n",
       "      <th>0</th>\n",
       "      <td>1</td>\n",
       "      <td>1</td>\n",
       "      <td>0</td>\n",
       "      <td>1</td>\n",
       "      <td>1</td>\n",
       "      <td>0</td>\n",
       "      <td>1</td>\n",
       "      <td>1</td>\n",
       "      <td>0</td>\n",
       "      <td>1</td>\n",
       "      <td>...</td>\n",
       "      <td>0</td>\n",
       "      <td>0</td>\n",
       "      <td>1</td>\n",
       "      <td>1</td>\n",
       "      <td>0</td>\n",
       "      <td>0</td>\n",
       "      <td>0</td>\n",
       "      <td>0</td>\n",
       "      <td>0</td>\n",
       "      <td>1</td>\n",
       "    </tr>\n",
       "    <tr>\n",
       "      <th>1</th>\n",
       "      <td>0</td>\n",
       "      <td>0</td>\n",
       "      <td>1</td>\n",
       "      <td>0</td>\n",
       "      <td>0</td>\n",
       "      <td>1</td>\n",
       "      <td>0</td>\n",
       "      <td>0</td>\n",
       "      <td>1</td>\n",
       "      <td>0</td>\n",
       "      <td>...</td>\n",
       "      <td>1</td>\n",
       "      <td>0</td>\n",
       "      <td>0</td>\n",
       "      <td>0</td>\n",
       "      <td>1</td>\n",
       "      <td>0</td>\n",
       "      <td>0</td>\n",
       "      <td>0</td>\n",
       "      <td>1</td>\n",
       "      <td>0</td>\n",
       "    </tr>\n",
       "    <tr>\n",
       "      <th>2</th>\n",
       "      <td>0</td>\n",
       "      <td>0</td>\n",
       "      <td>0</td>\n",
       "      <td>0</td>\n",
       "      <td>0</td>\n",
       "      <td>0</td>\n",
       "      <td>0</td>\n",
       "      <td>0</td>\n",
       "      <td>0</td>\n",
       "      <td>0</td>\n",
       "      <td>...</td>\n",
       "      <td>0</td>\n",
       "      <td>1</td>\n",
       "      <td>0</td>\n",
       "      <td>0</td>\n",
       "      <td>0</td>\n",
       "      <td>1</td>\n",
       "      <td>0</td>\n",
       "      <td>0</td>\n",
       "      <td>0</td>\n",
       "      <td>0</td>\n",
       "    </tr>\n",
       "    <tr>\n",
       "      <th>3</th>\n",
       "      <td>0</td>\n",
       "      <td>0</td>\n",
       "      <td>0</td>\n",
       "      <td>0</td>\n",
       "      <td>0</td>\n",
       "      <td>0</td>\n",
       "      <td>0</td>\n",
       "      <td>0</td>\n",
       "      <td>0</td>\n",
       "      <td>0</td>\n",
       "      <td>...</td>\n",
       "      <td>0</td>\n",
       "      <td>0</td>\n",
       "      <td>0</td>\n",
       "      <td>0</td>\n",
       "      <td>0</td>\n",
       "      <td>0</td>\n",
       "      <td>1</td>\n",
       "      <td>1</td>\n",
       "      <td>0</td>\n",
       "      <td>0</td>\n",
       "    </tr>\n",
       "  </tbody>\n",
       "</table>\n",
       "<p>4 rows × 733 columns</p>\n",
       "</div>"
      ],
      "text/plain": [
       "   [2049 bladerunner2049 datenight]  \\\n",
       "0                                 1   \n",
       "1                                 0   \n",
       "2                                 0   \n",
       "3                                 0   \n",
       "\n",
       "   [2049bladerunner2049 2049 2017 alcon entertainment llc warner bros entertainment inc]  \\\n",
       "0                                                  1                                       \n",
       "1                                                  0                                       \n",
       "2                                                  0                                       \n",
       "3                                                  0                                       \n",
       "\n",
       "   [205 rep buying belt decision ive made long time wonderwoman]  \\\n",
       "0                                                  0               \n",
       "1                                                  1               \n",
       "2                                                  0               \n",
       "3                                                  0               \n",
       "\n",
       "   [20th time gonna kingsman kingsman2 kingsmanthegoldencircle]  \\\n",
       "0                                                  1              \n",
       "1                                                  0              \n",
       "2                                                  0              \n",
       "3                                                  0              \n",
       "\n",
       "   [4eva people forgive fox logan deadpool sony smhc cut slack]  \\\n",
       "0                                                  1              \n",
       "1                                                  0              \n",
       "2                                                  0              \n",
       "3                                                  0              \n",
       "\n",
       "   [4th time weekend lovelovelove wemakeangels]  []  \\\n",
       "0                                             0   1   \n",
       "1                                             1   0   \n",
       "2                                             0   0   \n",
       "3                                             0   0   \n",
       "\n",
       "   [absolute masterpiece cannot believe bladerunner2049]  \\\n",
       "0                                                  1       \n",
       "1                                                  0       \n",
       "2                                                  0       \n",
       "3                                                  0       \n",
       "\n",
       "   [absolutely adore clarkson]  \\\n",
       "0                            0   \n",
       "1                            1   \n",
       "2                            0   \n",
       "3                            0   \n",
       "\n",
       "   [absolutely blown away bladerunner2049 perfect follow original story fantastic acting ryan gosling]  \\\n",
       "0                                                  1                                                     \n",
       "1                                                  0                                                     \n",
       "2                                                  0                                                     \n",
       "3                                                  0                                                     \n",
       "\n",
       "                     ...                     \\\n",
       "0                    ...                      \n",
       "1                    ...                      \n",
       "2                    ...                      \n",
       "3                    ...                      \n",
       "\n",
       "   [writerdirector angelarobinson tell story psychology polyamory created wonderwoman root]  \\\n",
       "0                                                  0                                          \n",
       "1                                                  1                                          \n",
       "2                                                  0                                          \n",
       "3                                                  0                                          \n",
       "\n",
       "   [yall bladerunner2049 better advertised ive fury roaded]  \\\n",
       "0                                                  0          \n",
       "1                                                  0          \n",
       "2                                                  1          \n",
       "3                                                  0          \n",
       "\n",
       "   [yall fucking around wanna play role quiet somber orphan cuz shit scared annabellecreation]  \\\n",
       "0                                                  1                                             \n",
       "1                                                  0                                             \n",
       "2                                                  0                                             \n",
       "3                                                  0                                             \n",
       "\n",
       "   [yall gonna miracle 3seconds bladerunner2049 waste time]  \\\n",
       "0                                                  1          \n",
       "1                                                  0          \n",
       "2                                                  0          \n",
       "3                                                  0          \n",
       "\n",
       "   [yall wonderwoman digital youre amazon prime member]  \\\n",
       "0                                                  0      \n",
       "1                                                  1      \n",
       "2                                                  0      \n",
       "3                                                  0      \n",
       "\n",
       "   [yeah wonder woman skateboard wonderwoman lyndacarter skateboarding series]  \\\n",
       "0                                                  0                             \n",
       "1                                                  0                             \n",
       "2                                                  1                             \n",
       "3                                                  0                             \n",
       "\n",
       "   [year movie still yet explain replicanthunting cop referred blade runner bladerunner2049]  \\\n",
       "0                                                  0                                           \n",
       "1                                                  0                                           \n",
       "2                                                  0                                           \n",
       "3                                                  1                                           \n",
       "\n",
       "   [yoooo finally watching girlstrip hilarious weak]  \\\n",
       "0                                                  0   \n",
       "1                                                  0   \n",
       "2                                                  0   \n",
       "3                                                  1   \n",
       "\n",
       "   [youre big cupmlpmovie theater viewing numero 4oh theater toy]  \\\n",
       "0                                                  0                \n",
       "1                                                  1                \n",
       "2                                                  0                \n",
       "3                                                  0                \n",
       "\n",
       "   [youre even youre person youll find way]  \n",
       "0                                         1  \n",
       "1                                         0  \n",
       "2                                         0  \n",
       "3                                         0  \n",
       "\n",
       "[4 rows x 733 columns]"
      ]
     },
     "execution_count": 138,
     "metadata": {},
     "output_type": "execute_result"
    }
   ],
   "source": [
    "oht = OnehotTransactions()\n",
    "oht_ary = oht.fit(dataset).transform(dataset)\n",
    "df = pd.DataFrame(oht_ary, columns=oht.columns_)\n",
    "df.head()"
   ]
  },
  {
   "cell_type": "code",
   "execution_count": null,
   "metadata": {
    "collapsed": true
   },
   "outputs": [],
   "source": [
    "frequent_items = apriori(df, min_support=0.1, use_colnames=True)\n",
    "frequent_items"
   ]
  },
  {
   "cell_type": "code",
   "execution_count": null,
   "metadata": {
    "collapsed": true
   },
   "outputs": [],
   "source": [
    "rules = association_rules(frequent_itemsets, metric=\"confidence\", min_threshold=0.5).sort_values(['lift'],ascending=False)\n",
    "rules.head(10)"
   ]
  },
  {
   "cell_type": "code",
   "execution_count": null,
   "metadata": {
    "collapsed": true
   },
   "outputs": [],
   "source": []
  },
  {
   "cell_type": "code",
   "execution_count": null,
   "metadata": {
    "collapsed": true
   },
   "outputs": [],
   "source": [
    "#divide to words\n",
    "tokenizer = RegexpTokenizer(r'\\w+')\n",
    "words = tokenizer.tokenize(tweets)\n",
    "\n",
    "#remove more common words based on the brown corpus\n",
    "fdist = FreqDist(brown.words())\n",
    "mostcommon = fdist.most_common(100)\n",
    "mclist = []\n",
    "for i in range(len(mostcommon)):\n",
    "    mclist.append(mostcommon[i][0])\n",
    "words = [w for w in words if w not in mclist]\n",
    "\n",
    "#keep only most common words\n",
    "fdist = FreqDist(words)\n",
    "mostcommon = fdist.most_common(100)\n",
    "mclist = []\n",
    "for i in range(len(mostcommon)):\n",
    "    mclist.append(mostcommon[i][0])\n",
    "words = [w for w in words if w in mclist]"
   ]
  },
  {
   "cell_type": "code",
   "execution_count": null,
   "metadata": {
    "collapsed": true
   },
   "outputs": [],
   "source": [
    "#find word pairs\n",
    "finder = BigramCollocationFinder.from_words(words, window_size = 5)\n",
    "pairs = sorted(finder.ngram_fd.items(), key=lambda t: (-t[1], t[0]))"
   ]
  },
  {
   "cell_type": "code",
   "execution_count": null,
   "metadata": {
    "collapsed": true
   },
   "outputs": [],
   "source": []
  },
  {
   "cell_type": "markdown",
   "metadata": {},
   "source": [
    "## Sentiment Analysis"
   ]
  },
  {
   "cell_type": "code",
   "execution_count": null,
   "metadata": {
    "collapsed": true
   },
   "outputs": [],
   "source": [
    "# you should be able to do unsupervised sentiment analysis here ...\n",
    "# select the English tweets only for sentiment analysis\n",
    "# you may use \"Pattern python package\""
   ]
  },
  {
   "cell_type": "code",
   "execution_count": null,
   "metadata": {
    "collapsed": true
   },
   "outputs": [],
   "source": [
    "from pattern.en import sentiment"
   ]
  },
  {
   "cell_type": "code",
   "execution_count": null,
   "metadata": {
    "collapsed": true
   },
   "outputs": [],
   "source": [
    "for tweet in english_originaltweets_clean:\n",
    "    score = sentiment(tweet)\n",
    "    print score[0], score[1] "
   ]
  },
  {
   "cell_type": "markdown",
   "metadata": {},
   "source": [
    "Or you could do text preprocessing before sentiment analysis. The results look almost same."
   ]
  },
  {
   "cell_type": "code",
   "execution_count": null,
   "metadata": {
    "collapsed": true
   },
   "outputs": [],
   "source": [
    "# Remove useless numbers and alphanumerical words\n",
    "documents = [re.sub(\"[^a-zA-Z]+\", \" \", document) for document in english_originaltweets]\n",
    "# tokenize\n",
    "texts = [[word for word in document.lower().split() ] for document in documents]\n",
    "# remove common words \n",
    "stoplist = stopwords.words('english')\n",
    "texts = [[word for word in text if word not in stoplist] for text in texts]\n",
    "#remove short words\n",
    "texts = [[ word for word in tokens if len(word) >= 3 ] for tokens in texts]\n",
    "\n",
    "for row in texts:\n",
    "    score = sentiment(row)\n",
    "    print score[0], score[1]  "
   ]
  },
  {
   "cell_type": "markdown",
   "metadata": {},
   "source": [
    "### Collecting and analysting user profiles (Appedix)"
   ]
  },
  {
   "cell_type": "code",
   "execution_count": null,
   "metadata": {
    "collapsed": true
   },
   "outputs": [],
   "source": [
    "for i in screen_names_description:\n",
    "    print i"
   ]
  },
  {
   "cell_type": "markdown",
   "metadata": {},
   "source": [
    "# 5. Network Analytics \n",
    "\n",
    "## Mention Network"
   ]
  },
  {
   "cell_type": "markdown",
   "metadata": {},
   "source": [
    "Consider a tweet by **@kevin**, **\"@amy, are you available today? how about coffee this afternoon? #friday**\n",
    "\n",
    "The above tweet creates a relationship between @kevin and @amy. This relationship is created by **mention**."
   ]
  },
  {
   "cell_type": "code",
   "execution_count": 17,
   "metadata": {},
   "outputs": [
    {
     "name": "stdout",
     "output_type": "stream",
     "text": [
      "#BladeRunner2049 just reminded me what cinema is capable of. Phenomenal.\n",
      "Film of the year (pre-Star Wars, of course)., #BladeRunner2049 just reminded me what cinema is capable of. Phenomenal.\n",
      "Film of the year (pre-Star Wars, of course).\n",
      "The longest 2.5 hours of my life...and, the most gratuitous needless use of naked young females I've seen for a long time #Bladerunner2049, The longest 2.5 hours of my life...and, the most gratuitous needless use of naked young females I've seen for a long time #Bladerunner2049\n",
      "“I always told you. You're special. Your history isn't over yet. There's still a page left.” #BladeRunner2049 https://t.co/QcllcTaZi7, “I always told you. You're special. Your history isn't over yet. There's still a page left.” #BladeRunner2049 https://t.co/QcllcTaZi7\n",
      "So... #BladeRunner2049. Really good movie, definitely in my Top 10 of the year... But it is one of Denis' weakest &amp; the original is better., So... #BladeRunner2049. Really good movie, definitely in my Top 10 of the year... But it is one of Denis' weakest &amp; the original is better.\n",
      "The music for #BladeRunner2049 was mostly everything it needed to be. A non-traditional soundtrack that fit this non-traditional film., The music for #BladeRunner2049 was mostly everything it needed to be. A non-traditional soundtrack that fit this non-traditional film.\n",
      "Bloody hell #BladeRunner2049 is good. Music still gives me chills., Bloody hell #BladeRunner2049 is good. Music still gives me chills.\n",
      "@bladerunner stigao na recenziju. Više na https://t.co/7yhhNgW3qk #BladeRunner2049 #musicboxhr #review #movie… https://t.co/W2wLE6oOGO, @bladerunner stigao na recenziju. Više na https://t.co/7yhhNgW3qk #BladeRunner2049 #musicboxhr #review #movie… https://t.co/W2wLE6oOGO\n",
      "#BladeRunner2049 is easily one of the best movies I’ve ever seen., #BladeRunner2049 is easily one of the best movies I’ve ever seen.\n",
      "@ortyzapple Ecco le prove #BladeRunner2049 https://t.co/7CNElSriAQ, @ortyzapple Ecco le prove #BladeRunner2049 https://t.co/7CNElSriAQ\n",
      "ICYMI: @goodyk and I talk a lot, and answer questions about #BladeRunner2049 on Insider Movie Club for @USATODAY https://t.co/qREclKV7J1, ICYMI: @goodyk and I talk a lot, and answer questions about #BladeRunner2049 on Insider Movie Club for @USATODAY https://t.co/qREclKV7J1\n",
      "ICYMI: @goodyk and I talk a lot, and answer questions about #BladeRunner2049 on Insider Movie Club for @USATODAY https://t.co/PSsikRoyVH, ICYMI: @goodyk and I talk a lot, and answer questions about #BladeRunner2049 on Insider Movie Club for @USATODAY https://t.co/PSsikRoyVH\n",
      "Saw it yesterday - LOVED it! &lt;3 👍\n",
      "#BladeRunner2049 https://t.co/DmQxfJHT7J, Saw it yesterday - LOVED it! &lt;3 👍\n",
      "#BladeRunner2049 https://t.co/DmQxfJHT7J\n",
      "We talk #TheLastJedi #NFL #ShadowofWar #Marvel's timeline+why YOU need to see #BladeRunner2049 now on #Mixcloud https://t.co/HfktvH2Ttw, We talk #TheLastJedi #NFL #ShadowofWar #Marvel's timeline+why YOU need to see #BladeRunner2049 now on #Mixcloud https://t.co/HfktvH2Ttw\n",
      "I just saw #BladeRunner2049! Gonna hang onto my thoughts cause a friend’s seeing it tomorrow but boy did those marketers have a tough job., I just saw #BladeRunner2049! Gonna hang onto my thoughts cause a friend’s seeing it tomorrow but boy did those marketers have a tough job.\n",
      "#BladeRunner2049 reaction on #StardustApp https://t.co/V7Vv6x8tH0, #BladeRunner2049 reaction on #StardustApp https://t.co/V7Vv6x8tH0\n",
      "See why #BladeRunner2049 is an absolute triumph. Get tickets:  https://t.co/ygpgrUbl5G https://t.co/S5S2szLI5u, See why #BladeRunner2049 is an absolute triumph. Get tickets:  https://t.co/ygpgrUbl5G https://t.co/S5S2szLI5u\n",
      "See why #BladeRunner2049 is an absolute triumph. Get tickets:  https://t.co/70RoZnjrjT https://t.co/bADo3clwyD, See why #BladeRunner2049 is an absolute triumph. Get tickets:  https://t.co/70RoZnjrjT https://t.co/bADo3clwyD\n",
      "Who gave the best performance in 'Blade Runner 2049'? \n",
      "#BladeRunner2049, Who gave the best performance in 'Blade Runner 2049'? \n",
      "#BladeRunner2049\n",
      "#Movies #BladeRunner2049 Blade Runner 2049: TV Spot - Stop Him https://t.co/ceBcIiqTGK #teamfollowback #RT https://t.co/7zBXwh5A3h, #Movies #BladeRunner2049 Blade Runner 2049: TV Spot - Stop Him https://t.co/ceBcIiqTGK #teamfollowback #RT https://t.co/7zBXwh5A3h\n",
      "Finally, #BladeRunner2049! How long have I waited for this? 35 years?, Finally, #BladeRunner2049! How long have I waited for this? 35 years?\n",
      "@NewlynFilmhouse we seen #bladerunner2049 3 days ago, we could not resist returning to your #superb #Filmhouse to see it again tomorrow, @NewlynFilmhouse we seen #bladerunner2049 3 days ago, we could not resist returning to your #superb #Filmhouse to see it again tomorrow\n",
      "#Hollywood star #RyanGosling on the pressure of starring in #BladeRunner2049 https://t.co/inaUOlLhPF via @theweeklyreview, #Hollywood star #RyanGosling on the pressure of starring in #BladeRunner2049 https://t.co/inaUOlLhPF via @theweeklyreview\n",
      "See why #BladeRunner2049 is an absolute triumph. Get tickets:  https://t.co/qgMD4965jF https://t.co/L1sYpPcRj6, See why #BladeRunner2049 is an absolute triumph. Get tickets:  https://t.co/qgMD4965jF https://t.co/L1sYpPcRj6\n",
      "#Hollywood star #RyanGosling on the pressure of starring in #BladeRunner2049 https://t.co/nhBwb3GDgT via @theweeklyreview, #Hollywood star #RyanGosling on the pressure of starring in #BladeRunner2049 https://t.co/nhBwb3GDgT via @theweeklyreview\n",
      "#BladeRunner2049 and then @Lepub for a swift drink. The future is dystopian and beautiful. Early night needed now. #CinemaEyes, #BladeRunner2049 and then @Lepub for a swift drink. The future is dystopian and beautiful. Early night needed now. #CinemaEyes\n",
      "#BladeRunner2049 K’s life is a sad trombone. https://t.co/PwckW3wtCT, #BladeRunner2049 K’s life is a sad trombone. https://t.co/PwckW3wtCT\n",
      "BLADE RUNNER 2049\n",
      "$2.2M Thursday\n",
      "$45.4M first week and total\n",
      "#BladeRunner2049, BLADE RUNNER 2049\n",
      "$2.2M Thursday\n",
      "$45.4M first week and total\n",
      "#BladeRunner2049\n",
      "@23andMe will your service notify the government that someone is a Replicant? Asking for a friend? #BladeRunner2049, @23andMe will your service notify the government that someone is a Replicant? Asking for a friend? #BladeRunner2049\n",
      "@archiebunkerUK equally...who is going to feed Harrison Ford's dog? #BladeRunner2049, @archiebunkerUK equally...who is going to feed Harrison Ford's dog? #BladeRunner2049\n",
      "#BladeRunner2049 is magnificent. Holy moly., #BladeRunner2049 is magnificent. Holy moly.\n",
      "\"You do not know what pain is yet. You will learn.\" #BladeRunner2049 Damn this movie still playing in my head 😍👏🏽, \"You do not know what pain is yet. You will learn.\" #BladeRunner2049 Damn this movie still playing in my head 😍👏🏽\n",
      "#BladeRunner2049 6.5/10\n",
      "\n",
      "For cinematography alone this is a stunning film that should be seen on screen.\n",
      "\n",
      "The rest - don’t believe the hype., #BladeRunner2049 6.5/10\n",
      "\n",
      "For cinematography alone this is a stunning film that should be seen on screen.\n",
      "\n",
      "The rest - don’t believe the hype.\n",
      "#BladeRunner2049 did it for me - brilliant sequel that did justice to, and built upon, the original. In my top 5 films of 2017 so far., #BladeRunner2049 did it for me - brilliant sequel that did justice to, and built upon, the original. In my top 5 films of 2017 so far.\n",
      "#BladeRunner2049 is aesthetically beautiful, narratively incomplete. You wait for the ending, but then it's the credits., #BladeRunner2049 is aesthetically beautiful, narratively incomplete. You wait for the ending, but then it's the credits.\n",
      "I have no words to truly describe how amazing #BladeRunner2049 is! 10/10, I have no words to truly describe how amazing #BladeRunner2049 is! 10/10\n",
      "Had a great day out with @Tashaski27 saw #BladeRunner2049 and tomorrow #RTXLondon starts cannot wait. https://t.co/C8olXB8gyU, Had a great day out with @Tashaski27 saw #BladeRunner2049 and tomorrow #RTXLondon starts cannot wait. https://t.co/C8olXB8gyU\n",
      "Going to see #BladeRunner2049 ...hope it's good!🤞🏾, Going to see #BladeRunner2049 ...hope it's good!🤞🏾\n",
      "Blade Runner 2049 @bladerunner Red Carpet Movie Review live! https://t.co/9NNsuD9aqG #BladeRunner2049 #MovieReview #bladerunner #ryangosling, Blade Runner 2049 @bladerunner Red Carpet Movie Review live! https://t.co/9NNsuD9aqG #BladeRunner2049 #MovieReview #bladerunner #ryangosling\n",
      "@MountainBetween #MountainBetweenUs 1300 @bladerunner #BladeRunner2049 1545 @AmMadeMovie #AmericanMade 1930 #Sunday! https://t.co/x0d8lAq1Gi, @MountainBetween #MountainBetweenUs 1300 @bladerunner #BladeRunner2049 1545 @AmMadeMovie #AmericanMade 1930 #Sunday! https://t.co/x0d8lAq1Gi\n",
      "See why #BladeRunner2049 is an absolute triumph. Get tickets:  https://t.co/7Ta2a9pF0J https://t.co/Xce3pSln5p, See why #BladeRunner2049 is an absolute triumph. Get tickets:  https://t.co/7Ta2a9pF0J https://t.co/Xce3pSln5p\n",
      "You don't want to miss this. Get your weekend tickets for #BladeRunner2049! https://t.co/9fp98E4Oxp https://t.co/SSNx0nsntL, You don't want to miss this. Get your weekend tickets for #BladeRunner2049! https://t.co/9fp98E4Oxp https://t.co/SSNx0nsntL\n",
      "First thoughts after three hours of #Villeneuve's landscaping - heightening the artistic integrity of film making. #BladeRunner2049, First thoughts after three hours of #Villeneuve's landscaping - heightening the artistic integrity of film making. #BladeRunner2049\n",
      "¡#BladeRunner2049 ha llegado!\n",
      "https://t.co/rR6GHjtzSh, ¡#BladeRunner2049 ha llegado!\n",
      "https://t.co/rR6GHjtzSh\n",
      "@KermodeMovie @robbiereviews Thank you both for championing #BladeRunner2049-just seen it for 2nd time, magnificent &amp; I wept at the end, @KermodeMovie @robbiereviews Thank you both for championing #BladeRunner2049-just seen it for 2nd time, magnificent &amp; I wept at the end\n",
      "🤖 Diez datos curiosos de #BladeRunner2049 https://t.co/4xhDbBk1CO 🤖 https://t.co/tFVZIt5zZt, 🤖 Diez datos curiosos de #BladeRunner2049 https://t.co/4xhDbBk1CO 🤖 https://t.co/tFVZIt5zZt\n",
      "After all the 'flop' talk we decided to share our views on #BladeRunner2049. Spoiler: it's great! https://t.co/z5YDEgS12f, After all the 'flop' talk we decided to share our views on #BladeRunner2049. Spoiler: it's great! https://t.co/z5YDEgS12f\n",
      "#BladeRunner2049: almost as good as #exmachina, which is to say v. g. indeed.Don't be put off by the length; that's how long it needs to be., #BladeRunner2049: almost as good as #exmachina, which is to say v. g. indeed.Don't be put off by the length; that's how long it needs to be.\n",
      "Blade Runner 2049 was brilliant. Ryan Gosling always has such great jackets! #BladeRunner2049, Blade Runner 2049 was brilliant. Ryan Gosling always has such great jackets! #BladeRunner2049\n",
      "@NewlynFilmhouse we seen #Bladerunner2049 2 days ago @ your #superb #Filmhouse loved it! So we booked 2 tickets to… https://t.co/mKtggPsTFl, @NewlynFilmhouse we seen #Bladerunner2049 2 days ago @ your #superb #Filmhouse loved it! So we booked 2 tickets to… https://t.co/mKtggPsTFl\n",
      "So I saw #bladerunner2049 &amp; I have not been disappointed. My brain &amp; heart are happy., So I saw #bladerunner2049 &amp; I have not been disappointed. My brain &amp; heart are happy.\n",
      "More Human Than Human? #BladeRunner2049 #Bladerunner @bladerunner #HarrisonFord #RidleyScott #denisvilleneuve https://t.co/4wlRizniNH, More Human Than Human? #BladeRunner2049 #Bladerunner @bladerunner #HarrisonFord #RidleyScott #denisvilleneuve https://t.co/4wlRizniNH\n",
      "#BladeRunner2049 a masterpiece of visuals not just cinematography but created landscapes and immersive sets. https://t.co/xfnvxFCyeV, #BladeRunner2049 a masterpiece of visuals not just cinematography but created landscapes and immersive sets. https://t.co/xfnvxFCyeV\n",
      "#BladeRunner2049  such a quality film, best film I've seen so far!!!!, #BladeRunner2049  such a quality film, best film I've seen so far!!!!\n",
      "#BladeRunner2049 is one of the few times I've watched a very interesting movie that is also extremely boring. #SayItLikeItIs, #BladeRunner2049 is one of the few times I've watched a very interesting movie that is also extremely boring. #SayItLikeItIs\n",
      "Saying I'm incredibly excited to see Blade Runner 2049 is an egregious understatement. #BladeRunner2049 #Blade Runn… https://t.co/cWcYzKazXr, Saying I'm incredibly excited to see Blade Runner 2049 is an egregious understatement. #BladeRunner2049 #Blade Runn… https://t.co/cWcYzKazXr\n",
      "Need more #BladeRunner2049 discussion? Check out our boss @rejects on @stormofspoilers this week:… https://t.co/IuESWiE6cU, Need more #BladeRunner2049 discussion? Check out our boss @rejects on @stormofspoilers this week:… https://t.co/IuESWiE6cU\n",
      "#Hollywood star #RyanGosling on the pressure of starring in #BladeRunner2049 https://t.co/MeX1K2Lj2I via @theweeklyreview, #Hollywood star #RyanGosling on the pressure of starring in #BladeRunner2049 https://t.co/MeX1K2Lj2I via @theweeklyreview\n",
      "#BladeRunner2049 tooooo loud, toooo long and dun make sense! 👎🏼, #BladeRunner2049 tooooo loud, toooo long and dun make sense! 👎🏼\n",
      "Me watching #BladeRunner2049: wow this is visually stunning\n",
      "\n",
      "Also me: wow look at all these #RyanGoslingWontEatHisCereal opportunities, Me watching #BladeRunner2049: wow this is visually stunning\n",
      "\n",
      "Also me: wow look at all these #RyanGoslingWontEatHisCereal opportunities\n",
      "Joi and Luv\n",
      "\n",
      "#BladeRunner2049 https://t.co/3vpyex9Y0u, Joi and Luv\n",
      "\n",
      "#BladeRunner2049 https://t.co/3vpyex9Y0u\n",
      "Amazing. Go see it. https://t.co/eypCQoMeuh #BladeRunner2049, Amazing. Go see it. https://t.co/eypCQoMeuh #BladeRunner2049\n",
      "The fans have spoken. #BladeRunner2049 is now playing. Get tickets, #SignInAndSave Now through #EXTRAS:… https://t.co/oFBWMO0kKC, The fans have spoken. #BladeRunner2049 is now playing. Get tickets, #SignInAndSave Now through #EXTRAS:… https://t.co/oFBWMO0kKC\n",
      "The fans have spoken. #BladeRunner2049 is now playing. Get tickets, #SignInAndSave Now through #EXTRAS:… https://t.co/YkDfFXFSr8, The fans have spoken. #BladeRunner2049 is now playing. Get tickets, #SignInAndSave Now through #EXTRAS:… https://t.co/YkDfFXFSr8\n",
      "Episode 95: #BladeRunner2049 with Denis Villeneuve and Rian Johnson by The Director&amp;#x27;s Cut via #soundcloud https://t.co/G7Ihm0upWo, Episode 95: #BladeRunner2049 with Denis Villeneuve and Rian Johnson by The Director&amp;#x27;s Cut via #soundcloud https://t.co/G7Ihm0upWo\n",
      "Sick of misogyny #BladeRunner2049, Sick of misogyny #BladeRunner2049\n",
      "#BladeRunner2049 is damn good🌟, #BladeRunner2049 is damn good🌟\n",
      "This showed up from @fandango today! You guys rock! bladerunnermovie #deckard #bladerunner2049… https://t.co/s3xe94SNmf, This showed up from @fandango today! You guys rock! bladerunnermovie #deckard #bladerunner2049… https://t.co/s3xe94SNmf\n",
      "#bladerunner2049 (at @Cinemaximum in Ankara, Türkiye) https://t.co/USzOGL06LI, #bladerunner2049 (at @Cinemaximum in Ankara, Türkiye) https://t.co/USzOGL06LI\n",
      "RT adnanESPN: Why #bladerunner2049 is an esoteric film with an ethereal soundtrack plus ScottFeinberg on Harvey We… https://t.co/REP1I92JJl, RT adnanESPN: Why #bladerunner2049 is an esoteric film with an ethereal soundtrack plus ScottFeinberg on Harvey We… https://t.co/REP1I92JJl\n",
      "I watched you twice, and sorry, it's not me, it's you, #BladeRunner2049  Let us part amicably. I shan't see you ever again., I watched you twice, and sorry, it's not me, it's you, #BladeRunner2049  Let us part amicably. I shan't see you ever again.\n",
      "Blimmin eck that was intense. I have one question - what were the bees feeding on? #bladerunner2049, Blimmin eck that was intense. I have one question - what were the bees feeding on? #bladerunner2049\n",
      "At the final scene of #BladeRunner2049 I justed waited for „A real hero“ to come up when @RyanGosling lay down on the stairs., At the final scene of #BladeRunner2049 I justed waited for „A real hero“ to come up when @RyanGosling lay down on the stairs.\n",
      "Went to go see #BladeRunner2049. What a fantastic movie!, Went to go see #BladeRunner2049. What a fantastic movie!\n",
      "REVIEW: #BladeRunner2049 looks smashing but moves slowly https://t.co/iICzaUfoux @siouxbruce https://t.co/1pqiVR9ZHz, REVIEW: #BladeRunner2049 looks smashing but moves slowly https://t.co/iICzaUfoux @siouxbruce https://t.co/1pqiVR9ZHz\n",
      "Actually, another question - the adult birth thing with the cut belly, what was the point in that? #bladerunner2049, Actually, another question - the adult birth thing with the cut belly, what was the point in that? #bladerunner2049\n",
      "Planning to see #BladeRunner2049? It doesn't live up to the original, says @ronburnett of @EmilyCarrU \n",
      "https://t.co/ZwbFNu6dnD, Planning to see #BladeRunner2049? It doesn't live up to the original, says @ronburnett of @EmilyCarrU \n",
      "https://t.co/ZwbFNu6dnD\n",
      "Speechless #BladeRunner2049, Speechless #BladeRunner2049\n",
      "Not just me then https://t.co/GpfVuomHQq #BladeRunner2049 #bitdisappointed, Not just me then https://t.co/GpfVuomHQq #BladeRunner2049 #bitdisappointed\n",
      "Yes!!!!!! Everyone must witness its glory in theaters! #BladeRunner2049 https://t.co/yuvv1SJiuw, Yes!!!!!! Everyone must witness its glory in theaters! #BladeRunner2049 https://t.co/yuvv1SJiuw\n",
      "Last night I saw #BladeRunner2049, and I think it might beat #TheMatrix as my favorite movie, Last night I saw #BladeRunner2049, and I think it might beat #TheMatrix as my favorite movie\n",
      "I am in absolute aw. What a masterpiece. I cannot believe how good that was. #BladeRunner2049, I am in absolute aw. What a masterpiece. I cannot believe how good that was. #BladeRunner2049\n",
      "Alright. I give up. Been a week and I still haven't come up with a joke about how pissed I am that Wesley Snipes wasn't in #BladeRunner2049, Alright. I give up. Been a week and I still haven't come up with a joke about how pissed I am that Wesley Snipes wasn't in #BladeRunner2049\n",
      "Wow #BladeRunner2049 was shite, Wow #BladeRunner2049 was shite\n",
      "&gt;she will never hold your hand while watching #BladeRunner2049 together in the cinema and smile with you when @RyanGosling appears, &gt;she will never hold your hand while watching #BladeRunner2049 together in the cinema and smile with you when @RyanGosling appears\n",
      "#BladeRunner2049 is a technical masterpiece - from the visuals to the mix of practical/CGI to the amazing sound design and score. 1/, #BladeRunner2049 is a technical masterpiece - from the visuals to the mix of practical/CGI to the amazing sound design and score. 1/\n",
      "Holy fuck. I'm apologising now to any wives/kids I have in the future because #BladeRunner2049 is the most beautiful thing I've ever seen., Holy fuck. I'm apologising now to any wives/kids I have in the future because #BladeRunner2049 is the most beautiful thing I've ever seen.\n",
      "Take a glimpse into the future and see #Vancouver2049! #BladeRunner2049 https://t.co/d7Yk0JCYHY, Take a glimpse into the future and see #Vancouver2049! #BladeRunner2049 https://t.co/d7Yk0JCYHY\n",
      "Lets see what goes down in 2049 #BladeRunner2049 #datenight, Lets see what goes down in 2049 #BladeRunner2049 #datenight\n",
      "Not even Ryan Gosling could keep me interested in #BladeRunner2049 \n",
      "To be fair though it has been a tough week &amp; I was absolutely shattered, Not even Ryan Gosling could keep me interested in #BladeRunner2049 \n",
      "To be fair though it has been a tough week &amp; I was absolutely shattered\n",
      "Thought the new blade runner was decent, tied in well with the original #BladeRunner2049, Thought the new blade runner was decent, tied in well with the original #BladeRunner2049\n",
      "Heard after the movie:\n",
      "\n",
      "“What did you think?”\n",
      "\n",
      "“Rubbish!”\n",
      "\n",
      "So not a film for everyone. But I thought it was 👌\n",
      "\n",
      "#BladeRunner2049, Heard after the movie:\n",
      "\n",
      "“What did you think?”\n",
      "\n",
      "“Rubbish!”\n",
      "\n",
      "So not a film for everyone. But I thought it was 👌\n",
      "\n",
      "#BladeRunner2049\n",
      "@RyanGosling &gt;she will never cuddle you after watching #BladeRunner2049 and compliment @RyanGosling's performance with you, @RyanGosling &gt;she will never cuddle you after watching #BladeRunner2049 and compliment @RyanGosling's performance with you\n",
      "#bladerunner2049 The android / AI relationship discussion., #bladerunner2049 The android / AI relationship discussion.\n",
      "Saw it! #bladerunner2049 @ Regal Cinemas Jack London 9 https://t.co/0WtGKWHvT7, Saw it! #bladerunner2049 @ Regal Cinemas Jack London 9 https://t.co/0WtGKWHvT7\n",
      "#BladeRunner2049 #bladerunner #harrisonford\n",
      "https://t.co/5NXQP29SMd, #BladeRunner2049 #bladerunner #harrisonford\n",
      "https://t.co/5NXQP29SMd\n",
      "#Bladerunner2049 was a visual feast with sound design to die for. Loved it 👍, #Bladerunner2049 was a visual feast with sound design to die for. Loved it 👍\n",
      "Take a glimpse into the future and see #Montreal2049! #BladeRunner2049 https://t.co/TDULjklU4Z, Take a glimpse into the future and see #Montreal2049! #BladeRunner2049 https://t.co/TDULjklU4Z\n",
      "Just amazing!  Just saw #BladeRunner2049, Just amazing!  Just saw #BladeRunner2049\n",
      "#IWasMindBlownWhen #BladeRunner2049 turned out to be a good sequel (but that might just be my memory implants talki… https://t.co/5rJXfYOaeF, #IWasMindBlownWhen #BladeRunner2049 turned out to be a good sequel (but that might just be my memory implants talki… https://t.co/5rJXfYOaeF\n",
      "#BladeRunner2049 Superb! Huge fan of the original and wasn't disappointed, #BladeRunner2049 Superb! Huge fan of the original and wasn't disappointed\n",
      "Joe is Joe because he is told he is Joe i#BladeRunner2049, Joe is Joe because he is told he is Joe i#BladeRunner2049\n",
      "🎞️「ブレードランナー 2049」#BladeRunner2049 #ブレードランナー2049\n",
      "© 2017 ALCON ENTERTAINMENT, LLC., WARNER BROS. ENTERTAINMENT INC. A… https://t.co/qR5yWiBZYa, 🎞️「ブレードランナー 2049」#BladeRunner2049 #ブレードランナー2049\n",
      "© 2017 ALCON ENTERTAINMENT, LLC., WARNER BROS. ENTERTAINMENT INC. A… https://t.co/qR5yWiBZYa\n",
      "Wow...#BladeRunner2049 looks, sounds and just is stunning in every way. Quite speechless., Wow...#BladeRunner2049 looks, sounds and just is stunning in every way. Quite speechless.\n",
      "#BladeRunner2049 is the best film of the year and it is a marvel of filmmaking. It’s also the most beautiful looking film I’ve ever seen., #BladeRunner2049 is the best film of the year and it is a marvel of filmmaking. It’s also the most beautiful looking film I’ve ever seen.\n",
      "Blade Runner: 9/10 (rounded up)\n",
      "best movie I've seen this year.\n",
      "\n",
      "Holy shit that music, sound, cinematography.\n",
      "\n",
      "#BladeRunner2049, Blade Runner: 9/10 (rounded up)\n",
      "best movie I've seen this year.\n",
      "\n",
      "Holy shit that music, sound, cinematography.\n",
      "\n",
      "#BladeRunner2049\n",
      "Saw #Bladerunner2049 last night looks amazing but SO DISAPPOINTING on issue of #genderroles. Next time(?) a female… https://t.co/wNxMtnL28b, Saw #Bladerunner2049 last night looks amazing but SO DISAPPOINTING on issue of #genderroles. Next time(?) a female… https://t.co/wNxMtnL28b\n",
      "Also, why does Ryan Gosling get the most badass jacket in all his films. #BladeRunner2049, Also, why does Ryan Gosling get the most badass jacket in all his films. #BladeRunner2049\n",
      "Joe is Joe because they tell him he is Joe #BladeRunner2049, Joe is Joe because they tell him he is Joe #BladeRunner2049\n",
      "Just saw #BladeRunner2049 and that is probably the best sequel since Empire Strikes Back, it's a freaking must see masterpiece! 😳😍, Just saw #BladeRunner2049 and that is probably the best sequel since Empire Strikes Back, it's a freaking must see masterpiece! 😳😍\n",
      "still in awe from #BladeRunner2049 's Soundtrack....Jesus, still in awe from #BladeRunner2049 's Soundtrack....Jesus\n",
      "Triple movie marathon completed - quite a day 😎👍#TheSnowman \n",
      "#BladeRunner2049\n",
      "#TheRitual \n",
      "@ODEONCinemas \n",
      "#Limitless… https://t.co/jgKvWKDJ5Q, Triple movie marathon completed - quite a day 😎👍#TheSnowman \n",
      "#BladeRunner2049\n",
      "#TheRitual \n",
      "@ODEONCinemas \n",
      "#Limitless… https://t.co/jgKvWKDJ5Q\n",
      "Ah man what an absolutely stunning film #BladeRunner2049 https://t.co/iGs1qBOTvU, Ah man what an absolutely stunning film #BladeRunner2049 https://t.co/iGs1qBOTvU\n",
      "Good news!!!! #BladeRunner2049 isn’t rapey like the original! Still objectifies women but that’s how Hollywood rolls. Much better than ‘82., Good news!!!! #BladeRunner2049 isn’t rapey like the original! Still objectifies women but that’s how Hollywood rolls. Much better than ‘82.\n",
      "So, #Bladerunner2049 might be a little long but it’s beautiful and amazing, So, #Bladerunner2049 might be a little long but it’s beautiful and amazing\n",
      "My show 5-9pm today https://t.co/VORg4xAjS8 w news in #Bibleprophecy, #Bladerunner2049 review, new Steve Miller, Robert Plant CDs, poems etc, My show 5-9pm today https://t.co/VORg4xAjS8 w news in #Bibleprophecy, #Bladerunner2049 review, new Steve Miller, Robert Plant CDs, poems etc\n",
      "Blade Runner 2049 is easily one of my favorite movies of 2017! My spoiler-free review: https://t.co/AQ7SqJa7PR #BladeRunner2049 #movies, Blade Runner 2049 is easily one of my favorite movies of 2017! My spoiler-free review: https://t.co/AQ7SqJa7PR #BladeRunner2049 #movies\n",
      "Blade Runner 2049 is easily one of my favorite movies of 2017! My spoiler-free review: https://t.co/jBUISvX2gH #BladeRunner2049 #movies, Blade Runner 2049 is easily one of my favorite movies of 2017! My spoiler-free review: https://t.co/jBUISvX2gH #BladeRunner2049 #movies\n",
      "#BladeRunner2049 will make you question the human psyce of the future. #Human #Replicant #Slave #Freedom #HumanRights #Future #Soul #Life, #BladeRunner2049 will make you question the human psyce of the future. #Human #Replicant #Slave #Freedom #HumanRights #Future #Soul #Life\n",
      "#TGIF with #The602Club as we discuss #BladeRunner &amp; #BladeRunner2049! https://t.co/rhxNB3psS0 https://t.co/JJxZ57bJuO, #TGIF with #The602Club as we discuss #BladeRunner &amp; #BladeRunner2049! https://t.co/rhxNB3psS0 https://t.co/JJxZ57bJuO\n",
      "#bladerunner2049 Can't wait! #denisevilleneuve I know you will bring it! https://t.co/2M6BLmU5SZ, #bladerunner2049 Can't wait! #denisevilleneuve I know you will bring it! https://t.co/2M6BLmU5SZ\n",
      "Qua sfeerzetting kon dat tellen! #BladeRunner2049, Qua sfeerzetting kon dat tellen! #BladeRunner2049\n",
      "#bladerunner2049 #imax https://t.co/ljRtUy6wgP https://t.co/B8iDkC8xFs, #bladerunner2049 #imax https://t.co/ljRtUy6wgP https://t.co/B8iDkC8xFs\n",
      "#BladeRunner2049 was 👌🏻👏🏻🙌🏻😲😭 Also, can we just talk about the music too? 👏🏻🙌🏻😱, #BladeRunner2049 was 👌🏻👏🏻🙌🏻😲😭 Also, can we just talk about the music too? 👏🏻🙌🏻😱\n",
      "Round 2 for #BladeRunner2049 completed! Anyone for Round 3? 😝💜✨, Round 2 for #BladeRunner2049 completed! Anyone for Round 3? 😝💜✨\n",
      "#Prisoners, #Sicario, #BladeRunner2049 - Villeneuve has already got a trilogy of films I'd collect and cherish.., #Prisoners, #Sicario, #BladeRunner2049 - Villeneuve has already got a trilogy of films I'd collect and cherish..\n",
      "#BladeRunner2049\n",
      "1st viewing: unsure how I felt about it.\n",
      "2nd viewing: absolutely LOVED it. May just be my fave of the year., #BladeRunner2049\n",
      "1st viewing: unsure how I felt about it.\n",
      "2nd viewing: absolutely LOVED it. May just be my fave of the year.\n",
      "Watching #BladeRunner2049 , too much talking and boredom, Watching #BladeRunner2049 , too much talking and boredom\n",
      "#BladeRunner2049 was 👌🏻👏🏻🙌🏻😲😭 Also, can we just talk about the visuals and the music too? 👏🏻🙌🏻😱, #BladeRunner2049 was 👌🏻👏🏻🙌🏻😲😭 Also, can we just talk about the visuals and the music too? 👏🏻🙌🏻😱\n",
      "HERE C0ME DA JUDGE https://t.co/8dZbKu7c59 #friday13 #goodreads #JudgeJeanine #JudgeJudy #JUDGEmentday #scifi #BladeRunner2049 #review #tmz, HERE C0ME DA JUDGE https://t.co/8dZbKu7c59 #friday13 #goodreads #JudgeJeanine #JudgeJudy #JUDGEmentday #scifi #BladeRunner2049 #review #tmz\n",
      "So, #Bladerunner2049 might be a little long but it’s beautiful and amazing, So, #Bladerunner2049 might be a little long but it’s beautiful and amazing\n",
      "Are we Humans or Replicants?!? \n",
      "👩🏻‍🎤👨🏻‍🎤 @XanderXDR \n",
      "\n",
      " #KimSanLove #BladeRunner2049 https://t.co/GejbdMpq9L, Are we Humans or Replicants?!? \n",
      "👩🏻‍🎤👨🏻‍🎤 @XanderXDR \n",
      "\n",
      " #KimSanLove #BladeRunner2049 https://t.co/GejbdMpq9L\n",
      "#BladeRunner2049 was very beautiful and dreamy, like the first, did some nice worldbuilding and the soundtrack was gorgeous. Bit long though, #BladeRunner2049 was very beautiful and dreamy, like the first, did some nice worldbuilding and the soundtrack was gorgeous. Bit long though\n",
      "#BladeRunner2049 \n",
      "So. Good. So very good. #DoAndroidsDreamofCarvedHorses https://t.co/8rHo76lyCP, #BladeRunner2049 \n",
      "So. Good. So very good. #DoAndroidsDreamofCarvedHorses https://t.co/8rHo76lyCP\n",
      "Myself and @Ms_L_K loved @bladerunner ...such a great film. #BladeRunner2049 https://t.co/gefRlLPtRI, Myself and @Ms_L_K loved @bladerunner ...such a great film. #BladeRunner2049 https://t.co/gefRlLPtRI\n",
      "An evening out at @tynesidecinema  #BladeRunner2049 😊 https://t.co/zV3Y9j9vXX, An evening out at @tynesidecinema  #BladeRunner2049 😊 https://t.co/zV3Y9j9vXX\n",
      "New #BladeRunner2049 is like a drunk sex. You know from the start how its gonna end but it lasts way longer. @bladerunner, New #BladeRunner2049 is like a drunk sex. You know from the start how its gonna end but it lasts way longer. @bladerunner\n",
      "So #BladeRunner2049 is the first film I've walked out of. Amazing shots and sounds, but would've been good if it was half as long., So #BladeRunner2049 is the first film I've walked out of. Amazing shots and sounds, but would've been good if it was half as long.\n",
      "Uploading my Review of #BladeRunner2049 soon., Uploading my Review of #BladeRunner2049 soon.\n",
      "¿Está mal querer ver por 2a vez en el cine #BladeRunner2049 ? 🤖, ¿Está mal querer ver por 2a vez en el cine #BladeRunner2049 ? 🤖\n",
      "@ShowPlaceICON \n",
      "@wbpictures \n",
      "#BladeRunner2049 \n",
      "#Human for sure\n",
      "@tonetash02 \n",
      "@marybenack \n",
      "@ChristyGeorge10… https://t.co/EZFuPJ6FGt, @ShowPlaceICON \n",
      "@wbpictures \n",
      "#BladeRunner2049 \n",
      "#Human for sure\n",
      "@tonetash02 \n",
      "@marybenack \n",
      "@ChristyGeorge10… https://t.co/EZFuPJ6FGt\n",
      "... plus Luv the villainous female replicant was a little too cartoony, like a deadly Frau Farbissina 4.0 #BladeRunner2049 @bladerunner, ... plus Luv the villainous female replicant was a little too cartoony, like a deadly Frau Farbissina 4.0 #BladeRunner2049 @bladerunner\n",
      "#BladeRunner2049 is one of those 'one and done' films. Top class but I don't think I could watch it again, #BladeRunner2049 is one of those 'one and done' films. Top class but I don't think I could watch it again\n",
      "@CicedDicken on #BladeRunner2049 https://t.co/bHr9piZAty, @CicedDicken on #BladeRunner2049 https://t.co/bHr9piZAty\n",
      "Thank goodness #BladeRunner2049 lived up to all the hype. What a stunning film ❤, Thank goodness #BladeRunner2049 lived up to all the hype. What a stunning film ❤\n",
      "#BladeRunner2049 : sublime. Visual masterpiece. They'll be talking about this one for years., #BladeRunner2049 : sublime. Visual masterpiece. They'll be talking about this one for years.\n",
      "#BladeRunner2049 was visually stunning. Beautiful. And I’m not just talking about Ryan Gosling (though that helped), #BladeRunner2049 was visually stunning. Beautiful. And I’m not just talking about Ryan Gosling (though that helped)\n",
      "#BladeRunner2049 round two, #BladeRunner2049 round two\n",
      "#BladeRunner2049 round two, #BladeRunner2049 round two\n",
      "I did see #BladeRunner2049 last night. It was pretty great., I did see #BladeRunner2049 last night. It was pretty great.\n",
      "Blade Runner 2049 (2017) ★★★★★★★★★☆ https://t.co/18qBlBTVgm #BladeRunner2049 #trakt, Blade Runner 2049 (2017) ★★★★★★★★★☆ https://t.co/18qBlBTVgm #BladeRunner2049 #trakt\n",
      "Take a glimpse into the future and see #Vancouver2049! #BladeRunner2049 https://t.co/qg1uR6qb2M, Take a glimpse into the future and see #Vancouver2049! #BladeRunner2049 https://t.co/qg1uR6qb2M\n",
      "#BoxOffice Prediction: #BladeRunner2049 vs. #HappyDeathDay https://t.co/RX2Cm009Vz https://t.co/x5r6P8T8E4, #BoxOffice Prediction: #BladeRunner2049 vs. #HappyDeathDay https://t.co/RX2Cm009Vz https://t.co/x5r6P8T8E4\n",
      "#BladeRunner2049 is 1 of the greatest sci-fi films of all time. Masterfully crafted in every area. SEE IT IN AS HUGE A THEATER AS U CAN., #BladeRunner2049 is 1 of the greatest sci-fi films of all time. Masterfully crafted in every area. SEE IT IN AS HUGE A THEATER AS U CAN.\n",
      "#BladeRunner2049 didn't disappoint #epic, #BladeRunner2049 didn't disappoint #epic\n",
      "Now playing in Halifax cinemas: #BladeRunner2049 #TheLimehouseGolem #LovingVincent...   https://t.co/2XM22gjkBd… https://t.co/ZhB2hlrUnU, Now playing in Halifax cinemas: #BladeRunner2049 #TheLimehouseGolem #LovingVincent...   https://t.co/2XM22gjkBd… https://t.co/ZhB2hlrUnU\n",
      "Yep #BladeRunner2049 is that good. Worthy sequel that raises all the philosophical questions that made me fall in love with this genre., Yep #BladeRunner2049 is that good. Worthy sequel that raises all the philosophical questions that made me fall in love with this genre.\n",
      "GO AND SEE #BladeRunner2049 NOW, GO AND SEE #BladeRunner2049 NOW\n",
      "Just been to see #bladerunner2049 at the #IMAX \n",
      "\n",
      "The 3D fog was mind blowing.., Just been to see #bladerunner2049 at the #IMAX \n",
      "\n",
      "The 3D fog was mind blowing..\n",
      "#BladeRunner2049 is nuanced, beautiful &amp; rare. It's unassuming, creepingly slow pace amplified my fellow cinema goers as pure chimp, however, #BladeRunner2049 is nuanced, beautiful &amp; rare. It's unassuming, creepingly slow pace amplified my fellow cinema goers as pure chimp, however\n",
      "NEW REVIEW!!! The highly anticipated #BladeRunner2049 is finally out, check out what @stevejdonahue thought!\n",
      "https://t.co/1Phrdh7miR, NEW REVIEW!!! The highly anticipated #BladeRunner2049 is finally out, check out what @stevejdonahue thought!\n",
      "https://t.co/1Phrdh7miR\n",
      "#TheForceAwakens &amp; #BladeRunner2049 just two movies about secretly wanting #harrisonford to be your dad? ... it's understandable., #TheForceAwakens &amp; #BladeRunner2049 just two movies about secretly wanting #harrisonford to be your dad? ... it's understandable.\n",
      "#BladeRunner2049 is a visually stunning cinematic experience @SonyPicturesAUS @bladerunner https://t.co/xH2nupmCMd https://t.co/VNw9djeUHx, #BladeRunner2049 is a visually stunning cinematic experience @SonyPicturesAUS @bladerunner https://t.co/xH2nupmCMd https://t.co/VNw9djeUHx\n",
      "#BladeRunner2049 very good but extremely slow paced. Be aware., #BladeRunner2049 very good but extremely slow paced. Be aware.\n",
      "i hope that a LOT more people go see #BladeRunner2049 this weekend., i hope that a LOT more people go see #BladeRunner2049 this weekend.\n",
      "#BladeRunner2049 Great performances from the cast can't escape the utter tedium of having to sit through this far too slow moving snorefest, #BladeRunner2049 Great performances from the cast can't escape the utter tedium of having to sit through this far too slow moving snorefest\n",
      "If Blade Runner doesn't win at least an Oscar for cinematography then I'm boycotting the awards 😂 #BladeRunner2049 #epic #beautiful, If Blade Runner doesn't win at least an Oscar for cinematography then I'm boycotting the awards 😂 #BladeRunner2049 #epic #beautiful\n",
      "İki filmin toplamında en beğendiğim sahne bu. #bladerunner #BladeRunner2049 https://t.co/6eFeGGPmPP, İki filmin toplamında en beğendiğim sahne bu. #bladerunner #BladeRunner2049 https://t.co/6eFeGGPmPP\n",
      "Weekend plans: sushi, @metmuseum, #BladeRunner2049, and more #Cuphead and #MarioRabbidsKingdomBattle. I love weekends 🎮📺, Weekend plans: sushi, @metmuseum, #BladeRunner2049, and more #Cuphead and #MarioRabbidsKingdomBattle. I love weekends 🎮📺\n",
      "Stopping here for now, till I see the movie!!  #BladeRunner2049 \n",
      "But love this:  \"Because, manifestly, there is no… https://t.co/oAHFcz9ueT, Stopping here for now, till I see the movie!!  #BladeRunner2049 \n",
      "But love this:  \"Because, manifestly, there is no… https://t.co/oAHFcz9ueT\n",
      "Wondering what movie is this week's must-see? Check out our review of #BladeRunner2049 and see for yourself. https://t.co/TnwhkrqJsB, Wondering what movie is this week's must-see? Check out our review of #BladeRunner2049 and see for yourself. https://t.co/TnwhkrqJsB\n",
      "#NowWatching (or rather finished watching) #BladeRunner2049 - Great Movie. Stayed true to the original. I think anyhow. Loved it., #NowWatching (or rather finished watching) #BladeRunner2049 - Great Movie. Stayed true to the original. I think anyhow. Loved it.\n",
      "Blown away by #BladeRunner2049! The sound design is insane 😵 @HansZimmer @benwallfisch 🙏 https://t.co/xPQwAca0ds, Blown away by #BladeRunner2049! The sound design is insane 😵 @HansZimmer @benwallfisch 🙏 https://t.co/xPQwAca0ds\n",
      "Damn Replicants 😂 #BladeRunner #BladeRunner2049 https://t.co/ecAqm2VHQ3, Damn Replicants 😂 #BladeRunner #BladeRunner2049 https://t.co/ecAqm2VHQ3\n",
      "#unpopularopinion alert\n",
      "not a great fan of the first #bladerunner movie\n",
      "but #bladerunner2049 was just dire, #unpopularopinion alert\n",
      "not a great fan of the first #bladerunner movie\n",
      "but #bladerunner2049 was just dire\n",
      "Wouldn't happen to have a piece of cheese..? Sounded like R.Regan #BladeRunner2049, Wouldn't happen to have a piece of cheese..? Sounded like R.Regan #BladeRunner2049\n",
      "#MRMS special tonight: #IT and #BladeRunner2049 #UGR https://t.co/RvYz7VQvEP, #MRMS special tonight: #IT and #BladeRunner2049 #UGR https://t.co/RvYz7VQvEP\n",
      "@bladerunner Just watched it for the 4th time.  Seriously obsessed #BladeRunner2049, @bladerunner Just watched it for the 4th time.  Seriously obsessed #BladeRunner2049\n",
      "Right, just seen Blade Runner 2049. Fucking incredible. Just outstanding. See it.\n",
      "#BladeRunner2049, Right, just seen Blade Runner 2049. Fucking incredible. Just outstanding. See it.\n",
      "#BladeRunner2049\n",
      "hey twitter what's the significance of peter and the wolf in blade runner 2049 plz #BladeRunner2049, hey twitter what's the significance of peter and the wolf in blade runner 2049 plz #BladeRunner2049\n",
      "#NowListening to these two nutters👍🎬📻 #HarrisonFord #BladeRunner2049 #PodcastTime https://t.co/4NdJ1RJm4D, #NowListening to these two nutters👍🎬📻 #HarrisonFord #BladeRunner2049 #PodcastTime https://t.co/4NdJ1RJm4D\n",
      "I said I probably wouldn't see it again because of the length, but I wanna go see #BladeRunner2049 again., I said I probably wouldn't see it again because of the length, but I wanna go see #BladeRunner2049 again.\n",
      "At the theater to see #BladeRunner2049  and look what also popped out of the machine when we picked up our tickets!… https://t.co/E93G5DIvkL, At the theater to see #BladeRunner2049  and look what also popped out of the machine when we picked up our tickets!… https://t.co/E93G5DIvkL\n",
      "#BladeRunner2049 team, great job.\n",
      ".\n",
      "To us, #practicalfx will always be true #filmmaking, #moviemagic.\n",
      ".\n",
      "#KCW #kcws…… https://t.co/SfyqrGqNsj, #BladeRunner2049 team, great job.\n",
      ".\n",
      "To us, #practicalfx will always be true #filmmaking, #moviemagic.\n",
      ".\n",
      "#KCW #kcws…… https://t.co/SfyqrGqNsj\n",
      "Blade Runner 2049 Could be THE Bomb of 2017: https://t.co/YCucsniXdm\n",
      "#BladeRunner2049 https://t.co/s7MNspNgCy, Blade Runner 2049 Could be THE Bomb of 2017: https://t.co/YCucsniXdm\n",
      "#BladeRunner2049 https://t.co/s7MNspNgCy\n",
      "Movie #BladeRunner2049 #ThePuntsters rating 8 out of 10, Movie #BladeRunner2049 #ThePuntsters rating 8 out of 10\n",
      "#BladeRunner2049 was the most dull, interesting, monotonous, beautiful film I've seen. The cinematography was stunning, everything else..., #BladeRunner2049 was the most dull, interesting, monotonous, beautiful film I've seen. The cinematography was stunning, everything else...\n",
      "Blown away by #BladeRunner2049. I feel sorry for everyone that said no to going with me. https://t.co/riFjUdJps6, Blown away by #BladeRunner2049. I feel sorry for everyone that said no to going with me. https://t.co/riFjUdJps6\n",
      "#BladeRunner2049 ...limp Dick., #BladeRunner2049 ...limp Dick.\n",
      "Now for what I really been waiting for 🙂 #BladeRunner2049 https://t.co/AY2kWVI0Vf, Now for what I really been waiting for 🙂 #BladeRunner2049 https://t.co/AY2kWVI0Vf\n",
      "We talk #NYCC #PacificRimUprising #LastJedi #BladeRunner2049 #Arrowverse #Gotham and more on this week's podcast https://t.co/FWkJeQDmWV, We talk #NYCC #PacificRimUprising #LastJedi #BladeRunner2049 #Arrowverse #Gotham and more on this week's podcast https://t.co/FWkJeQDmWV\n",
      "#BladeRunner2049 is that fire. Good lord, that movie is phenomenal., #BladeRunner2049 is that fire. Good lord, that movie is phenomenal.\n",
      "Want to catch a movie this weekend? Check out this reviews for #BladeRunner2049 #SoBit #HappyDeathDay https://t.co/D7NuzX0Ccb, Want to catch a movie this weekend? Check out this reviews for #BladeRunner2049 #SoBit #HappyDeathDay https://t.co/D7NuzX0Ccb\n",
      "If you loved the original you'll love this one too.  #BladeRunner2049, If you loved the original you'll love this one too.  #BladeRunner2049\n",
      "#BladeRunner2049 was perfection👌 https://t.co/xIa6EGzaDD, #BladeRunner2049 was perfection👌 https://t.co/xIa6EGzaDD\n",
      "And the winner is @saenzzentologys! Congrats, you’ve won the #BladeRunner2049 prize pack. Thank you to everyone who… https://t.co/pqm8N4fS01, And the winner is @saenzzentologys! Congrats, you’ve won the #BladeRunner2049 prize pack. Thank you to everyone who… https://t.co/pqm8N4fS01\n",
      "@Gizmodo TRUTH we had no answer what happened 2 Dekkard's Dog \n",
      "#BladeRunner2049, @Gizmodo TRUTH we had no answer what happened 2 Dekkard's Dog \n",
      "#BladeRunner2049\n",
      "Y’all. #BladeRunner2049 was better than advertised. I’ve been Fury Roaded., Y’all. #BladeRunner2049 was better than advertised. I’ve been Fury Roaded.\n",
      "#BladeRunner2049 might be the most visually beautiful film I have ever seen. Stunning. Wonderful movie., #BladeRunner2049 might be the most visually beautiful film I have ever seen. Stunning. Wonderful movie.\n",
      "I'm going to go see #BladeRunner2049 again just to help its BO. I hope more fans do too. We need to see #BladeRunnerRevolution, I'm going to go see #BladeRunner2049 again just to help its BO. I hope more fans do too. We need to see #BladeRunnerRevolution\n",
      "Interlinked #bladerunner2049 #ryangosling https://t.co/QxJutnQBLQ https://t.co/UsLddaiTNB, Interlinked #bladerunner2049 #ryangosling https://t.co/QxJutnQBLQ https://t.co/UsLddaiTNB\n",
      "Speaking of #BladeRunner2049 sequel. Do you like the name #BladeRunnerRevolution or #RiseOfTheReplicants?, Speaking of #BladeRunner2049 sequel. Do you like the name #BladeRunnerRevolution or #RiseOfTheReplicants?\n",
      "My show 5pm to 9pm on https://t.co/VORg4xAjS8 #Campbellriver 88.7FM w news in #Bibleprophecy, #Bladerunner2049 review, new Steve Miller etc, My show 5pm to 9pm on https://t.co/VORg4xAjS8 #Campbellriver 88.7FM w news in #Bibleprophecy, #Bladerunner2049 review, new Steve Miller etc\n",
      "Its pissing me off that #BladeRunner2049 is flopping big time. its an incredible piece of cinema that dose not come along this often!!, Its pissing me off that #BladeRunner2049 is flopping big time. its an incredible piece of cinema that dose not come along this often!!\n",
      "Epeydir sinemada böyle bir şey izlememiştim, hücrelerime kadar iyi film doldum #BladeRunner2049, Epeydir sinemada böyle bir şey izlememiştim, hücrelerime kadar iyi film doldum #BladeRunner2049\n",
      "\" #BLADERUNNER2049: Blog-Review, Tech, Society, &amp; the Singularity\" &gt;&gt; https://t.co/GpyeNvAthf   @SYFY @RyanGosling… https://t.co/WV8pxTnOcM, \" #BLADERUNNER2049: Blog-Review, Tech, Society, &amp; the Singularity\" &gt;&gt; https://t.co/GpyeNvAthf   @SYFY @RyanGosling… https://t.co/WV8pxTnOcM\n",
      "i really wanted to love this movie #BladeRunner2049, ended up hating it, i really wanted to love this movie #BladeRunner2049, ended up hating it\n",
      "Check out two insanely talented filmmakers talk about the new #BladeRunner2049 Great interview @rianjohnson ! Incredible film! Go see it!!, Check out two insanely talented filmmakers talk about the new #BladeRunner2049 Great interview @rianjohnson ! Incredible film! Go see it!!\n",
      "Blade Runner 2049\n",
      "#BladeRunner2049 \n",
      "@bladerunner, Blade Runner 2049\n",
      "#BladeRunner2049 \n",
      "@bladerunner\n",
      "I uploaded a film Review - of #BladeRunner2049 :\n",
      "\n",
      "https://t.co/thhKseihfN, I uploaded a film Review - of #BladeRunner2049 :\n",
      "\n",
      "https://t.co/thhKseihfN\n",
      "We just saw #BladeRunner2049 and what the hell.  Definitely could’ve waited for redbox. Really slow film. #movies #longaf, We just saw #BladeRunner2049 and what the hell.  Definitely could’ve waited for redbox. Really slow film. #movies #longaf\n",
      "Re: #BladeRunner2049:\n",
      "👍🏼👍🏼👍🏼, Re: #BladeRunner2049:\n",
      "👍🏼👍🏼👍🏼\n",
      "It's also great that Rick Deckard is absolutely gasping for a cheese toasty. #relatable #BladeRunner2049 https://t.co/rcdKbEQiUt, It's also great that Rick Deckard is absolutely gasping for a cheese toasty. #relatable #BladeRunner2049 https://t.co/rcdKbEQiUt\n",
      "The soundtrack in #BladeRunner2049 is spine tingling epic., The soundtrack in #BladeRunner2049 is spine tingling epic.\n",
      "We're back w/ a new format. Chains off to talk @starwars Ep. 8 trailer, #BladeRunner2049 box office, and @VIFFest… https://t.co/TlOxDCGKaP, We're back w/ a new format. Chains off to talk @starwars Ep. 8 trailer, #BladeRunner2049 box office, and @VIFFest… https://t.co/TlOxDCGKaP\n",
      "Writers took full advantage getting back to work on #BladeRunner2049 why'd they revisit this?, Writers took full advantage getting back to work on #BladeRunner2049 why'd they revisit this?\n",
      "Here comes the greatest ding-a-ling of all! #bladerunner2049 https://t.co/OkWAhCk7K6 https://t.co/DV9e6u3W9m, Here comes the greatest ding-a-ling of all! #bladerunner2049 https://t.co/OkWAhCk7K6 https://t.co/DV9e6u3W9m\n",
      "#BladeRunner2049 de lo mejorcito del año. Visualmente una pasada, la música bestial, y Gosling hace un papelón. No es mejor que la primera, #BladeRunner2049 de lo mejorcito del año. Visualmente una pasada, la música bestial, y Gosling hace un papelón. No es mejor que la primera\n",
      "#BladeRunner2049 is the best sci-fi I've seen in years. So good. I don't think Denis Villeneuve is capable of making a bad film. He's on 🔥, #BladeRunner2049 is the best sci-fi I've seen in years. So good. I don't think Denis Villeneuve is capable of making a bad film. He's on 🔥\n",
      "Meskipun nilainya di imdb 8.6 dan rotten tomatoes 89%, entah kenapa saya ga bisa menikmati #BladeRunner2049, Meskipun nilainya di imdb 8.6 dan rotten tomatoes 89%, entah kenapa saya ga bisa menikmati #BladeRunner2049\n",
      "Thankfully Blade Runner 2049 is held over. I think I will be going again! Worth a second look.  #BladeRunner2049 ❤😎😀😆, Thankfully Blade Runner 2049 is held over. I think I will be going again! Worth a second look.  #BladeRunner2049 ❤😎😀😆\n",
      "#BladeRunner2049 was a great follow up. Just adds more questions, #BladeRunner2049 was a great follow up. Just adds more questions\n",
      "It’s a no from me, as well as both my first and last trip to the Peckhamplex #BladeRunner2049, It’s a no from me, as well as both my first and last trip to the Peckhamplex #BladeRunner2049\n",
      "I liked #BladeRunner2049 but I didn’t love it. Yet after having watched it 6 days ago, I’m still thinking about it., I liked #BladeRunner2049 but I didn’t love it. Yet after having watched it 6 days ago, I’m still thinking about it.\n",
      "@ShowPlaceICON @wbpictures I'm only  #human #BladeRunner2049  #Contest, @ShowPlaceICON @wbpictures I'm only  #human #BladeRunner2049  #Contest\n",
      "Dengan lama film 2jam43menit,  seharusnya bisa mengeskplor beberapa karakter lebih dalam, bukan hanya karakter utama saja #BladeRunner2049, Dengan lama film 2jam43menit,  seharusnya bisa mengeskplor beberapa karakter lebih dalam, bukan hanya karakter utama saja #BladeRunner2049\n",
      "@bladerunner I've been blown away by this incredible film! One of the best I've seen this year 🎥 #BladeRunner2049 https://t.co/owCGreYzWE, @bladerunner I've been blown away by this incredible film! One of the best I've seen this year 🎥 #BladeRunner2049 https://t.co/owCGreYzWE\n",
      "#BladeRunner2049 Spinner!! 😍 https://t.co/ZWdn8hOrTq, #BladeRunner2049 Spinner!! 😍 https://t.co/ZWdn8hOrTq\n",
      "Time for a new era... This is what Blade Runner 2049 did to me ^^ #valsdarkroom #fineartphotography #BladeRunner2049 https://t.co/PVwajlfoZy, Time for a new era... This is what Blade Runner 2049 did to me ^^ #valsdarkroom #fineartphotography #BladeRunner2049 https://t.co/PVwajlfoZy\n",
      "Que cabronamente cabrona está Blade Runner 2049 🙌🏻👌🏻 - #bladerunner #bladerunner2049… https://t.co/xguAZKPQGv, Que cabronamente cabrona está Blade Runner 2049 🙌🏻👌🏻 - #bladerunner #bladerunner2049… https://t.co/xguAZKPQGv\n",
      "The sound design in Blade Runner 2049 is forcing me to upgrade my studio monitor system. #BladeRunner2049 #Adams, The sound design in Blade Runner 2049 is forcing me to upgrade my studio monitor system. #BladeRunner2049 #Adams\n",
      "#IWasMindBlownWhen I saw #BladeRunner2049!!\n",
      "\n",
      "https://t.co/J6W69tJrjJ, #IWasMindBlownWhen I saw #BladeRunner2049!!\n",
      "\n",
      "https://t.co/J6W69tJrjJ\n",
      "Blade Runner 2049 might be the best film I’ve ever seen 🔥#BladeRunner2049, Blade Runner 2049 might be the best film I’ve ever seen 🔥#BladeRunner2049\n",
      "About time. #bladerunner2049 #bladerunner https://t.co/jjhyb7yXBL, About time. #bladerunner2049 #bladerunner https://t.co/jjhyb7yXBL\n",
      "#BladeRunner2049 time., #BladeRunner2049 time.\n",
      "Alur cerita sangat lambat, kayak film horror aja, dan endingnya agak krik. Akting pemainnya juga biasa aja #BladeRunner2049, Alur cerita sangat lambat, kayak film horror aja, dan endingnya agak krik. Akting pemainnya juga biasa aja #BladeRunner2049\n",
      "@LVTino I can't be trusted , specially when I also loved  #BladeRunner2049 and #babydriver, @LVTino I can't be trusted , specially when I also loved  #BladeRunner2049 and #babydriver\n",
      "#BladeRunner2049 Loved the last 90 minutes. Rest: can’t say, wasn’t there. Missed 1st hour, damn replicants must’ve put us in some time warp, #BladeRunner2049 Loved the last 90 minutes. Rest: can’t say, wasn’t there. Missed 1st hour, damn replicants must’ve put us in some time warp\n",
      "So I went to a screening of #BladeRunner2049 at @HBO yesterday, been thinking about the film...\n",
      "\n",
      "@bladerunner @wbpictures @SonyPictures\n",
      "\n",
      "👍🏼, So I went to a screening of #BladeRunner2049 at @HBO yesterday, been thinking about the film...\n",
      "\n",
      "@bladerunner @wbpictures @SonyPictures\n",
      "\n",
      "👍🏼\n",
      "Sinematografi nya oke. Sound dan music terlalu dramatis agak ga nyambung. Jadi kecuali selo waktunya, filmnya ga worth it #BladeRunner2049, Sinematografi nya oke. Sound dan music terlalu dramatis agak ga nyambung. Jadi kecuali selo waktunya, filmnya ga worth it #BladeRunner2049\n",
      "Time to check out #BladeRunner2049, Time to check out #BladeRunner2049\n",
      "Is it just me, or was #BladeRunner2049 the epitome of self-indulgent white boy shit...?, Is it just me, or was #BladeRunner2049 the epitome of self-indulgent white boy shit...?\n",
      "BABErunner 2049 #BladeRunner2049 https://t.co/06K0jRig8H, BABErunner 2049 #BladeRunner2049 https://t.co/06K0jRig8H\n",
      "In the theater seeing #BladeRunner2049 https://t.co/4EJFP94nur, In the theater seeing #BladeRunner2049 https://t.co/4EJFP94nur\n",
      "Saw #BladeRunner2049 again. I FUCKING LOVE THAT FILM. IT COULD BE MY FAVOURITE FILM EVER. MY GOD. SUCH EXCELLENCE. https://t.co/2vRYeUNoFZ, Saw #BladeRunner2049 again. I FUCKING LOVE THAT FILM. IT COULD BE MY FAVOURITE FILM EVER. MY GOD. SUCH EXCELLENCE. https://t.co/2vRYeUNoFZ\n",
      "#BladeRunner2049 sevemedim; garip bir film 🙄, #BladeRunner2049 sevemedim; garip bir film 🙄\n",
      "Absolutely blown away by #BladeRunner2049. Perfect follow up to the original. Great story and fantastic acting from Ryan Gosling, Absolutely blown away by #BladeRunner2049. Perfect follow up to the original. Great story and fantastic acting from Ryan Gosling\n",
      "30 anni dopo #bladerunner #bladerunner2049 #film #movie #cinemaarcadia #salaenergia #dolbyatoms #dennisvilleneuve …… https://t.co/ehIbUfrV8v, 30 anni dopo #bladerunner #bladerunner2049 #film #movie #cinemaarcadia #salaenergia #dolbyatoms #dennisvilleneuve …… https://t.co/ehIbUfrV8v\n",
      "[@ConcessionStand] #48 The #LastJedi &amp; #BladeRunner2049 #SPOILERALERT #PodernFamily https://t.co/oYu00yirnV https://t.co/fH4RYRgIMV, [@ConcessionStand] #48 The #LastJedi &amp; #BladeRunner2049 #SPOILERALERT #PodernFamily https://t.co/oYu00yirnV https://t.co/fH4RYRgIMV\n",
      "What did you guys think of #BladeRunner2049 ?  - @Boobafett69 @vanschuppen #GeeksOfTheRoundTable, What did you guys think of #BladeRunner2049 ?  - @Boobafett69 @vanschuppen #GeeksOfTheRoundTable\n",
      "Our Blade Runner podcast is epic this week! Share it with your friends! #Bladerunner2049 #podernfamily #bladerunner https://t.co/TpKq5rkm54, Our Blade Runner podcast is epic this week! Share it with your friends! #Bladerunner2049 #podernfamily #bladerunner https://t.co/TpKq5rkm54\n",
      "#inktober Day10-13 #BladeRunner2049 #inktober2017 https://t.co/pHzyJTp5vB, #inktober Day10-13 #BladeRunner2049 #inktober2017 https://t.co/pHzyJTp5vB\n",
      "@Boobafett69 @vanschuppen - Did you guys see #BladeRunner2049, @Boobafett69 @vanschuppen - Did you guys see #BladeRunner2049\n",
      "Y'all gonna say there's a miracle &amp; we see her for 3seconds? #BladeRunner2049 what a waste of time., Y'all gonna say there's a miracle &amp; we see her for 3seconds? #BladeRunner2049 what a waste of time.\n",
      "I really loved #BladeRunner2049!, I really loved #BladeRunner2049!\n",
      "🎥🎞🍿 #BladeRunner2049 https://t.co/s8UtrQPHBW, 🎥🎞🍿 #BladeRunner2049 https://t.co/s8UtrQPHBW\n",
      "Bizarre, that. Anyway, no need for electric sheep when we got home. Half dozen of the real buggers to chase down drive 🐑#BladeRunner2049, Bizarre, that. Anyway, no need for electric sheep when we got home. Half dozen of the real buggers to chase down drive 🐑#BladeRunner2049\n",
      "Just saw #BladeRunner2049 2nd time Even better this time. Don’t miss it., Just saw #BladeRunner2049 2nd time Even better this time. Don’t miss it.\n",
      "Behind the scenes photo from blade runner. Anyone see it yet? Xo #BladeRunner2049 https://t.co/YPnRNXmBR9, Behind the scenes photo from blade runner. Anyone see it yet? Xo #BladeRunner2049 https://t.co/YPnRNXmBR9\n",
      "Has logrado llegar al futuro al twittear #Futuro2049 y podrás entrar al mundo de #BladeRunner2049 ¿Estás listo?\n",
      "https://t.co/qiTwoxAHSI, Has logrado llegar al futuro al twittear #Futuro2049 y podrás entrar al mundo de #BladeRunner2049 ¿Estás listo?\n",
      "https://t.co/qiTwoxAHSI\n",
      "Because the #BladeRunner2049 Soundtrack (Wallfisch/Zimmer) is pure earhole pleasure: https://t.co/Svqj4s8PhF via @YouTube, Because the #BladeRunner2049 Soundtrack (Wallfisch/Zimmer) is pure earhole pleasure: https://t.co/Svqj4s8PhF via @YouTube\n",
      "Wow, guys, #BladeRunner2049 is sick as hell. @andmichaelgreen is easily one of the most impressive storytellers in genre rn., Wow, guys, #BladeRunner2049 is sick as hell. @andmichaelgreen is easily one of the most impressive storytellers in genre rn.\n",
      "#BladeRunner2049...Well acted, beautiful visuals, and good plot. Only minor hangup is that its too damn long.… https://t.co/g2fYPlvfzr, #BladeRunner2049...Well acted, beautiful visuals, and good plot. Only minor hangup is that its too damn long.… https://t.co/g2fYPlvfzr\n",
      "Suggest review of original first. Recommend version “Final Cut.”Must understand significance of the unicorn dream. #BladeRunner2049, Suggest review of original first. Recommend version “Final Cut.”Must understand significance of the unicorn dream. #BladeRunner2049\n",
      "completely agree with this tuit regarding #BladeRunner2049 https://t.co/5WsSHtEzzJ, completely agree with this tuit regarding #BladeRunner2049 https://t.co/5WsSHtEzzJ\n",
      "I'm watching #BladeRunner2049 and I'm seeing things you people wouldn't believe., I'm watching #BladeRunner2049 and I'm seeing things you people wouldn't believe.\n",
      "#BladeRunner2049 https://t.co/XtCu10Q7ir, #BladeRunner2049 https://t.co/XtCu10Q7ir\n",
      "https://t.co/3kcOP70dGM New Episode, WHAT?! WHAT?! #brothers #geek #podcast #brothersgeekpodcast #Bladerunner2049 #Thelastjedi, https://t.co/3kcOP70dGM New Episode, WHAT?! WHAT?! #brothers #geek #podcast #brothersgeekpodcast #Bladerunner2049 #Thelastjedi\n",
      "#BladeRunner2049 was dense and long.  Very glad I watched the original before seeing it., #BladeRunner2049 was dense and long.  Very glad I watched the original before seeing it.\n",
      "15 hours &amp; 26min until I get to see #BladeRunner2049 again! I'm so excited!\n",
      "\n",
      "https://t.co/BzQQLYN8Q1, 15 hours &amp; 26min until I get to see #BladeRunner2049 again! I'm so excited!\n",
      "\n",
      "https://t.co/BzQQLYN8Q1\n",
      "Thank you @HansZimmer and @benwallfisch for the #BladeRunner2049 #Soundtrack. This is whole album speaks to my soul, Thank you @HansZimmer and @benwallfisch for the #BladeRunner2049 #Soundtrack. This is whole album speaks to my soul\n",
      "Maybe it's the lack of sleep but after seeing #BladeRunner2049 a second time it's easily the best sci-fi film of 20… https://t.co/l3srrlXXdL, Maybe it's the lack of sleep but after seeing #BladeRunner2049 a second time it's easily the best sci-fi film of 20… https://t.co/l3srrlXXdL\n",
      "#BladeRunner2049 Visually Stunning but very boring.., #BladeRunner2049 Visually Stunning but very boring..\n",
      "Cells. Interlinked. Mixed feelings on #BladeRunner2049 https://t.co/eMDcg3410s, Cells. Interlinked. Mixed feelings on #BladeRunner2049 https://t.co/eMDcg3410s\n",
      "#BladeRunner2049 has barely earned back half of its investment. Might break even, but disappointing for the studio. https://t.co/APPcKBsH94, #BladeRunner2049 has barely earned back half of its investment. Might break even, but disappointing for the studio. https://t.co/APPcKBsH94\n",
      "Hahaha #BladeRunner2049 https://t.co/dk4YvyHI0M, Hahaha #BladeRunner2049 https://t.co/dk4YvyHI0M\n",
      "@JaredLeto I just received my #Wallace #FunkoPop It looks really awesome!! #BladeRunner2049 #NYC #Echelon https://t.co/5VWFO0ZreJ, @JaredLeto I just received my #Wallace #FunkoPop It looks really awesome!! #BladeRunner2049 #NYC #Echelon https://t.co/5VWFO0ZreJ\n",
      "I enjoyed #BladeRunner2049 a lot, but I just really wanna know what happened to the dog though., I enjoyed #BladeRunner2049 a lot, but I just really wanna know what happened to the dog though.\n",
      "#BladeRunner2049 No. Just. No., #BladeRunner2049 No. Just. No.\n",
      "Also shout out to Ryan Gosling and his coat #BladeRunner2049 https://t.co/4Ol8VxOBJ1, Also shout out to Ryan Gosling and his coat #BladeRunner2049 https://t.co/4Ol8VxOBJ1\n",
      "#BladeRunner2049 why did they get rid of the lights in the umbrellas?!?, #BladeRunner2049 why did they get rid of the lights in the umbrellas?!?\n",
      "Going to see #BladeRunner2049 tonight... then I MIGHT do a late night F13 stream with the BEST VERSION of the game.… https://t.co/mR9kYgMSgO, Going to see #BladeRunner2049 tonight... then I MIGHT do a late night F13 stream with the BEST VERSION of the game.… https://t.co/mR9kYgMSgO\n",
      "I uploaded a video Review of #BladeRunner2049 :\n",
      "\n",
      "https://t.co/sfZiptcELJ, I uploaded a video Review of #BladeRunner2049 :\n",
      "\n",
      "https://t.co/sfZiptcELJ\n",
      "#BladeRunner2049 How's that the most powerful, evil corporation in 2049 still has office space that looks like your typical W hotel lobby?, #BladeRunner2049 How's that the most powerful, evil corporation in 2049 still has office space that looks like your typical W hotel lobby?\n",
      "Total movie perfection \n",
      "You were flawless @JaredLeto \n",
      "SEE IT☑️\n",
      "SEE IT AGAIN☑️\n",
      "TELL YOUR FRIENDS☑️\n",
      "#BladeRunner2049… https://t.co/BLgNAyRHb2, Total movie perfection \n",
      "You were flawless @JaredLeto \n",
      "SEE IT☑️\n",
      "SEE IT AGAIN☑️\n",
      "TELL YOUR FRIENDS☑️\n",
      "#BladeRunner2049… https://t.co/BLgNAyRHb2\n",
      "A few thoughts on #BladeRunner2049. It is the most anime. // Third act isn't as strong as first. First act is perfect. // Ana de Armas., A few thoughts on #BladeRunner2049. It is the most anime. // Third act isn't as strong as first. First act is perfect. // Ana de Armas.\n",
      "First time you watch #BladeRunner2049 you'll think whats the plot but god knows you'll still enjoy the sheer class of it WOW, First time you watch #BladeRunner2049 you'll think whats the plot but god knows you'll still enjoy the sheer class of it WOW\n",
      "#BladeRunner2049 is a modern masterpiece! Visually stunning and a slow burner that stays true to the original. Best film of the year for me!, #BladeRunner2049 is a modern masterpiece! Visually stunning and a slow burner that stays true to the original. Best film of the year for me!\n",
      "#BladeRunner2049  is further dropping at the box office now with tracking indicates a 14 million opening second weekend, #BladeRunner2049  is further dropping at the box office now with tracking indicates a 14 million opening second weekend\n",
      "Why I liked #BladeRunner2049...\n",
      "\n",
      "https://t.co/hl50XFagac, Why I liked #BladeRunner2049...\n",
      "\n",
      "https://t.co/hl50XFagac\n",
      "So I watched #bladerunner2049 what an epic piece of cinematography! Not disappointed!!!… https://t.co/G3dzth965y, So I watched #bladerunner2049 what an epic piece of cinematography! Not disappointed!!!… https://t.co/G3dzth965y\n",
      "#BladeRunner2049 is a far superior sequel to the original. Compelling detective story told through breath-taking visuals., #BladeRunner2049 is a far superior sequel to the original. Compelling detective story told through breath-taking visuals.\n",
      "30+ years &amp; 2 movies and they STILL have yet to explain why Replicant-hunting cops are referred to as \"blade runners.\" #BladeRunner2049, 30+ years &amp; 2 movies and they STILL have yet to explain why Replicant-hunting cops are referred to as \"blade runners.\" #BladeRunner2049\n",
      "#SylviaHoeks undoubtedly the star of #BladeRunner2049 for me. Vicious, sexual bitch. Perfect marriage material, #SylviaHoeks undoubtedly the star of #BladeRunner2049 for me. Vicious, sexual bitch. Perfect marriage material\n",
      "Am I the only one who thought #BladeRunner2049 was a shit movie all around?, Am I the only one who thought #BladeRunner2049 was a shit movie all around?\n",
      "After watching #BladeRunner2049 I think Deckard is a skinjob., After watching #BladeRunner2049 I think Deckard is a skinjob.\n",
      "“I have heard ‘Don’t f--- it up’ a lot.” Ryan Gosling on the pressures of creating #BladeRunner2049 https://t.co/hbhbo6s5qY, “I have heard ‘Don’t f--- it up’ a lot.” Ryan Gosling on the pressures of creating #BladeRunner2049 https://t.co/hbhbo6s5qY\n",
      "Go see #bladerunner2049 right now. I’m not kidding, its long but really worth your time. Especially if you liked the original., Go see #bladerunner2049 right now. I’m not kidding, its long but really worth your time. Especially if you liked the original.\n",
      "It's #podcast time! We review #BladeRunner2049 and What We Do In The Shadows\n",
      "\n",
      "https://t.co/ZmkzlScGaQ\n",
      "\n",
      "#scifi #film… https://t.co/6aBN6beSAG, It's #podcast time! We review #BladeRunner2049 and What We Do In The Shadows\n",
      "\n",
      "https://t.co/ZmkzlScGaQ\n",
      "\n",
      "#scifi #film… https://t.co/6aBN6beSAG\n",
      "And I was wondering why the heck $MANA went up so much, while I was in the movies. Watching #BladeRunner2049 🚷😐 https://t.co/IRgqrixnhA, And I was wondering why the heck $MANA went up so much, while I was in the movies. Watching #BladeRunner2049 🚷😐 https://t.co/IRgqrixnhA\n",
      "Going to see #BladeRunner2049 tomorrow.  Watching the Director's cut of the original  tonight with my wife so she is up to speed., Going to see #BladeRunner2049 tomorrow.  Watching the Director's cut of the original  tonight with my wife so she is up to speed.\n"
     ]
    }
   ],
   "source": [
    "for tweet in mydata:\n",
    "    print tweet[1]+',', tweet[1]"
   ]
  },
  {
   "cell_type": "code",
   "execution_count": 18,
   "metadata": {},
   "outputs": [
    {
     "data": {
      "text/plain": [
       "[[u'charliehall300,',\n",
       "  u'#BladeRunner2049 just reminded me what cinema is capable of. Phenomenal.\\nFilm of the year (pre-Star Wars, of course).'],\n",
       " [u'istodius,',\n",
       "  u\"The longest 2.5 hours of my life...and, the most gratuitous needless use of naked young females I've seen for a long time #Bladerunner2049\"],\n",
       " [u'coachforward,',\n",
       "  u\"\\u201cI always told you. You're special. Your history isn't over yet. There's still a page left.\\u201d #BladeRunner2049 https://t.co/QcllcTaZi7\"],\n",
       " [u'DoomBoxPro,',\n",
       "  u\"So... #BladeRunner2049. Really good movie, definitely in my Top 10 of the year... But it is one of Denis' weakest &amp; the original is better.\"],\n",
       " [u'_clocolan,',\n",
       "  u'The music for #BladeRunner2049 was mostly everything it needed to be. A non-traditional soundtrack that fit this non-traditional film.']]"
      ]
     },
     "execution_count": 18,
     "metadata": {},
     "output_type": "execute_result"
    }
   ],
   "source": [
    "mention = []\n",
    "\n",
    "for tweet in mydata:\n",
    "    mention.append([tweet[0]+',', tweet[1]])\n",
    "    \n",
    "mention[:5]"
   ]
  },
  {
   "cell_type": "code",
   "execution_count": null,
   "metadata": {
    "collapsed": true
   },
   "outputs": [],
   "source": [
    "# computationally intensive ... very slow if you have a lot of data\n",
    "for i in mention:\n",
    "    print i[0], i[1]"
   ]
  },
  {
   "cell_type": "code",
   "execution_count": null,
   "metadata": {
    "collapsed": true
   },
   "outputs": [],
   "source": [
    "for tweet in mention:\n",
    "    print tweet[0], re.findall(r\"(?<=@)\\w+\", tweet[1])"
   ]
  },
  {
   "cell_type": "code",
   "execution_count": 20,
   "metadata": {
    "collapsed": true
   },
   "outputs": [],
   "source": [
    "#putting everything together\n",
    "import re\n",
    "import csv\n",
    "\n",
    "mention = []\n",
    "for tweet in mydata:\n",
    "    mention.append([tweet[0]+',', tweet[1]])    \n",
    "openfile = open(\"data/mentionnetwork.csv\", \"wb\")\n",
    "\n",
    "w = csv.writer(openfile)\n",
    "for tweet in mention:\n",
    "    a = re.findall(r\"(?<=@)\\w+\", tweet[1])\n",
    "    for i in a:\n",
    "        w.writerow([tweet[0], '@'+i])\n",
    "        \n",
    "openfile.close()"
   ]
  },
  {
   "cell_type": "code",
   "execution_count": 33,
   "metadata": {},
   "outputs": [
    {
     "data": {
      "text/plain": [
       "[('#bladerunner2049', 161),\n",
       " ('the', 131),\n",
       " ('is', 74),\n",
       " ('of', 69),\n",
       " ('a', 68),\n",
       " ('and', 58),\n",
       " ('to', 57),\n",
       " ('i', 51),\n",
       " (\"u'#bladerunner2049\", 49),\n",
       " ('in', 36)]"
      ]
     },
     "execution_count": 33,
     "metadata": {},
     "output_type": "execute_result"
    }
   ],
   "source": [
    "#convert lists to strings\n",
    "mention_string = str(mention)\n",
    "\n",
    "#lowercase\n",
    "mention_string = mention_string.lower()\n",
    "\n",
    "#tokenize\n",
    "mention_string = mention_string.split()\n",
    "\n",
    "fdist = nltk.FreqDist(mention_string)\n",
    "\n",
    "fdist.most_common(10)"
   ]
  },
  {
   "cell_type": "markdown",
   "metadata": {},
   "source": [
    "mentionnetwork.csv contains two columns representing relationships. Now. you can use **NodeXL** or **Gephi** for **network analytics**.\n",
    "\n",
    "You should perform various statistical analyses (e.g., centrality, degree) and modularity analysis using Gephi\n"
   ]
  },
  {
   "cell_type": "markdown",
   "metadata": {},
   "source": [
    "## Topic Modeling using Co-Hashtag Network Analysis\n",
    "\n",
    "- Identify co-appearing hashtags and build a network of co-appearing hashtags\n",
    "- Apply modularity (or network clustering) analysis and identify topics or themes\n",
    "- This is similar to topic modeling: the difference is that topic modeling uses texts, and this proposed approach uses hashtags and network analysis"
   ]
  },
  {
   "cell_type": "code",
   "execution_count": 34,
   "metadata": {},
   "outputs": [
    {
     "name": "stdout",
     "output_type": "stream",
     "text": [
      "Balade Runner est un film long, difficile à suivre parfois mais tellement fascinant. Hâte de voir #BladeRunner2049 !\n",
      "#BladeRunner2049 just reminded me what cinema is capable of. Phenomenal.\n",
      "Film of the year (pre-Star Wars, of course).\n"
     ]
    }
   ],
   "source": [
    "for tweet in tweets[:2]:\n",
    "    print tweet['text']"
   ]
  },
  {
   "cell_type": "code",
   "execution_count": 35,
   "metadata": {},
   "outputs": [
    {
     "data": {
      "text/plain": [
       "[u'#BladeRunner2049 just reminded me what cinema is capable of. Phenomenal.\\nFilm of the year (pre-Star Wars, of course).',\n",
       " u\"The longest 2.5 hours of my life...and, the most gratuitous needless use of naked young females I've seen for a long time #Bladerunner2049\"]"
      ]
     },
     "execution_count": 35,
     "metadata": {},
     "output_type": "execute_result"
    }
   ],
   "source": [
    "texts[:2]"
   ]
  },
  {
   "cell_type": "code",
   "execution_count": 36,
   "metadata": {},
   "outputs": [
    {
     "name": "stdout",
     "output_type": "stream",
     "text": [
      "#BladeRunner2049 just reminded me what cinema is capable of Phenomenal Film of the year pre Star Wars of course \n",
      "The longest 2 5 hours of my life and the most gratuitous needless use of naked young females I ve seen for a long time #Bladerunner2049\n"
     ]
    }
   ],
   "source": [
    "for i in texts[:2]:\n",
    "    print re.sub(\"[^a-zA-Z0-9#]+\", \" \", i)"
   ]
  },
  {
   "cell_type": "code",
   "execution_count": 37,
   "metadata": {},
   "outputs": [
    {
     "name": "stdout",
     "output_type": "stream",
     "text": [
      "['bladerunner2049']\n",
      "['bladerunner2049']\n",
      "['bladerunner2049']\n",
      "['bladerunner2049']\n",
      "['bladerunner2049']\n",
      "['bladerunner2049']\n",
      "['bladerunner2049', 'musicboxhr', 'review', 'movie']\n",
      "['bladerunner2049']\n",
      "['bladerunner2049']\n",
      "['bladerunner2049']\n"
     ]
    }
   ],
   "source": [
    "for i in texts[:10]:\n",
    "    data = re.sub(\"[^a-zA-Z0-9#]+\", \" \", i)\n",
    "    hashtag = re.findall(r\"(?<=#)\\w+\", str(data).lower())\n",
    "    print hashtag"
   ]
  },
  {
   "cell_type": "code",
   "execution_count": 38,
   "metadata": {
    "collapsed": true
   },
   "outputs": [],
   "source": [
    "datas = []\n",
    "for i in texts:\n",
    "    data = re.sub(\"[^a-zA-Z0-9#]+\", \" \", i)\n",
    "    hashtag = re.findall(r\"(?<=#)\\w+\", str(data).lower())\n",
    "    datas.append(hashtag)"
   ]
  },
  {
   "cell_type": "code",
   "execution_count": 39,
   "metadata": {},
   "outputs": [
    {
     "data": {
      "text/plain": [
       "[['bladerunner2049'],\n",
       " ['bladerunner2049'],\n",
       " ['bladerunner2049'],\n",
       " ['bladerunner2049'],\n",
       " ['bladerunner2049'],\n",
       " ['bladerunner2049'],\n",
       " ['bladerunner2049', 'musicboxhr', 'review', 'movie'],\n",
       " ['bladerunner2049'],\n",
       " ['bladerunner2049'],\n",
       " ['bladerunner2049'],\n",
       " ['bladerunner2049'],\n",
       " ['bladerunner2049'],\n",
       " ['thelastjedi',\n",
       "  'nfl',\n",
       "  'shadowofwar',\n",
       "  'marvel',\n",
       "  'bladerunner2049',\n",
       "  'mixcloud'],\n",
       " ['bladerunner2049'],\n",
       " ['bladerunner2049', 'stardustapp'],\n",
       " ['bladerunner2049'],\n",
       " ['bladerunner2049'],\n",
       " ['bladerunner2049'],\n",
       " ['movies', 'bladerunner2049', 'teamfollowback', 'rt'],\n",
       " ['bladerunner2049']]"
      ]
     },
     "execution_count": 39,
     "metadata": {},
     "output_type": "execute_result"
    }
   ],
   "source": [
    "datas[:20]"
   ]
  },
  {
   "cell_type": "code",
   "execution_count": 40,
   "metadata": {},
   "outputs": [
    {
     "data": {
      "text/plain": [
       "[('bladerunner2049', 'musicboxhr'),\n",
       " ('bladerunner2049', 'review'),\n",
       " ('bladerunner2049', 'movie'),\n",
       " ('musicboxhr', 'review'),\n",
       " ('musicboxhr', 'movie'),\n",
       " ('review', 'movie'),\n",
       " ('thelastjedi', 'nfl'),\n",
       " ('thelastjedi', 'shadowofwar'),\n",
       " ('thelastjedi', 'marvel'),\n",
       " ('thelastjedi', 'bladerunner2049')]"
      ]
     },
     "execution_count": 40,
     "metadata": {},
     "output_type": "execute_result"
    }
   ],
   "source": [
    "from itertools import combinations\n",
    "cohashtags = [x for d in datas for x in combinations(d, 2)]\n",
    "cohashtags[:10]"
   ]
  },
  {
   "cell_type": "code",
   "execution_count": 41,
   "metadata": {
    "collapsed": true
   },
   "outputs": [],
   "source": [
    "#for cohashtag analysis\n",
    "outfile = open(\"data/cohashtag_network.csv\", \"wb\")\n",
    "w = csv.writer(outfile)\n",
    "for i in cohashtags:\n",
    "    w.writerow(i)    \n",
    "outfile.close()"
   ]
  },
  {
   "cell_type": "code",
   "execution_count": 44,
   "metadata": {
    "collapsed": true
   },
   "outputs": [],
   "source": [
    "datas1 = []\n",
    "documents = [text for text in text1]\n",
    "# tokenize\n",
    "texts1 = [[word for word in text.lower().split() ] for text in documents]\n",
    "# stemming words: having --> have; friends --> friend\n",
    "lmtzr = WordNetLemmatizer()\n",
    "texts2 = [[lmtzr.lemmatize(word) for word in text ] for text in texts1]\n",
    "# remove common words \n",
    "stoplist = stopwords.words('english')\n",
    "texts3 = [[word for word in text if word not in stoplist] for text in texts2]\n",
    "#remove short words\n",
    "english_originaltweets_clean = [[ word for word in tokens if len(word) >= 3 ] for tokens in texts3]\n",
    "extra_stopwords = ['will', 'people', 'need', 'think', 'well','going', 'can', 'country', 'know', 'lot', 'get','make','way','president', 'want',\n",
    "                'like','say','got','said','just','something','tell','put','now', 'bad','back','want','right','every','one','use','come','never', \n",
    "                'many','along','things','day','also','first','guy', 'great', 'take', 'good', 'much','anderson', 'let', 'would', 'year', 'thing', 'america',\n",
    "                'talk', 'talking', 'thank', 'does', 'give', 'look', 'believe', 'tonight','today','see','that', 'this', 'em', 'wa', 'http', 'com', 'que','one',\n",
    "                  'want', 'would', 'also', 'unless','get','got','hey','hmm','hoo','hop','iep','let','ooo','par', 'original', 'ticket', 'world', 'comedy',\n",
    "                'book','ply','flying','what','yep','yer','aest','didn','nzdt','via','typed', 'impact','alongside','list', 'range', 'unique', 'basis','daily',\n",
    "                'one','com','new','like','great','make','top','awesome','best', 'question', 'answer', 'tonight', 'tomorrow', 'needed', 'better','absolutely',\n",
    "                'good','wow','yes','say','yay','would','thanks','thank','going', 'learned', 'another','apart','iyi', 'yle', 'entered', 'pack','definitely',\n",
    "                'new','use','should','could','really','see','want','nice', 'able', 'airline', 'made', 'called','two', 'play', 'yoooo','hang', 'looking', 'standup',\n",
    "                'while','know','free','today','day','always','last','put','live', 'trip', 'due', 'ask','asked', 'help', 'twice', 'anymore', 'everywhere','golden',\n",
    "                'week','went','wasn','was','used','ugh','try','kind', 'http','much', 'still', 'film', 'page', 'mostly','rode','set','elk', 'eraly', 'fuck', 'needle',\n",
    "                'need', 'next','app','ibm','appleevent','using','talk','film', 'totally','seen', 'told','yet','stll', 'non', 'hour', 'special', 'favourite', 'significant',\n",
    "                'time', 'take', 'movie', 'even', 'give','reminded', 'year', 'pre', 'saw', 'created', 'create', 'come', 'real', 'etc', 'dvd', 'find', 'enjoy',\n",
    "                'cinema', 'everything', 'fit', 'buy', 'tell', 'including', 'finally','guess', 'also', 'lot', 'plenty', 'someone','onto', 'every',\n",
    "               'everywhere', 'thought', 'watched', 'look', 'caught', 'love', 'loved', 'gave', 'per', 'actor', 'anyone', 'else', 'think',\n",
    "                 'theater','review','focus','act', 'dose','ever','thing','never', 'show','maintains','watch','added','justiced', 'action', 'amp',\n",
    "                  'recommend', 'taste', 'seeing', 'evening', 'treat','early', 'plus', 'open']\n",
    "extra_stoplist = extra_stopwords\n",
    "wo = [[word for word in text if word not in extra_stoplist] for text in english_originaltweets_clean]\n",
    "wo = [x for x in wo if x]\n",
    "datas1.append(wo)\n",
    " "
   ]
  },
  {
   "cell_type": "code",
   "execution_count": 45,
   "metadata": {
    "collapsed": true
   },
   "outputs": [],
   "source": [
    "#remove extra brackets\n",
    "datas1 = [x for y in datas1 for x in y]"
   ]
  },
  {
   "cell_type": "code",
   "execution_count": 46,
   "metadata": {},
   "outputs": [
    {
     "data": {
      "text/plain": [
       "[[u'capable', u'phenomenal', u'star', u'war', u'course'],\n",
       " [u'longest', u'life', u'gratuitous', u'naked', u'young', u'female', u'long'],\n",
       " [u'history', u'left'],\n",
       " [u'denis', u'weakest'],\n",
       " [u'music', u'traditional', u'soundtrack', u'traditional']]"
      ]
     },
     "execution_count": 46,
     "metadata": {},
     "output_type": "execute_result"
    }
   ],
   "source": [
    "datas1[:5]"
   ]
  },
  {
   "cell_type": "code",
   "execution_count": 47,
   "metadata": {},
   "outputs": [
    {
     "data": {
      "text/plain": [
       "[(u'capable', u'phenomenal'),\n",
       " (u'capable', u'star'),\n",
       " (u'capable', u'war'),\n",
       " (u'capable', u'course'),\n",
       " (u'phenomenal', u'star'),\n",
       " (u'phenomenal', u'war'),\n",
       " (u'phenomenal', u'course'),\n",
       " (u'star', u'war'),\n",
       " (u'star', u'course'),\n",
       " (u'war', u'course')]"
      ]
     },
     "execution_count": 47,
     "metadata": {},
     "output_type": "execute_result"
    }
   ],
   "source": [
    "from itertools import combinations\n",
    "cowords = [x for d in datas1 for x in combinations(d, 2)]\n",
    "cowords[:10]"
   ]
  },
  {
   "cell_type": "code",
   "execution_count": 48,
   "metadata": {
    "collapsed": true
   },
   "outputs": [],
   "source": [
    "#for cohashtag analysis\n",
    "outfile = open(\"data/coword_network.csv\", \"wb\")\n",
    "w = csv.writer(outfile)\n",
    "for i in cowords:\n",
    "    w.writerow(i)    \n",
    "outfile.close()"
   ]
  },
  {
   "cell_type": "code",
   "execution_count": 74,
   "metadata": {
    "collapsed": true
   },
   "outputs": [],
   "source": [
    "stoplist = stopwords.words('english')\n",
    "# A list of extra stopwords specific to the debates transcripts (if you want to remove more stopwords)\n",
    "extra_stopwords = ['amp','get','got','hey','hmm','hoo','hop','iep','let','ooo','par',\n",
    "            'pdt','pln','pst','wha','yep','yer','aest','didn','nzdt','via',\n",
    "            'one','com','new','like','great','make','top','awesome','best',\n",
    "            'good','wow','yes','say','yay','would','thanks','thank','going',\n",
    "            'new','use','should','could','really','see','want','nice',\n",
    "            'while','know','free','today','day','always','last','put','live',\n",
    "            'week','went','wasn','was','used','ugh','try','kind', 'http','much',\n",
    "            'need', 'next','app','ibm','appleevent','using']\n",
    "\n",
    "extra_stoplist = extra_stopwords\n",
    "stop = stoplist + extra_stoplist"
   ]
  },
  {
   "cell_type": "code",
   "execution_count": 142,
   "metadata": {
    "collapsed": true
   },
   "outputs": [],
   "source": [
    "from collections import defaultdict\n",
    "# remember to include the other import from the previous post\n",
    " \n",
    "com = defaultdict(lambda : defaultdict(int))\n",
    "terms_only = [term for term in texts_clean_completely2 if term not in stop and not term.startswith(('#', '@'))]\n",
    "# Build co-occurrence matrix\n",
    "for i in range(len(terms_only)-1):            \n",
    "    for j in range(i+1, len(terms_only)):\n",
    "        w1, w2 = sorted([terms_only[i], terms_only[j]])                \n",
    "        if w1 != w2:\n",
    "            com[w1][w2] += 1 \n",
    "            word = zip(w1,w2)"
   ]
  },
  {
   "cell_type": "code",
   "execution_count": null,
   "metadata": {
    "collapsed": true
   },
   "outputs": [],
   "source": []
  },
  {
   "cell_type": "code",
   "execution_count": 140,
   "metadata": {},
   "outputs": [
    {
     "name": "stdout",
     "output_type": "stream",
     "text": [
      "[(('', u'I just entered s contest to win a Prize Pack'), 189), (('', u'is on sale at Amazon for 10'), 135), (('', u'See why is an absolute triumph Get tickets'), 108), (('', u'star on the pressure of starring in via'), 81), (('', u'Take a glimpse into the future and see'), 81)]\n"
     ]
    }
   ],
   "source": [
    "import operator\n",
    "com_max = []\n",
    "# For each term, look for the most common co-occurrent terms\n",
    "for t1 in com:\n",
    "    t1_max_terms = sorted(com[t1].items(), key=operator.itemgetter(1), reverse=True)[:5]\n",
    "    for t2, t2_count in t1_max_terms:\n",
    "        com_max.append(((t1, t2), t2_count))\n",
    "# Get the most frequent co-occurrences\n",
    "terms_max = sorted(com_max, key=operator.itemgetter(1), reverse=True)\n",
    "print(terms_max[:5])\n"
   ]
  },
  {
   "cell_type": "code",
   "execution_count": null,
   "metadata": {
    "collapsed": true
   },
   "outputs": [],
   "source": []
  }
 ],
 "metadata": {
  "kernelspec": {
   "display_name": "Python 2",
   "language": "python",
   "name": "python2"
  },
  "language_info": {
   "codemirror_mode": {
    "name": "ipython",
    "version": 2
   },
   "file_extension": ".py",
   "mimetype": "text/x-python",
   "name": "python",
   "nbconvert_exporter": "python",
   "pygments_lexer": "ipython2",
   "version": "2.7.16"
  }
 },
 "nbformat": 4,
 "nbformat_minor": 1
}
